{
 "cells": [
  {
   "cell_type": "code",
   "execution_count": 1,
   "metadata": {},
   "outputs": [],
   "source": [
    "import pandas as pd\n",
    "import numpy as np\n",
    "import matplotlib.pyplot as plt\n",
    "import warnings\n",
    "warnings.filterwarnings(\"ignore\")\n",
    "\n"
   ]
  },
  {
   "cell_type": "code",
   "execution_count": 2,
   "metadata": {},
   "outputs": [],
   "source": [
    "train_file = 'Train.csv'\n",
    "test_file = 'Test.csv'\n",
    "\n"
   ]
  },
  {
   "cell_type": "code",
   "execution_count": 3,
   "metadata": {},
   "outputs": [],
   "source": [
    "df = pd.read_csv(train_file, index_col='ID')\n",
    "\n"
   ]
  },
  {
   "cell_type": "code",
   "execution_count": 4,
   "metadata": {},
   "outputs": [
    {
     "data": {
      "text/html": [
       "<div>\n",
       "<style scoped>\n",
       "    .dataframe tbody tr th:only-of-type {\n",
       "        vertical-align: middle;\n",
       "    }\n",
       "\n",
       "    .dataframe tbody tr th {\n",
       "        vertical-align: top;\n",
       "    }\n",
       "\n",
       "    .dataframe thead th {\n",
       "        text-align: right;\n",
       "    }\n",
       "</style>\n",
       "<table border=\"1\" class=\"dataframe\">\n",
       "  <thead>\n",
       "    <tr style=\"text-align: right;\">\n",
       "      <th></th>\n",
       "      <th>stock</th>\n",
       "      <th>Date</th>\n",
       "      <th>Open</th>\n",
       "      <th>High</th>\n",
       "      <th>Low</th>\n",
       "      <th>Close</th>\n",
       "      <th>holiday</th>\n",
       "      <th>unpredictability_score</th>\n",
       "    </tr>\n",
       "    <tr>\n",
       "      <th>ID</th>\n",
       "      <th></th>\n",
       "      <th></th>\n",
       "      <th></th>\n",
       "      <th></th>\n",
       "      <th></th>\n",
       "      <th></th>\n",
       "      <th></th>\n",
       "      <th></th>\n",
       "    </tr>\n",
       "  </thead>\n",
       "  <tbody>\n",
       "    <tr>\n",
       "      <th>id_0</th>\n",
       "      <td>0</td>\n",
       "      <td>2017-01-03</td>\n",
       "      <td>82.9961</td>\n",
       "      <td>82.7396</td>\n",
       "      <td>82.9144</td>\n",
       "      <td>82.8101</td>\n",
       "      <td>1</td>\n",
       "      <td>7</td>\n",
       "    </tr>\n",
       "    <tr>\n",
       "      <th>id_1</th>\n",
       "      <td>0</td>\n",
       "      <td>2017-01-04</td>\n",
       "      <td>83.1312</td>\n",
       "      <td>83.1669</td>\n",
       "      <td>83.3779</td>\n",
       "      <td>82.9690</td>\n",
       "      <td>0</td>\n",
       "      <td>7</td>\n",
       "    </tr>\n",
       "    <tr>\n",
       "      <th>id_2</th>\n",
       "      <td>0</td>\n",
       "      <td>2017-01-05</td>\n",
       "      <td>82.6622</td>\n",
       "      <td>82.7634</td>\n",
       "      <td>82.8984</td>\n",
       "      <td>82.8578</td>\n",
       "      <td>0</td>\n",
       "      <td>7</td>\n",
       "    </tr>\n",
       "    <tr>\n",
       "      <th>id_3</th>\n",
       "      <td>0</td>\n",
       "      <td>2017-01-06</td>\n",
       "      <td>83.0279</td>\n",
       "      <td>82.7950</td>\n",
       "      <td>82.8425</td>\n",
       "      <td>82.7385</td>\n",
       "      <td>0</td>\n",
       "      <td>7</td>\n",
       "    </tr>\n",
       "    <tr>\n",
       "      <th>id_4</th>\n",
       "      <td>0</td>\n",
       "      <td>2017-01-09</td>\n",
       "      <td>82.3761</td>\n",
       "      <td>82.0828</td>\n",
       "      <td>82.1473</td>\n",
       "      <td>81.8641</td>\n",
       "      <td>0</td>\n",
       "      <td>7</td>\n",
       "    </tr>\n",
       "  </tbody>\n",
       "</table>\n",
       "</div>"
      ],
      "text/plain": [
       "      stock        Date     Open     High      Low    Close  holiday  \\\n",
       "ID                                                                     \n",
       "id_0      0  2017-01-03  82.9961  82.7396  82.9144  82.8101        1   \n",
       "id_1      0  2017-01-04  83.1312  83.1669  83.3779  82.9690        0   \n",
       "id_2      0  2017-01-05  82.6622  82.7634  82.8984  82.8578        0   \n",
       "id_3      0  2017-01-06  83.0279  82.7950  82.8425  82.7385        0   \n",
       "id_4      0  2017-01-09  82.3761  82.0828  82.1473  81.8641        0   \n",
       "\n",
       "      unpredictability_score  \n",
       "ID                            \n",
       "id_0                       7  \n",
       "id_1                       7  \n",
       "id_2                       7  \n",
       "id_3                       7  \n",
       "id_4                       7  "
      ]
     },
     "execution_count": 4,
     "metadata": {},
     "output_type": "execute_result"
    }
   ],
   "source": [
    "df.head()\n",
    "\n"
   ]
  },
  {
   "cell_type": "code",
   "execution_count": 5,
   "metadata": {},
   "outputs": [
    {
     "data": {
      "text/html": [
       "<div>\n",
       "<style scoped>\n",
       "    .dataframe tbody tr th:only-of-type {\n",
       "        vertical-align: middle;\n",
       "    }\n",
       "\n",
       "    .dataframe tbody tr th {\n",
       "        vertical-align: top;\n",
       "    }\n",
       "\n",
       "    .dataframe thead th {\n",
       "        text-align: right;\n",
       "    }\n",
       "</style>\n",
       "<table border=\"1\" class=\"dataframe\">\n",
       "  <thead>\n",
       "    <tr style=\"text-align: right;\">\n",
       "      <th></th>\n",
       "      <th>stock</th>\n",
       "      <th>Date</th>\n",
       "      <th>holiday</th>\n",
       "      <th>unpredictability_score</th>\n",
       "    </tr>\n",
       "    <tr>\n",
       "      <th>ID</th>\n",
       "      <th></th>\n",
       "      <th></th>\n",
       "      <th></th>\n",
       "      <th></th>\n",
       "    </tr>\n",
       "  </thead>\n",
       "  <tbody>\n",
       "    <tr>\n",
       "      <th>id_713</th>\n",
       "      <td>0</td>\n",
       "      <td>2019-11-01</td>\n",
       "      <td>0</td>\n",
       "      <td>7</td>\n",
       "    </tr>\n",
       "    <tr>\n",
       "      <th>id_714</th>\n",
       "      <td>0</td>\n",
       "      <td>2019-11-04</td>\n",
       "      <td>0</td>\n",
       "      <td>7</td>\n",
       "    </tr>\n",
       "    <tr>\n",
       "      <th>id_715</th>\n",
       "      <td>0</td>\n",
       "      <td>2019-11-05</td>\n",
       "      <td>0</td>\n",
       "      <td>7</td>\n",
       "    </tr>\n",
       "    <tr>\n",
       "      <th>id_716</th>\n",
       "      <td>0</td>\n",
       "      <td>2019-11-06</td>\n",
       "      <td>0</td>\n",
       "      <td>7</td>\n",
       "    </tr>\n",
       "    <tr>\n",
       "      <th>id_717</th>\n",
       "      <td>0</td>\n",
       "      <td>2019-11-07</td>\n",
       "      <td>0</td>\n",
       "      <td>7</td>\n",
       "    </tr>\n",
       "  </tbody>\n",
       "</table>\n",
       "</div>"
      ],
      "text/plain": [
       "        stock        Date  holiday  unpredictability_score\n",
       "ID                                                        \n",
       "id_713      0  2019-11-01        0                       7\n",
       "id_714      0  2019-11-04        0                       7\n",
       "id_715      0  2019-11-05        0                       7\n",
       "id_716      0  2019-11-06        0                       7\n",
       "id_717      0  2019-11-07        0                       7"
      ]
     },
     "execution_count": 5,
     "metadata": {},
     "output_type": "execute_result"
    }
   ],
   "source": [
    "tdf = pd.read_csv(test_file, index_col='ID')\n",
    "tdf.head()\n"
   ]
  },
  {
   "cell_type": "code",
   "execution_count": 6,
   "metadata": {},
   "outputs": [
    {
     "name": "stdout",
     "output_type": "stream",
     "text": [
      "0\n",
      "0\n",
      "0\n",
      "0\n",
      "0\n",
      "0\n",
      "0\n",
      "0\n",
      "0\n",
      "0\n",
      "0\n",
      "0\n"
     ]
    }
   ],
   "source": [
    "for col in df.columns:\n",
    "    print(df[col].isnull().sum())\n",
    "for col in tdf.columns:\n",
    "    print(tdf[col].isnull().sum())\n",
    "    "
   ]
  },
  {
   "cell_type": "code",
   "execution_count": 7,
   "metadata": {},
   "outputs": [
    {
     "data": {
      "text/plain": [
       "(73439, (73439, 8))"
      ]
     },
     "execution_count": 7,
     "metadata": {},
     "output_type": "execute_result"
    }
   ],
   "source": [
    "df.index.nunique(), df.shape\n",
    "\n"
   ]
  },
  {
   "cell_type": "code",
   "execution_count": 8,
   "metadata": {},
   "outputs": [
    {
     "data": {
      "text/plain": [
       "(4223, (4223, 4))"
      ]
     },
     "execution_count": 8,
     "metadata": {},
     "output_type": "execute_result"
    }
   ],
   "source": [
    "tdf.index.nunique(), tdf.shape\n"
   ]
  },
  {
   "cell_type": "markdown",
   "metadata": {},
   "source": [
    "# data analysis\n"
   ]
  },
  {
   "cell_type": "code",
   "execution_count": 9,
   "metadata": {},
   "outputs": [
    {
     "data": {
      "text/plain": [
       "<matplotlib.axes._subplots.AxesSubplot at 0x7fb26561d310>"
      ]
     },
     "execution_count": 9,
     "metadata": {},
     "output_type": "execute_result"
    },
    {
     "data": {
      "image/png": "[encoded data removed]",
      "text/plain": [
       "<Figure size 432x288 with 1 Axes>"
      ]
     },
     "metadata": {
      "needs_background": "light"
     },
     "output_type": "display_data"
    }
   ],
   "source": [
    "df.unpredictability_score.value_counts(dropna=False, sort=True, ascending=True).sort_values().plot(kind='barh')\n",
    "\n"
   ]
  },
  {
   "cell_type": "code",
   "execution_count": 10,
   "metadata": {},
   "outputs": [
    {
     "data": {
      "text/plain": [
       "<matplotlib.axes._subplots.AxesSubplot at 0x7fb26557bb50>"
      ]
     },
     "execution_count": 10,
     "metadata": {},
     "output_type": "execute_result"
    },
    {
     "data": {
      "image/png": "[encoded data removed]",
      "text/plain": [
       "<Figure size 432x288 with 1 Axes>"
      ]
     },
     "metadata": {
      "needs_background": "light"
     },
     "output_type": "display_data"
    }
   ],
   "source": [
    "tdf.unpredictability_score.value_counts(dropna=False, sort=True, ascending=True).sort_values().plot(kind='barh')\n",
    "\n"
   ]
  },
  {
   "cell_type": "code",
   "execution_count": 11,
   "metadata": {},
   "outputs": [
    {
     "data": {
      "text/plain": [
       "1    0.097087\n",
       "2    0.097087\n",
       "3    0.097087\n",
       "5    0.097087\n",
       "6    0.097087\n",
       "7    0.097087\n",
       "8    0.097087\n",
       "0    0.106796\n",
       "4    0.106796\n",
       "9    0.106796\n",
       "Name: unpredictability_score, dtype: float64"
      ]
     },
     "execution_count": 11,
     "metadata": {},
     "output_type": "execute_result"
    }
   ],
   "source": [
    "df.unpredictability_score.value_counts(dropna=False, sort=True, ascending=True, normalize=True)\n",
    "\n"
   ]
  },
  {
   "cell_type": "code",
   "execution_count": 12,
   "metadata": {},
   "outputs": [
    {
     "data": {
      "text/plain": [
       "8    0.097087\n",
       "1    0.097087\n",
       "5    0.097087\n",
       "2    0.097087\n",
       "6    0.097087\n",
       "3    0.097087\n",
       "7    0.097087\n",
       "0    0.106796\n",
       "4    0.106796\n",
       "9    0.106796\n",
       "Name: unpredictability_score, dtype: float64"
      ]
     },
     "execution_count": 12,
     "metadata": {},
     "output_type": "execute_result"
    }
   ],
   "source": [
    "tdf.unpredictability_score.value_counts(dropna=False, sort=True, ascending=True, normalize=True)\n",
    "\n"
   ]
  },
  {
   "cell_type": "code",
   "execution_count": 13,
   "metadata": {},
   "outputs": [
    {
     "data": {
      "text/plain": [
       "<matplotlib.axes._subplots.AxesSubplot at 0x7fb265dfdc50>"
      ]
     },
     "execution_count": 13,
     "metadata": {},
     "output_type": "execute_result"
    },
    {
     "data": {
      "image/png": "[encoded data removed]",
      "text/plain": [
       "<Figure size 432x288 with 1 Axes>"
      ]
     },
     "metadata": {
      "needs_background": "light"
     },
     "output_type": "display_data"
    }
   ],
   "source": [
    "df.holiday.value_counts().plot(kind='barh')\n",
    "\n"
   ]
  },
  {
   "cell_type": "code",
   "execution_count": 14,
   "metadata": {},
   "outputs": [
    {
     "data": {
      "text/plain": [
       "<matplotlib.axes._subplots.AxesSubplot at 0x7fb26140c7d0>"
      ]
     },
     "execution_count": 14,
     "metadata": {},
     "output_type": "execute_result"
    },
    {
     "data": {
      "image/png": "[encoded data removed]",
      "text/plain": [
       "<Figure size 432x288 with 1 Axes>"
      ]
     },
     "metadata": {
      "needs_background": "light"
     },
     "output_type": "display_data"
    }
   ],
   "source": [
    "tdf.holiday.value_counts().plot(kind='barh')\n",
    "\n"
   ]
  },
  {
   "cell_type": "code",
   "execution_count": 15,
   "metadata": {},
   "outputs": [
    {
     "data": {
      "text/plain": [
       "<matplotlib.axes._subplots.AxesSubplot at 0x7fb26137b190>"
      ]
     },
     "execution_count": 15,
     "metadata": {},
     "output_type": "execute_result"
    },
    {
     "data": {
      "image/png": "[encoded data removed]",
      "text/plain": [
       "<Figure size 432x288 with 1 Axes>"
      ]
     },
     "metadata": {
      "needs_background": "light"
     },
     "output_type": "display_data"
    }
   ],
   "source": [
    "df[df['holiday'] == 1].unpredictability_score.value_counts(dropna=False, sort=True, ascending=True).sort_values().plot(kind='barh')\n"
   ]
  },
  {
   "cell_type": "code",
   "execution_count": 16,
   "metadata": {},
   "outputs": [
    {
     "data": {
      "text/plain": [
       "<matplotlib.axes._subplots.AxesSubplot at 0x7fb2612e8e50>"
      ]
     },
     "execution_count": 16,
     "metadata": {},
     "output_type": "execute_result"
    },
    {
     "data": {
      "image/png": "[encoded data removed]",
      "text/plain": [
       "<Figure size 432x288 with 1 Axes>"
      ]
     },
     "metadata": {
      "needs_background": "light"
     },
     "output_type": "display_data"
    }
   ],
   "source": [
    "tdf[tdf['holiday'] == 1].unpredictability_score.value_counts(dropna=False, sort=True, ascending=True).sort_values().plot(kind='barh')\n",
    "\n"
   ]
  },
  {
   "cell_type": "code",
   "execution_count": 17,
   "metadata": {},
   "outputs": [
    {
     "data": {
      "text/plain": [
       "<matplotlib.axes._subplots.AxesSubplot at 0x7fb26127b950>"
      ]
     },
     "execution_count": 17,
     "metadata": {},
     "output_type": "execute_result"
    },
    {
     "data": {
      "image/png": "[encoded data removed]",
      "text/plain": [
       "<Figure size 432x288 with 1 Axes>"
      ]
     },
     "metadata": {
      "needs_background": "light"
     },
     "output_type": "display_data"
    }
   ],
   "source": [
    "df[df['holiday'] == 0].unpredictability_score.value_counts(dropna=False, sort=True, ascending=True).sort_values().plot(kind='barh')\n",
    "\n"
   ]
  },
  {
   "cell_type": "code",
   "execution_count": 18,
   "metadata": {},
   "outputs": [
    {
     "data": {
      "text/plain": [
       "<matplotlib.axes._subplots.AxesSubplot at 0x7fb2611f3a90>"
      ]
     },
     "execution_count": 18,
     "metadata": {},
     "output_type": "execute_result"
    },
    {
     "data": {
      "image/png": "[encoded data removed]",
      "text/plain": [
       "<Figure size 432x288 with 1 Axes>"
      ]
     },
     "metadata": {
      "needs_background": "light"
     },
     "output_type": "display_data"
    }
   ],
   "source": [
    "tdf[tdf['holiday'] == 0].unpredictability_score.value_counts(dropna=False, sort=True, ascending=True).sort_values().plot(kind='barh')\n",
    "\n"
   ]
  },
  {
   "cell_type": "code",
   "execution_count": 19,
   "metadata": {},
   "outputs": [
    {
     "data": {
      "text/plain": [
       "Index([], dtype='object', name='ID')"
      ]
     },
     "execution_count": 19,
     "metadata": {},
     "output_type": "execute_result"
    }
   ],
   "source": [
    "df.index.intersection(tdf.index)\n"
   ]
  },
  {
   "cell_type": "code",
   "execution_count": 20,
   "metadata": {},
   "outputs": [
    {
     "data": {
      "text/plain": [
       "63     713\n",
       "82     713\n",
       "77     713\n",
       "14     713\n",
       "78     713\n",
       "      ... \n",
       "99     713\n",
       "36     713\n",
       "100    713\n",
       "37     713\n",
       "0      713\n",
       "Name: stock, Length: 103, dtype: int64"
      ]
     },
     "execution_count": 20,
     "metadata": {},
     "output_type": "execute_result"
    }
   ],
   "source": [
    "df.stock.value_counts(sort=True, dropna=False)\n",
    "\n"
   ]
  },
  {
   "cell_type": "code",
   "execution_count": 21,
   "metadata": {},
   "outputs": [
    {
     "data": {
      "text/plain": [
       "99    41\n",
       "45    41\n",
       "5     41\n",
       "9     41\n",
       "13    41\n",
       "      ..\n",
       "78    41\n",
       "82    41\n",
       "86    41\n",
       "90    41\n",
       "0     41\n",
       "Name: stock, Length: 103, dtype: int64"
      ]
     },
     "execution_count": 21,
     "metadata": {},
     "output_type": "execute_result"
    }
   ],
   "source": [
    "tdf.stock.value_counts(sort=True, dropna=False)\n",
    "\n"
   ]
  },
  {
   "cell_type": "code",
   "execution_count": 22,
   "metadata": {},
   "outputs": [
    {
     "data": {
      "text/plain": [
       "(0        0\n",
       " 1        1\n",
       " 2        2\n",
       " 3        3\n",
       " 4        4\n",
       "       ... \n",
       " 98      98\n",
       " 99      99\n",
       " 100    100\n",
       " 101    101\n",
       " 102    102\n",
       " Length: 103, dtype: int64,\n",
       " 103)"
      ]
     },
     "execution_count": 22,
     "metadata": {},
     "output_type": "execute_result"
    }
   ],
   "source": [
    "pd.Series(list(set(df.stock) & set(tdf.stock))), len(set(tdf.stock))\n"
   ]
  },
  {
   "cell_type": "code",
   "execution_count": 23,
   "metadata": {},
   "outputs": [],
   "source": [
    "for s in df.stock.unique():\n",
    "    # assert if unpredictabilty count is same\n",
    "    assert(len(df[df['stock'] == s].unpredictability_score.value_counts()) == 1)\n",
    "    assert(len(tdf[tdf['stock'] == s].unpredictability_score.value_counts()) == 1)\n",
    "    \n",
    "    # assert if dates are different \n",
    "    assert(len(df[df['stock'] == s].Date.value_counts()) == df[df['stock'] == s].Date.shape[0])\n",
    "    \n",
    "    assert(len(tdf[tdf['stock'] == s].Date.value_counts()) == tdf[tdf['stock'] == s].Date.shape[0])\n",
    "    \n",
    "    # are there any dates common between test and train for a stock\n",
    "    \n",
    "    assert(pd.Series(list(set(df[df['stock'] == s].Date) & set(tdf[tdf['stock'] == s].Date))).shape[0] == 0)\n",
    "    \n",
    "    "
   ]
  },
  {
   "cell_type": "code",
   "execution_count": 24,
   "metadata": {},
   "outputs": [
    {
     "data": {
      "image/png": "[encoded data removed]",
      "text/plain": [
       "<Figure size 432x288 with 1 Axes>"
      ]
     },
     "metadata": {
      "needs_background": "light"
     },
     "output_type": "display_data"
    }
   ],
   "source": [
    "for i in df.stock.unique():\n",
    "    df[df['stock'] == i]['Close'].plot(style='k')\n"
   ]
  },
  {
   "cell_type": "code",
   "execution_count": 25,
   "metadata": {},
   "outputs": [
    {
     "data": {
      "image/png": "[encoded data removed]",
      "text/plain": [
       "<Figure size 432x288 with 1 Axes>"
      ]
     },
     "metadata": {
      "needs_background": "light"
     },
     "output_type": "display_data"
    }
   ],
   "source": [
    "for i in df.stock.unique():\n",
    "    df[df['stock'] == i]['High'].plot(style='k')\n"
   ]
  },
  {
   "cell_type": "code",
   "execution_count": 26,
   "metadata": {},
   "outputs": [
    {
     "data": {
      "image/png": "[encoded data removed]",
      "text/plain": [
       "<Figure size 432x288 with 1 Axes>"
      ]
     },
     "metadata": {
      "needs_background": "light"
     },
     "output_type": "display_data"
    }
   ],
   "source": [
    "for i in df.stock.unique():\n",
    "    df[df['stock'] == i]['Low'].plot(style='k')\n"
   ]
  },
  {
   "cell_type": "code",
   "execution_count": 27,
   "metadata": {},
   "outputs": [],
   "source": [
    "t_min, t_max, test_min, test_max = '2017-01-03', '2019-10-31',  '2019-11-01',  '2019-12-31'\n",
    "for i in df.stock.unique():\n",
    "    assert(df[df['stock'] == i]['Date'].min() == t_min)\n",
    "    assert(df[df['stock'] == i]['Date'].max() == t_max)\n",
    "    assert(tdf[tdf['stock'] == i]['Date'].min() == test_min)\n",
    "    assert(tdf[tdf['stock'] == i]['Date'].max() == test_max)\n"
   ]
  },
  {
   "cell_type": "code",
   "execution_count": 28,
   "metadata": {},
   "outputs": [
    {
     "data": {
      "text/plain": [
       "Index(['stock', 'Date', 'Open', 'High', 'Low', 'holiday',\n",
       "       'unpredictability_score'],\n",
       "      dtype='object')"
      ]
     },
     "execution_count": 28,
     "metadata": {},
     "output_type": "execute_result"
    }
   ],
   "source": [
    "df.iloc[:, [0, 1, 2, 3, 4, 6, 7]].columns"
   ]
  },
  {
   "cell_type": "code",
   "execution_count": 29,
   "metadata": {},
   "outputs": [],
   "source": [
    "from sklearn.model_selection import train_test_split\n",
    "X = df.iloc[:, [0, 1, 2, 3, 4, 5, 6, 7]][df['stock'] == 1].reset_index(drop=True, inplace=False)\n",
    "y = df.iloc[:, [5]][df['stock'] == 1].reset_index(drop=True, inplace=False)\n",
    "X_train, X_test = train_test_split(X, test_size=.2)"
   ]
  },
  {
   "cell_type": "code",
   "execution_count": 30,
   "metadata": {},
   "outputs": [
    {
     "data": {
      "text/plain": [
       "((570, 8), (143, 8))"
      ]
     },
     "execution_count": 30,
     "metadata": {},
     "output_type": "execute_result"
    }
   ],
   "source": [
    "X_train.shape, X_test.shape"
   ]
  },
  {
   "cell_type": "code",
   "execution_count": 31,
   "metadata": {},
   "outputs": [],
   "source": [
    "from tsfresh import select_features\n",
    "from tsfresh.utilities.dataframe_functions import impute\n",
    "from tsfresh import extract_relevant_features\n",
    "from tsfresh.feature_extraction import settings, extract_features, MinimalFCParameters, EfficientFCParameters, ComprehensiveFCParameters"
   ]
  },
  {
   "cell_type": "code",
   "execution_count": 32,
   "metadata": {},
   "outputs": [
    {
     "data": {
      "text/html": [
       "<div>\n",
       "<style scoped>\n",
       "    .dataframe tbody tr th:only-of-type {\n",
       "        vertical-align: middle;\n",
       "    }\n",
       "\n",
       "    .dataframe tbody tr th {\n",
       "        vertical-align: top;\n",
       "    }\n",
       "\n",
       "    .dataframe thead th {\n",
       "        text-align: right;\n",
       "    }\n",
       "</style>\n",
       "<table border=\"1\" class=\"dataframe\">\n",
       "  <thead>\n",
       "    <tr style=\"text-align: right;\">\n",
       "      <th></th>\n",
       "      <th>stock</th>\n",
       "      <th>Date</th>\n",
       "      <th>Open</th>\n",
       "      <th>High</th>\n",
       "      <th>Low</th>\n",
       "      <th>Close</th>\n",
       "      <th>holiday</th>\n",
       "      <th>unpredictability_score</th>\n",
       "    </tr>\n",
       "  </thead>\n",
       "  <tbody>\n",
       "    <tr>\n",
       "      <th>680</th>\n",
       "      <td>1</td>\n",
       "      <td>2019-09-17</td>\n",
       "      <td>45.8787</td>\n",
       "      <td>45.7767</td>\n",
       "      <td>46.1886</td>\n",
       "      <td>45.9863</td>\n",
       "      <td>0</td>\n",
       "      <td>0</td>\n",
       "    </tr>\n",
       "    <tr>\n",
       "      <th>22</th>\n",
       "      <td>1</td>\n",
       "      <td>2017-02-03</td>\n",
       "      <td>38.5551</td>\n",
       "      <td>38.3790</td>\n",
       "      <td>38.8260</td>\n",
       "      <td>38.5994</td>\n",
       "      <td>0</td>\n",
       "      <td>0</td>\n",
       "    </tr>\n",
       "    <tr>\n",
       "      <th>285</th>\n",
       "      <td>1</td>\n",
       "      <td>2018-02-21</td>\n",
       "      <td>40.5539</td>\n",
       "      <td>40.3689</td>\n",
       "      <td>40.8355</td>\n",
       "      <td>40.5984</td>\n",
       "      <td>0</td>\n",
       "      <td>0</td>\n",
       "    </tr>\n",
       "    <tr>\n",
       "      <th>526</th>\n",
       "      <td>1</td>\n",
       "      <td>2019-02-06</td>\n",
       "      <td>42.8803</td>\n",
       "      <td>42.8343</td>\n",
       "      <td>43.1586</td>\n",
       "      <td>42.9094</td>\n",
       "      <td>0</td>\n",
       "      <td>0</td>\n",
       "    </tr>\n",
       "    <tr>\n",
       "      <th>15</th>\n",
       "      <td>1</td>\n",
       "      <td>2017-01-25</td>\n",
       "      <td>38.5551</td>\n",
       "      <td>38.3790</td>\n",
       "      <td>38.8260</td>\n",
       "      <td>38.5994</td>\n",
       "      <td>0</td>\n",
       "      <td>0</td>\n",
       "    </tr>\n",
       "    <tr>\n",
       "      <th>...</th>\n",
       "      <td>...</td>\n",
       "      <td>...</td>\n",
       "      <td>...</td>\n",
       "      <td>...</td>\n",
       "      <td>...</td>\n",
       "      <td>...</td>\n",
       "      <td>...</td>\n",
       "      <td>...</td>\n",
       "    </tr>\n",
       "    <tr>\n",
       "      <th>224</th>\n",
       "      <td>1</td>\n",
       "      <td>2017-11-21</td>\n",
       "      <td>40.3981</td>\n",
       "      <td>40.2138</td>\n",
       "      <td>40.6789</td>\n",
       "      <td>40.4426</td>\n",
       "      <td>0</td>\n",
       "      <td>0</td>\n",
       "    </tr>\n",
       "    <tr>\n",
       "      <th>97</th>\n",
       "      <td>1</td>\n",
       "      <td>2017-05-23</td>\n",
       "      <td>39.7024</td>\n",
       "      <td>39.6201</td>\n",
       "      <td>39.9795</td>\n",
       "      <td>39.8462</td>\n",
       "      <td>0</td>\n",
       "      <td>0</td>\n",
       "    </tr>\n",
       "    <tr>\n",
       "      <th>549</th>\n",
       "      <td>1</td>\n",
       "      <td>2019-03-12</td>\n",
       "      <td>43.6055</td>\n",
       "      <td>43.4111</td>\n",
       "      <td>43.8770</td>\n",
       "      <td>43.6545</td>\n",
       "      <td>0</td>\n",
       "      <td>0</td>\n",
       "    </tr>\n",
       "    <tr>\n",
       "      <th>166</th>\n",
       "      <td>1</td>\n",
       "      <td>2017-08-30</td>\n",
       "      <td>40.2638</td>\n",
       "      <td>40.0800</td>\n",
       "      <td>40.5438</td>\n",
       "      <td>40.3082</td>\n",
       "      <td>0</td>\n",
       "      <td>0</td>\n",
       "    </tr>\n",
       "    <tr>\n",
       "      <th>354</th>\n",
       "      <td>1</td>\n",
       "      <td>2018-05-31</td>\n",
       "      <td>40.6037</td>\n",
       "      <td>40.4184</td>\n",
       "      <td>40.8855</td>\n",
       "      <td>40.6482</td>\n",
       "      <td>0</td>\n",
       "      <td>0</td>\n",
       "    </tr>\n",
       "  </tbody>\n",
       "</table>\n",
       "<p>570 rows × 8 columns</p>\n",
       "</div>"
      ],
      "text/plain": [
       "     stock        Date     Open     High      Low    Close  holiday  \\\n",
       "680      1  2019-09-17  45.8787  45.7767  46.1886  45.9863        0   \n",
       "22       1  2017-02-03  38.5551  38.3790  38.8260  38.5994        0   \n",
       "285      1  2018-02-21  40.5539  40.3689  40.8355  40.5984        0   \n",
       "526      1  2019-02-06  42.8803  42.8343  43.1586  42.9094        0   \n",
       "15       1  2017-01-25  38.5551  38.3790  38.8260  38.5994        0   \n",
       "..     ...         ...      ...      ...      ...      ...      ...   \n",
       "224      1  2017-11-21  40.3981  40.2138  40.6789  40.4426        0   \n",
       "97       1  2017-05-23  39.7024  39.6201  39.9795  39.8462        0   \n",
       "549      1  2019-03-12  43.6055  43.4111  43.8770  43.6545        0   \n",
       "166      1  2017-08-30  40.2638  40.0800  40.5438  40.3082        0   \n",
       "354      1  2018-05-31  40.6037  40.4184  40.8855  40.6482        0   \n",
       "\n",
       "     unpredictability_score  \n",
       "680                       0  \n",
       "22                        0  \n",
       "285                       0  \n",
       "526                       0  \n",
       "15                        0  \n",
       "..                      ...  \n",
       "224                       0  \n",
       "97                        0  \n",
       "549                       0  \n",
       "166                       0  \n",
       "354                       0  \n",
       "\n",
       "[570 rows x 8 columns]"
      ]
     },
     "execution_count": 32,
     "metadata": {},
     "output_type": "execute_result"
    }
   ],
   "source": [
    "X_train"
   ]
  },
  {
   "cell_type": "code",
   "execution_count": 33,
   "metadata": {},
   "outputs": [],
   "source": [
    "# X_train = extract_features(X_train, default_fc_parameters=EfficientFCParameters(), \n",
    "#                           n_jobs=0, disable_progressbar=False, chunksize=None, column_id='stock', column_sort='Date')"
   ]
  },
  {
   "cell_type": "code",
   "execution_count": 34,
   "metadata": {},
   "outputs": [],
   "source": [
    "from tsfresh.utilities.dataframe_functions import roll_time_series"
   ]
  },
  {
   "cell_type": "code",
   "execution_count": 35,
   "metadata": {},
   "outputs": [
    {
     "name": "stderr",
     "output_type": "stream",
     "text": [
      "Rolling: 100%|██████████| 20/20 [00:00<00:00, 20.16it/s]\n"
     ]
    }
   ],
   "source": [
    "X_train_rolled = roll_time_series(X_train, column_id='stock', column_sort='Date')"
   ]
  },
  {
   "cell_type": "code",
   "execution_count": 36,
   "metadata": {},
   "outputs": [
    {
     "data": {
      "text/html": [
       "<div>\n",
       "<style scoped>\n",
       "    .dataframe tbody tr th:only-of-type {\n",
       "        vertical-align: middle;\n",
       "    }\n",
       "\n",
       "    .dataframe tbody tr th {\n",
       "        vertical-align: top;\n",
       "    }\n",
       "\n",
       "    .dataframe thead th {\n",
       "        text-align: right;\n",
       "    }\n",
       "</style>\n",
       "<table border=\"1\" class=\"dataframe\">\n",
       "  <thead>\n",
       "    <tr style=\"text-align: right;\">\n",
       "      <th></th>\n",
       "      <th>stock</th>\n",
       "      <th>Date</th>\n",
       "      <th>Open</th>\n",
       "      <th>High</th>\n",
       "      <th>Low</th>\n",
       "      <th>Close</th>\n",
       "      <th>holiday</th>\n",
       "      <th>unpredictability_score</th>\n",
       "      <th>id</th>\n",
       "    </tr>\n",
       "  </thead>\n",
       "  <tbody>\n",
       "    <tr>\n",
       "      <th>0</th>\n",
       "      <td>1</td>\n",
       "      <td>2017-01-03</td>\n",
       "      <td>38.4097</td>\n",
       "      <td>38.2343</td>\n",
       "      <td>38.6799</td>\n",
       "      <td>38.4540</td>\n",
       "      <td>1</td>\n",
       "      <td>0</td>\n",
       "      <td>(1, 2017-01-03)</td>\n",
       "    </tr>\n",
       "    <tr>\n",
       "      <th>1</th>\n",
       "      <td>1</td>\n",
       "      <td>2017-01-03</td>\n",
       "      <td>38.4097</td>\n",
       "      <td>38.2343</td>\n",
       "      <td>38.6799</td>\n",
       "      <td>38.4540</td>\n",
       "      <td>1</td>\n",
       "      <td>0</td>\n",
       "      <td>(1, 2017-01-04)</td>\n",
       "    </tr>\n",
       "    <tr>\n",
       "      <th>2</th>\n",
       "      <td>1</td>\n",
       "      <td>2017-01-04</td>\n",
       "      <td>38.5551</td>\n",
       "      <td>38.3790</td>\n",
       "      <td>38.8260</td>\n",
       "      <td>38.5994</td>\n",
       "      <td>0</td>\n",
       "      <td>0</td>\n",
       "      <td>(1, 2017-01-04)</td>\n",
       "    </tr>\n",
       "    <tr>\n",
       "      <th>3</th>\n",
       "      <td>1</td>\n",
       "      <td>2017-01-03</td>\n",
       "      <td>38.4097</td>\n",
       "      <td>38.2343</td>\n",
       "      <td>38.6799</td>\n",
       "      <td>38.4540</td>\n",
       "      <td>1</td>\n",
       "      <td>0</td>\n",
       "      <td>(1, 2017-01-06)</td>\n",
       "    </tr>\n",
       "    <tr>\n",
       "      <th>4</th>\n",
       "      <td>1</td>\n",
       "      <td>2017-01-04</td>\n",
       "      <td>38.5551</td>\n",
       "      <td>38.3790</td>\n",
       "      <td>38.8260</td>\n",
       "      <td>38.5994</td>\n",
       "      <td>0</td>\n",
       "      <td>0</td>\n",
       "      <td>(1, 2017-01-06)</td>\n",
       "    </tr>\n",
       "    <tr>\n",
       "      <th>...</th>\n",
       "      <td>...</td>\n",
       "      <td>...</td>\n",
       "      <td>...</td>\n",
       "      <td>...</td>\n",
       "      <td>...</td>\n",
       "      <td>...</td>\n",
       "      <td>...</td>\n",
       "      <td>...</td>\n",
       "      <td>...</td>\n",
       "    </tr>\n",
       "    <tr>\n",
       "      <th>147157</th>\n",
       "      <td>1</td>\n",
       "      <td>2019-10-18</td>\n",
       "      <td>45.6370</td>\n",
       "      <td>45.4827</td>\n",
       "      <td>45.8782</td>\n",
       "      <td>45.6595</td>\n",
       "      <td>0</td>\n",
       "      <td>0</td>\n",
       "      <td>(1, 2019-10-31)</td>\n",
       "    </tr>\n",
       "    <tr>\n",
       "      <th>147158</th>\n",
       "      <td>1</td>\n",
       "      <td>2019-10-22</td>\n",
       "      <td>45.6908</td>\n",
       "      <td>45.5543</td>\n",
       "      <td>45.9725</td>\n",
       "      <td>45.7447</td>\n",
       "      <td>0</td>\n",
       "      <td>0</td>\n",
       "      <td>(1, 2019-10-31)</td>\n",
       "    </tr>\n",
       "    <tr>\n",
       "      <th>147159</th>\n",
       "      <td>1</td>\n",
       "      <td>2019-10-25</td>\n",
       "      <td>45.8535</td>\n",
       "      <td>45.6797</td>\n",
       "      <td>46.1308</td>\n",
       "      <td>45.9002</td>\n",
       "      <td>0</td>\n",
       "      <td>0</td>\n",
       "      <td>(1, 2019-10-31)</td>\n",
       "    </tr>\n",
       "    <tr>\n",
       "      <th>147160</th>\n",
       "      <td>1</td>\n",
       "      <td>2019-10-28</td>\n",
       "      <td>45.8976</td>\n",
       "      <td>45.7155</td>\n",
       "      <td>46.1353</td>\n",
       "      <td>45.9425</td>\n",
       "      <td>0</td>\n",
       "      <td>0</td>\n",
       "      <td>(1, 2019-10-31)</td>\n",
       "    </tr>\n",
       "    <tr>\n",
       "      <th>147161</th>\n",
       "      <td>1</td>\n",
       "      <td>2019-10-31</td>\n",
       "      <td>45.7016</td>\n",
       "      <td>45.4934</td>\n",
       "      <td>45.9273</td>\n",
       "      <td>45.6817</td>\n",
       "      <td>0</td>\n",
       "      <td>0</td>\n",
       "      <td>(1, 2019-10-31)</td>\n",
       "    </tr>\n",
       "  </tbody>\n",
       "</table>\n",
       "<p>162735 rows × 9 columns</p>\n",
       "</div>"
      ],
      "text/plain": [
       "        stock        Date     Open     High      Low    Close  holiday  \\\n",
       "0           1  2017-01-03  38.4097  38.2343  38.6799  38.4540        1   \n",
       "1           1  2017-01-03  38.4097  38.2343  38.6799  38.4540        1   \n",
       "2           1  2017-01-04  38.5551  38.3790  38.8260  38.5994        0   \n",
       "3           1  2017-01-03  38.4097  38.2343  38.6799  38.4540        1   \n",
       "4           1  2017-01-04  38.5551  38.3790  38.8260  38.5994        0   \n",
       "...       ...         ...      ...      ...      ...      ...      ...   \n",
       "147157      1  2019-10-18  45.6370  45.4827  45.8782  45.6595        0   \n",
       "147158      1  2019-10-22  45.6908  45.5543  45.9725  45.7447        0   \n",
       "147159      1  2019-10-25  45.8535  45.6797  46.1308  45.9002        0   \n",
       "147160      1  2019-10-28  45.8976  45.7155  46.1353  45.9425        0   \n",
       "147161      1  2019-10-31  45.7016  45.4934  45.9273  45.6817        0   \n",
       "\n",
       "        unpredictability_score               id  \n",
       "0                            0  (1, 2017-01-03)  \n",
       "1                            0  (1, 2017-01-04)  \n",
       "2                            0  (1, 2017-01-04)  \n",
       "3                            0  (1, 2017-01-06)  \n",
       "4                            0  (1, 2017-01-06)  \n",
       "...                        ...              ...  \n",
       "147157                       0  (1, 2019-10-31)  \n",
       "147158                       0  (1, 2019-10-31)  \n",
       "147159                       0  (1, 2019-10-31)  \n",
       "147160                       0  (1, 2019-10-31)  \n",
       "147161                       0  (1, 2019-10-31)  \n",
       "\n",
       "[162735 rows x 9 columns]"
      ]
     },
     "execution_count": 36,
     "metadata": {},
     "output_type": "execute_result"
    }
   ],
   "source": [
    "X_train_rolled"
   ]
  },
  {
   "cell_type": "code",
   "execution_count": 37,
   "metadata": {},
   "outputs": [],
   "source": [
    "# X_train_features = extract_features(X_train_rolled, default_fc_parameters=EfficientFCParameters(), \n",
    "#                                     n_jobs=7, disable_progressbar=False, chunksize=None, column_id='stock', column_sort='Date')"
   ]
  },
  {
   "cell_type": "code",
   "execution_count": null,
   "metadata": {},
   "outputs": [],
   "source": []
  }
 ],
 "metadata": {
  "kernelspec": {
   "display_name": "Python 3",
   "language": "python",
   "name": "python3"
  },
  "language_info": {
   "codemirror_mode": {
    "name": "ipython",
    "version": 3
   },
   "file_extension": ".py",
   "mimetype": "text/x-python",
   "name": "python",
   "nbconvert_exporter": "python",
   "pygments_lexer": "ipython3",
   "version": "3.7.7"
  }
 },
 "nbformat": 4,
 "nbformat_minor": 2
}
