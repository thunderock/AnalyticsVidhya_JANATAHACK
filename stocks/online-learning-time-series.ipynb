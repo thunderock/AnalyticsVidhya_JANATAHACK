{
 "cells": [
  {
   "cell_type": "markdown",
   "metadata": {},
   "source": [
    "# Stock forecasting (comparing online with offline)"
   ]
  },
  {
   "cell_type": "code",
   "execution_count": 28,
   "metadata": {
    "execution": {
     "iopub.execute_input": "2020-11-25T20:56:24.292416Z",
     "iopub.status.busy": "2020-11-25T20:56:24.291940Z",
     "iopub.status.idle": "2020-11-25T20:56:25.384948Z",
     "shell.execute_reply": "2020-11-25T20:56:25.384466Z"
    }
   },
   "outputs": [],
   "source": [
    "from pprint import pprint\n",
    "from river import datasets\n",
    "from river import compose\n",
    "from river import linear_model\n",
    "from river import metrics\n",
    "from river import evaluate\n",
    "from river import preprocessing\n",
    "from river import optim\n",
    "from river import feature_extraction\n",
    "from river import stats\n",
    "from river import feature_extraction\n",
    "from river import stats\n",
    "import pandas as pd\n",
    "from river import stream\n",
    "from sklearn import pipeline\n",
    "\n",
    "df = stream.iter_csv(\"Train.csv\", target=\"Close\", seed=42, parse_dates={\n",
    "    'Date': \"%Y-%m-%d\"}, )"
   ]
  },
  {
   "cell_type": "code",
   "execution_count": 29,
   "metadata": {
    "execution": {
     "iopub.execute_input": "2020-11-25T20:56:25.416921Z",
     "iopub.status.busy": "2020-11-25T20:56:25.389806Z",
     "iopub.status.idle": "2020-11-25T20:56:41.567216Z",
     "shell.execute_reply": "2020-11-25T20:56:41.566740Z"
    }
   },
   "outputs": [
    {
     "data": {
      "text/plain": [
       "({'ID': 'id_0',\n",
       "  'stock': '0',\n",
       "  'Date': datetime.datetime(2017, 1, 3, 0, 0),\n",
       "  'Open': '82.9961',\n",
       "  'High': '82.7396',\n",
       "  'Low': '82.9144',\n",
       "  'holiday': '1',\n",
       "  'unpredictability_score': '7'},\n",
       " '82.8101')"
      ]
     },
     "execution_count": 29,
     "metadata": {},
     "output_type": "execute_result"
    }
   ],
   "source": [
    "next(df)"
   ]
  },
  {
   "cell_type": "code",
   "execution_count": null,
   "metadata": {},
   "outputs": [],
   "source": [
    "def get_additional(x):\n",
    "    x['hour'] = x['Date'].hour\n",
    "    x['dayofweek'] = x['Date'].dayofweek\n",
    "    x['day'] = x['Date'].day\n",
    "    x['year'] = x['Date'].year\n",
    "    x['year_diff'] = x['Date'].year - 2017\n",
    "    x['weekofyear'] = x['Date'].weekofyear\n",
    "    return x\n",
    "\n",
    "metric = metrics.MAE()\n",
    "\n"
   ]
  },
  {
   "cell_type": "code",
   "execution_count": 3,
   "metadata": {
    "execution": {
     "iopub.execute_input": "2020-11-25T20:56:41.589751Z",
     "iopub.status.busy": "2020-11-25T20:56:41.572682Z",
     "iopub.status.idle": "2020-11-25T20:57:06.473133Z",
     "shell.execute_reply": "2020-11-25T20:57:06.472640Z"
    }
   },
   "outputs": [
    {
     "name": "stdout",
     "output_type": "stream",
     "text": [
      "[20,000] MAE: 3.721246\n",
      "[40,000] MAE: 3.829972\n",
      "[60,000] MAE: 3.845068\n",
      "[80,000] MAE: 3.910259\n",
      "[100,000] MAE: 3.888652\n",
      "[120,000] MAE: 3.923727\n",
      "[140,000] MAE: 3.980953\n",
      "[160,000] MAE: 3.950034\n",
      "[180,000] MAE: 3.934545\n"
     ]
    },
    {
     "data": {
      "text/plain": [
       "MAE: 3.933498"
      ]
     },
     "execution_count": 3,
     "metadata": {},
     "output_type": "execute_result"
    }
   ],
   "source": [
    "\n",
    "model = pipeline.Pipeline([\n",
    "    ('addition_features': get_additional),\n",
    "    ('lin_reg': linear_model.LinearRegression(optimizer=optim.SGD(0.001)))\n",
    "])\n",
    "\n",
    "\n",
    "model += (\n",
    "    get_additional |\n",
    "    feature_extraction.TargetAgg(by=['station', 'hour'], how=stats.Mean())\n",
    "\n",
    ")\n",
    "model |= preprocessing.StandardScaler()\n",
    "model |= linear_model.LinearRegression(optimizer=optim.SGD(0.001))\n",
    "\n",
    "metric = metrics.MAE()\n",
    "\n",
    "evaluate.progressive_val_score(X_y, model, metric, print_every=20_000)"
   ]
  },
  {
   "cell_type": "markdown",
   "metadata": {},
   "source": [
    "By adding a single feature, we've managed to significantly reduce the mean absolute error. At this point you might think that the model is getting slightly complex, and is difficult to understand and test. Pipelines have the advantage of being terse, but they aren't always to debug. Thankfully `river` has some ways to relieve the pain.\n",
    "\n",
    "The first thing we can do it to draw the pipeline, to get an idea of how the data flows through it."
   ]
  },
  {
   "cell_type": "code",
   "execution_count": 4,
   "metadata": {
    "execution": {
     "iopub.execute_input": "2020-11-25T20:57:06.477405Z",
     "iopub.status.busy": "2020-11-25T20:57:06.476928Z",
     "iopub.status.idle": "2020-11-25T20:57:06.588576Z",
     "shell.execute_reply": "2020-11-25T20:57:06.588163Z"
    }
   },
   "outputs": [],
   "source": [
    "# model.draw?"
   ]
  },
  {
   "cell_type": "markdown",
   "metadata": {},
   "source": [
    "We can also use the `debug_one` method to see what happens to one particular instance. Let's train the model on the first 10,000 observations and then call `debug_one` on the next one. To do this, we will turn the `Bike` object into a Python generator with `iter()` function. The Pythonic way to read the first 10,000 elements of a generator is to use `itertools.islice`."
   ]
  },
  {
   "cell_type": "code",
   "execution_count": 5,
   "metadata": {
    "execution": {
     "iopub.execute_input": "2020-11-25T20:57:06.638894Z",
     "iopub.status.busy": "2020-11-25T20:57:06.594361Z",
     "iopub.status.idle": "2020-11-25T20:57:07.676817Z",
     "shell.execute_reply": "2020-11-25T20:57:07.677227Z"
    }
   },
   "outputs": [
    {
     "name": "stdout",
     "output_type": "stream",
     "text": [
      "0. Input\n",
      "--------\n",
      "clouds: 0 (int)\n",
      "description: clear sky (str)\n",
      "humidity: 52 (int)\n",
      "moment: 2016-04-10 19:03:27 (datetime)\n",
      "pressure: 1,001.00000 (float)\n",
      "station: place-esquirol (str)\n",
      "temperature: 19.00000 (float)\n",
      "wind: 7.70000 (float)\n",
      "\n",
      "1. Transformer union\n",
      "--------------------\n",
      "    1.0 Select\n",
      "    ----------\n",
      "    clouds: 0 (int)\n",
      "    humidity: 52 (int)\n",
      "    pressure: 1,001.00000 (float)\n",
      "    temperature: 19.00000 (float)\n",
      "    wind: 7.70000 (float)\n",
      "\n",
      "    1.1 get_hour | target_mean_by_station_and_hour\n",
      "    ----------------------------------------------\n",
      "    target_mean_by_station_and_hour: 7.97175 (float)\n",
      "\n",
      "clouds: 0 (int)\n",
      "humidity: 52 (int)\n",
      "pressure: 1,001.00000 (float)\n",
      "target_mean_by_station_and_hour: 7.97175 (float)\n",
      "temperature: 19.00000 (float)\n",
      "wind: 7.70000 (float)\n",
      "\n",
      "2. StandardScaler\n",
      "-----------------\n",
      "clouds: -1.36138 (float)\n",
      "humidity: -1.73083 (float)\n",
      "pressure: -1.26076 (float)\n",
      "target_mean_by_station_and_hour: 0.05496 (float)\n",
      "temperature: 1.76232 (float)\n",
      "wind: 1.45841 (float)\n",
      "\n",
      "3. LinearRegression\n",
      "-------------------\n",
      "Name                              Value      Weight     Contribution  \n",
      "                      Intercept    1.00000    6.58252        6.58252  \n",
      "                    temperature    1.76232    2.47030        4.35345  \n",
      "                         clouds   -1.36138   -1.92255        2.61732  \n",
      "target_mean_by_station_and_hour    0.05496    0.54167        0.02977  \n",
      "                           wind    1.45841   -0.77720       -1.13348  \n",
      "                       humidity   -1.73083    1.44921       -2.50833  \n",
      "                       pressure   -1.26076    3.78529       -4.77234  \n",
      "\n",
      "Prediction: 5.16889\n"
     ]
    }
   ],
   "source": [
    "x\n",
    "\n",
    "X_y = iter(datasets.Bikes())\n",
    "\n",
    "model = compose.Select('clouds', 'humidity', 'pressure', 'temperature', 'wind')\n",
    "model += (\n",
    "    get_hour |\n",
    "    feature_extraction.TargetAgg(by=['station', 'hour'], how=stats.Mean())\n",
    ")\n",
    "model |= preprocessing.StandardScaler()\n",
    "model |= linear_model.LinearRegression()\n",
    "\n",
    "for x, y in itertools.islice(X_y, 10000):\n",
    "    y_pred = model.predict_one(x)\n",
    "    model.learn_one(x, y)\n",
    "    \n",
    "x, y = next(X_y)\n",
    "print(model.debug_one(x))"
   ]
  },
  {
   "cell_type": "markdown",
   "metadata": {},
   "source": [
    "The `debug_one` method shows what happens to an input set of features, step by step.\n",
    "\n",
    "And now comes the catch. Up until now we've been using the `progressive_val_score` method from the `evaluate` module. What this does it that it sequentially predicts the output of an observation and updates the model immediately afterwards. This way of doing is often used for evaluating online learning models, but in some cases it is the wrong approach.\n",
    "\n",
    "The following paragraph is extremely important. When evaluating a machine learning model, the goal is to simulate production conditions in order to get a trust-worthy assessment of the performance of the model. In our case, we typically want to forecast the number of bikes available in a station, say, 30 minutes ahead. Then, once the 30 minutes have passed, the true number of available bikes will be available and we will be able to update the model using the features available 30 minutes ago. If you think about, this is exactly how a real-time machine learning system should work. The problem is that this isn't what the `progressive_val_score` method is emulating, indeed it is simply asking the model to predict the next observation, which is only a few minutes ahead, and then updates the model immediately. We can prove that this is flawed by adding a feature that measures a running average of the very recent values."
   ]
  },
  {
   "cell_type": "code",
   "execution_count": 6,
   "metadata": {
    "execution": {
     "iopub.execute_input": "2020-11-25T20:57:07.683303Z",
     "iopub.status.busy": "2020-11-25T20:57:07.682821Z",
     "iopub.status.idle": "2020-11-25T20:57:37.282567Z",
     "shell.execute_reply": "2020-11-25T20:57:37.282106Z"
    }
   },
   "outputs": [
    {
     "name": "stdout",
     "output_type": "stream",
     "text": [
      "[20,000] MAE: 20.159286\n",
      "[40,000] MAE: 10.458898\n",
      "[60,000] MAE: 7.2759\n",
      "[80,000] MAE: 5.715397\n",
      "[100,000] MAE: 4.775094\n",
      "[120,000] MAE: 4.138421\n",
      "[140,000] MAE: 3.682591\n",
      "[160,000] MAE: 3.35015\n",
      "[180,000] MAE: 3.091398\n"
     ]
    },
    {
     "data": {
      "text/plain": [
       "MAE: 3.06414"
      ]
     },
     "execution_count": 6,
     "metadata": {},
     "output_type": "execute_result"
    }
   ],
   "source": [
    "X_y = datasets.Bikes()\n",
    "\n",
    "model = compose.Select('clouds', 'humidity', 'pressure', 'temperature', 'wind')\n",
    "model += (\n",
    "    get_hour |\n",
    "    feature_extraction.TargetAgg(by=['station', 'hour'], how=stats.Mean()) + \n",
    "    feature_extraction.TargetAgg(by='station', how=stats.EWMean(0.5))\n",
    ")\n",
    "model |= preprocessing.StandardScaler()\n",
    "model |= linear_model.LinearRegression()\n",
    "\n",
    "metric = metrics.MAE()\n",
    "\n",
    "evaluate.progressive_val_score(X_y, model, metric, print_every=20_000)"
   ]
  },
  {
   "cell_type": "markdown",
   "metadata": {},
   "source": [
    "The score we got is too good to be true. This is simply because the problem is too easy. What we really want is to evaluate the model by forecasting 30 minutes ahead and only updating the model once the true values are available. This can be done using the `moment` and `delay` parameters in the  `progressive_val_score` method. The idea is that each observation of the stream of the data is shown twice to the model: once for making a prediction, and once for updating the model when the true value is revealed. The `moment` parameter determines which variable should be used as a timestamp, while the `delay` parameter controls the duration to wait before revealing the true values to the model."
   ]
  },
  {
   "cell_type": "code",
   "execution_count": 7,
   "metadata": {
    "execution": {
     "iopub.execute_input": "2020-11-25T20:57:37.293939Z",
     "iopub.status.busy": "2020-11-25T20:57:37.287952Z",
     "iopub.status.idle": "2020-11-25T20:58:06.811866Z",
     "shell.execute_reply": "2020-11-25T20:58:06.812301Z"
    }
   },
   "outputs": [
    {
     "name": "stdout",
     "output_type": "stream",
     "text": [
      "[20,000] MAE: 2.24812\n",
      "[40,000] MAE: 2.240287\n",
      "[60,000] MAE: 2.270287\n",
      "[80,000] MAE: 2.28649\n",
      "[100,000] MAE: 2.294264\n",
      "[120,000] MAE: 2.275891\n",
      "[140,000] MAE: 2.261411\n",
      "[160,000] MAE: 2.285978\n",
      "[180,000] MAE: 2.289353\n"
     ]
    },
    {
     "data": {
      "text/plain": [
       "MAE: 2.29304"
      ]
     },
     "execution_count": 7,
     "metadata": {},
     "output_type": "execute_result"
    }
   ],
   "source": [
    "import datetime as dt\n",
    "\n",
    "model = compose.Select('clouds', 'humidity', 'pressure', 'temperature', 'wind')\n",
    "model += (\n",
    "    get_hour |\n",
    "    feature_extraction.TargetAgg(by=['station', 'hour'], how=stats.Mean()) + \n",
    "    feature_extraction.TargetAgg(by='station', how=stats.EWMean(0.5))\n",
    ")\n",
    "model |= preprocessing.StandardScaler()\n",
    "model |= linear_model.LinearRegression()\n",
    "\n",
    "evaluate.progressive_val_score(\n",
    "    dataset=datasets.Bikes(),\n",
    "    model=model,\n",
    "    metric=metrics.MAE(),\n",
    "    moment='moment',\n",
    "    delay=dt.timedelta(minutes=30),\n",
    "    print_every=20_000\n",
    ")"
   ]
  },
  {
   "cell_type": "markdown",
   "metadata": {},
   "source": [
    "The score we now have is much more realistic, as it is comparable with the [related data science competition](https://maxhalford.github.io/blog/openbikes-challenge/). Moreover, we can see that the model gets better with time, which feels better than the previous situations. The point is that `progressive_val_score` method can be used to simulate a production scenario, and is thus extremely valuable.\n",
    "\n",
    "Now that we have a working pipeline in place, we can attempt to make it more accurate. As a simple example, we'll using a `EWARegressor` from the `expert` module to combine 3 linear regression model trained with different optimizers. The `EWARegressor` will run the 3 models in parallel and assign weights to each model based on their individual performance."
   ]
  },
  {
   "cell_type": "code",
   "execution_count": 8,
   "metadata": {
    "execution": {
     "iopub.execute_input": "2020-11-25T20:58:06.824414Z",
     "iopub.status.busy": "2020-11-25T20:58:06.818480Z",
     "iopub.status.idle": "2020-11-25T20:58:46.438694Z",
     "shell.execute_reply": "2020-11-25T20:58:46.437892Z"
    }
   },
   "outputs": [
    {
     "name": "stdout",
     "output_type": "stream",
     "text": [
      "[20,000] MAE: 2.253263\n",
      "[40,000] MAE: 2.242859\n",
      "[60,000] MAE: 2.272001\n",
      "[80,000] MAE: 2.287776\n",
      "[100,000] MAE: 2.295292\n",
      "[120,000] MAE: 2.276748\n",
      "[140,000] MAE: 2.262146\n",
      "[160,000] MAE: 2.286621\n",
      "[180,000] MAE: 2.289925\n"
     ]
    },
    {
     "data": {
      "text/plain": [
       "MAE: 2.293604"
      ]
     },
     "execution_count": 8,
     "metadata": {},
     "output_type": "execute_result"
    }
   ],
   "source": [
    "from river import expert\n",
    "from river import optim\n",
    "\n",
    "model = compose.Select('clouds', 'humidity', 'pressure', 'temperature', 'wind')\n",
    "model += (\n",
    "    get_hour |\n",
    "    feature_extraction.TargetAgg(by=['station', 'hour'], how=stats.Mean())\n",
    ")\n",
    "model += feature_extraction.TargetAgg(by='station', how=stats.EWMean(0.5))\n",
    "model |= preprocessing.StandardScaler()\n",
    "model |= expert.EWARegressor([\n",
    "    linear_model.LinearRegression(optim.SGD()),\n",
    "    linear_model.LinearRegression(optim.RMSProp()),\n",
    "    linear_model.LinearRegression(optim.Adam())\n",
    "])\n",
    "\n",
    "evaluate.progressive_val_score(\n",
    "    dataset=datasets.Bikes(),\n",
    "    model=model,\n",
    "    metric=metrics.MAE(),\n",
    "    moment='moment',\n",
    "    delay=dt.timedelta(minutes=30),\n",
    "    print_every=20_000\n",
    ")"
   ]
  },
  {
   "cell_type": "code",
   "execution_count": null,
   "metadata": {},
   "outputs": [],
   "source": []
  }
 ],
 "metadata": {
  "kernelspec": {
   "display_name": "Python 3",
   "language": "python",
   "name": "python3"
  },
  "language_info": {
   "codemirror_mode": {
    "name": "ipython",
    "version": 3
   },
   "file_extension": ".py",
   "mimetype": "text/x-python",
   "name": "python",
   "nbconvert_exporter": "python",
   "pygments_lexer": "ipython3",
   "version": "3.6.8"
  }
 },
 "nbformat": 4,
 "nbformat_minor": 4
}
