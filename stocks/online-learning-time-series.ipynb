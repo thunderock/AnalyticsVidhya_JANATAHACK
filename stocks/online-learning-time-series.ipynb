{
 "cells": [
  {
   "cell_type": "markdown",
   "metadata": {},
   "source": [
    "# Stock forecasting (comparing online with offline)"
   ]
  },
  {
   "cell_type": "code",
   "execution_count": 54,
   "metadata": {
    "execution": {
     "iopub.execute_input": "2020-11-25T20:56:24.292416Z",
     "iopub.status.busy": "2020-11-25T20:56:24.291940Z",
     "iopub.status.idle": "2020-11-25T20:56:25.384948Z",
     "shell.execute_reply": "2020-11-25T20:56:25.384466Z"
    }
   },
   "outputs": [],
   "source": [
    "from pprint import pprint\n",
    "from river import datasets\n",
    "from river import compose\n",
    "from river import linear_model\n",
    "from river import metrics\n",
    "from river import evaluate\n",
    "from river import preprocessing\n",
    "from river import optim\n",
    "from river import feature_extraction\n",
    "from river import stats\n",
    "from river import feature_extraction\n",
    "from river import stats\n",
    "import pandas as pd\n",
    "from river import stream\n",
    "from sklearn import pipeline\n",
    "import numbers\n",
    "\n",
    "df = stream.iter_csv(\"Train.csv\", target=\"Close\", seed=42, parse_dates={\n",
    "    'Date': \"%Y-%m-%d\"}, converters={\n",
    "    \"High\": float,\n",
    "    \"Open\": float,\n",
    "    \"Close\": float,\n",
    "    \"Low\": float,\n",
    "    \"holiday\": int,\n",
    "    \"Close\": float,\n",
    "    \"stock\": int,\n",
    "    \"unpredictability_score\": int\n",
    "})"
   ]
  },
  {
   "cell_type": "code",
   "execution_count": 55,
   "metadata": {
    "execution": {
     "iopub.execute_input": "2020-11-25T20:56:25.416921Z",
     "iopub.status.busy": "2020-11-25T20:56:25.389806Z",
     "iopub.status.idle": "2020-11-25T20:56:41.567216Z",
     "shell.execute_reply": "2020-11-25T20:56:41.566740Z"
    }
   },
   "outputs": [],
   "source": [
    "# next(df)"
   ]
  },
  {
   "cell_type": "code",
   "execution_count": 56,
   "metadata": {},
   "outputs": [],
   "source": [
    "def get_additional(x):\n",
    "    x['hour'] = x['Date'].hour\n",
    "#     x['dayofweek'] = x['Date'].dayofweek\n",
    "    x['day'] = x['Date'].day\n",
    "    x['year'] = x['Date'].year\n",
    "    x['year_diff'] = x['Date'].year - 2017\n",
    "#     x['weekofyear'] = x['Date'].weekofyear\n",
    "    \n",
    "    x['month'] = x['Date'].month\n",
    "    return x\n",
    "\n",
    "\n",
    "\n"
   ]
  },
  {
   "cell_type": "code",
   "execution_count": 57,
   "metadata": {
    "execution": {
     "iopub.execute_input": "2020-11-25T20:56:41.589751Z",
     "iopub.status.busy": "2020-11-25T20:56:41.572682Z",
     "iopub.status.idle": "2020-11-25T20:57:06.473133Z",
     "shell.execute_reply": "2020-11-25T20:57:06.472640Z"
    }
   },
   "outputs": [
    {
     "name": "stdout",
     "output_type": "stream",
     "text": [
      "[10,000] MAE: 1.704151\n",
      "[20,000] MAE: 1.13174\n",
      "[30,000] MAE: 0.854431\n",
      "[40,000] MAE: 0.74139\n",
      "[50,000] MAE: 0.64713\n",
      "[60,000] MAE: 0.583343\n",
      "[70,000] MAE: 0.55578\n"
     ]
    },
    {
     "data": {
      "text/plain": [
       "MAE: 0.555864"
      ]
     },
     "execution_count": 57,
     "metadata": {},
     "output_type": "execute_result"
    }
   ],
   "source": [
    "\n",
    "num_columns = ['Open', 'Low', 'High']\n",
    "cat_columns = ['holiday']\n",
    "num = compose.Select(*num_columns) | preprocessing.StandardScaler()\n",
    "cat = compose.Select(*cat_columns) | preprocessing.OneHotEncoder()\n",
    " \n",
    "model = (num + cat) \n",
    "\n",
    "model |= preprocessing.StandardScaler()\n",
    "model |= linear_model.LinearRegression(optimizer=optim.SGD(0.01))\n",
    "\n",
    "metric = metrics.MAE()\n",
    "\n",
    "evaluate.progressive_val_score(df, model, metric, print_every=10_000)"
   ]
  }
 ],
 "metadata": {
  "kernelspec": {
   "display_name": "Python 3",
   "language": "python",
   "name": "python3"
  },
  "language_info": {
   "codemirror_mode": {
    "name": "ipython",
    "version": 3
   },
   "file_extension": ".py",
   "mimetype": "text/x-python",
   "name": "python",
   "nbconvert_exporter": "python",
   "pygments_lexer": "ipython3",
   "version": "3.6.8"
  }
 },
 "nbformat": 4,
 "nbformat_minor": 4
}
