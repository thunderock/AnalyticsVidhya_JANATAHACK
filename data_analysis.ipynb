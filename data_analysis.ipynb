{
 "cells": [
  {
   "cell_type": "code",
   "execution_count": null,
   "metadata": {
    "execution": {
     "iopub.execute_input": "2020-08-22T04:34:56.412Z",
     "iopub.status.busy": "2020-08-22T04:34:56.393Z",
     "iopub.status.idle": "2020-08-22T04:34:56.678Z",
     "shell.execute_reply": "2020-08-22T04:34:56.735Z"
    }
   },
   "outputs": [],
   "source": [
    "import pandas as pd\n",
    "import numpy as np\n",
    "import matplotlib.pyplot as plt\n",
    "%matplotlib inline\n",
    "import re\n",
    "from nltk.corpus import stopwords\n",
    "from tqdm import tqdm\n",
    "import nltk\n",
    "tqdm.pandas()\n"
   ]
  },
  {
   "cell_type": "code",
   "execution_count": null,
   "metadata": {
    "execution": {
     "iopub.execute_input": "2020-08-22T04:34:56.710Z",
     "iopub.status.busy": "2020-08-22T04:34:56.699Z",
     "iopub.status.idle": "2020-08-22T04:34:56.871Z",
     "shell.execute_reply": "2020-08-22T04:34:57.029Z"
    }
   },
   "outputs": [],
   "source": [
    "df = pd.read_csv('train.csv')\n",
    "df.head()"
   ]
  },
  {
   "cell_type": "code",
   "execution_count": null,
   "metadata": {
    "execution": {
     "iopub.execute_input": "2020-08-22T04:34:56.900Z",
     "iopub.status.busy": "2020-08-22T04:34:56.889Z",
     "iopub.status.idle": "2020-08-22T04:34:56.923Z",
     "shell.execute_reply": "2020-08-22T04:34:57.043Z"
    }
   },
   "outputs": [],
   "source": [
    "df.shape"
   ]
  },
  {
   "cell_type": "code",
   "execution_count": null,
   "metadata": {
    "execution": {
     "iopub.execute_input": "2020-08-22T04:34:56.953Z",
     "iopub.status.busy": "2020-08-22T04:34:56.939Z",
     "iopub.status.idle": "2020-08-22T04:34:56.970Z",
     "shell.execute_reply": "2020-08-22T04:34:57.060Z"
    }
   },
   "outputs": [],
   "source": [
    "# df['Computer Science'].value_counts(), df['Physics'].value_counts(), df['Mathematics'].value_counts()"
   ]
  },
  {
   "cell_type": "code",
   "execution_count": null,
   "metadata": {
    "execution": {
     "iopub.execute_input": "2020-08-22T04:34:56.998Z",
     "iopub.status.busy": "2020-08-22T04:34:56.987Z",
     "iopub.status.idle": "2020-08-22T04:34:57.080Z",
     "shell.execute_reply": "2020-08-22T04:34:57.066Z"
    }
   },
   "outputs": [],
   "source": [
    "# fig, ax = plt.subplots()\n",
    "# df.ABSTRACT.str.len().value_counts().plot(ax=ax, kind='bar')\n",
    "\n",
    "# df.TITLE.str.len().value_counts().plot(ax=ax, kind='bar')\n"
   ]
  },
  {
   "cell_type": "code",
   "execution_count": null,
   "metadata": {
    "execution": {
     "iopub.execute_input": "2020-08-22T04:34:57.122Z",
     "iopub.status.busy": "2020-08-22T04:34:57.106Z",
     "iopub.status.idle": "2020-08-22T04:34:57.233Z",
     "shell.execute_reply": "2020-08-22T04:34:57.287Z"
    }
   },
   "outputs": [],
   "source": [
    "df.ABSTRACT.str.len().describe()"
   ]
  },
  {
   "cell_type": "code",
   "execution_count": null,
   "metadata": {
    "execution": {
     "iopub.execute_input": "2020-08-22T04:34:57.263Z",
     "iopub.status.busy": "2020-08-22T04:34:57.252Z",
     "iopub.status.idle": "2020-08-22T04:34:57.319Z",
     "shell.execute_reply": "2020-08-22T04:34:57.370Z"
    }
   },
   "outputs": [],
   "source": [
    "df.TITLE.str.len().describe()"
   ]
  },
  {
   "cell_type": "code",
   "execution_count": null,
   "metadata": {
    "execution": {
     "iopub.execute_input": "2020-08-22T04:34:57.348Z",
     "iopub.status.busy": "2020-08-22T04:34:57.337Z",
     "iopub.status.idle": "2020-08-22T04:34:57.427Z",
     "shell.execute_reply": "2020-08-22T04:34:57.477Z"
    }
   },
   "outputs": [],
   "source": [
    "np.max(df.TITLE.str.len()), np.min(df.TITLE.str.len())"
   ]
  },
  {
   "cell_type": "code",
   "execution_count": null,
   "metadata": {
    "execution": {
     "iopub.execute_input": "2020-08-22T04:34:57.454Z",
     "iopub.status.busy": "2020-08-22T04:34:57.443Z",
     "iopub.status.idle": "2020-08-22T04:34:57.544Z",
     "shell.execute_reply": "2020-08-22T04:34:57.593Z"
    }
   },
   "outputs": [],
   "source": [
    "np.max(df.ABSTRACT.str.len()), np.min(df.ABSTRACT.str.len())"
   ]
  },
  {
   "cell_type": "code",
   "execution_count": null,
   "metadata": {
    "execution": {
     "iopub.execute_input": "2020-08-22T04:34:57.571Z",
     "iopub.status.busy": "2020-08-22T04:34:57.561Z",
     "iopub.status.idle": "2020-08-22T04:34:57.649Z",
     "shell.execute_reply": "2020-08-22T04:34:57.699Z"
    }
   },
   "outputs": [],
   "source": [
    "df.ABSTRACT.str.len().value_counts().sort_index()"
   ]
  },
  {
   "cell_type": "code",
   "execution_count": null,
   "metadata": {
    "execution": {
     "iopub.execute_input": "2020-08-22T04:34:57.675Z",
     "iopub.status.busy": "2020-08-22T04:34:57.665Z",
     "iopub.status.idle": "2020-08-22T04:34:57.744Z",
     "shell.execute_reply": "2020-08-22T04:34:57.794Z"
    }
   },
   "outputs": [],
   "source": [
    "df.TITLE.str.len().value_counts().sort_index()"
   ]
  },
  {
   "cell_type": "code",
   "execution_count": null,
   "metadata": {
    "execution": {
     "iopub.execute_input": "2020-08-22T04:34:57.772Z",
     "iopub.status.busy": "2020-08-22T04:34:57.762Z",
     "iopub.status.idle": "2020-08-22T04:35:01.121Z",
     "shell.execute_reply": "2020-08-22T04:35:01.229Z"
    }
   },
   "outputs": [],
   "source": [
    "\n",
    "def data_text_preprocess(total_text):\n",
    "    # Remove int values from text data as that might not be imp\n",
    "    if type(total_text) is not int:\n",
    "        string = \"\"\n",
    "        # replacing all special char with space\n",
    "        total_text = re.sub('[^a-zA-Z0-9\\n]', ' ', str(total_text))\n",
    "        # replacing multiple spaces with single space\n",
    "        total_text = re.sub('\\s+',' ', str(total_text))\n",
    "        # bring whole text to same lower-case scale.\n",
    "#         total_text = total_text.lower()\n",
    "#         total_text = nltk.pos_tag(total_text.split())\n",
    "#         total_text = \" \".join([i[0] for i in total_text if \"NN\" in i[1]])\n",
    "        for word in total_text.split():\n",
    "            #if not word in stop_words:\n",
    "            string += word + \" \"\n",
    "        \n",
    "        return string\n",
    "    return \"\"\n",
    "stop_words = set(stopwords.words('english'))\n",
    "\n",
    "df['ABSTRACT'] = df['ABSTRACT'].progress_apply(lambda x: data_text_preprocess(x))\n",
    "df['TITLE'] = df['TITLE'].progress_apply(lambda x: data_text_preprocess(x))"
   ]
  },
  {
   "cell_type": "code",
   "execution_count": null,
   "metadata": {
    "execution": {
     "iopub.execute_input": "2020-08-22T04:35:01.147Z",
     "iopub.status.busy": "2020-08-22T04:35:01.136Z",
     "iopub.status.idle": "2020-08-22T04:35:01.170Z",
     "shell.execute_reply": "2020-08-22T04:35:01.239Z"
    }
   },
   "outputs": [],
   "source": [
    "df.head()"
   ]
  },
  {
   "cell_type": "code",
   "execution_count": null,
   "metadata": {
    "execution": {
     "iopub.execute_input": "2020-08-22T04:35:01.198Z",
     "iopub.status.busy": "2020-08-22T04:35:01.188Z",
     "iopub.status.idle": "2020-08-22T04:35:01.269Z",
     "shell.execute_reply": "2020-08-22T04:35:01.249Z"
    }
   },
   "outputs": [],
   "source": [
    "df.ABSTRACT.str.len().value_counts().sort_index()"
   ]
  },
  {
   "cell_type": "code",
   "execution_count": null,
   "metadata": {
    "execution": {
     "iopub.execute_input": "2020-08-22T04:35:01.297Z",
     "iopub.status.busy": "2020-08-22T04:35:01.286Z",
     "iopub.status.idle": "2020-08-22T04:35:01.336Z",
     "shell.execute_reply": "2020-08-22T04:35:01.387Z"
    }
   },
   "outputs": [],
   "source": [
    "df.TITLE.str.len().value_counts().sort_index()"
   ]
  },
  {
   "cell_type": "code",
   "execution_count": null,
   "metadata": {
    "execution": {
     "iopub.execute_input": "2020-08-22T04:35:01.363Z",
     "iopub.status.busy": "2020-08-22T04:35:01.353Z",
     "iopub.status.idle": "2020-08-22T04:35:01.435Z",
     "shell.execute_reply": "2020-08-22T04:35:01.484Z"
    }
   },
   "outputs": [],
   "source": [
    "df.ABSTRACT.str.len().describe()"
   ]
  },
  {
   "cell_type": "code",
   "execution_count": null,
   "metadata": {
    "execution": {
     "iopub.execute_input": "2020-08-22T04:35:01.462Z",
     "iopub.status.busy": "2020-08-22T04:35:01.451Z",
     "iopub.status.idle": "2020-08-22T04:35:01.588Z",
     "shell.execute_reply": "2020-08-22T04:35:01.640Z"
    }
   },
   "outputs": [],
   "source": [
    "df.TITLE.str.len().describe()"
   ]
  },
  {
   "cell_type": "code",
   "execution_count": null,
   "metadata": {
    "execution": {
     "iopub.execute_input": "2020-08-22T04:35:01.616Z",
     "iopub.status.busy": "2020-08-22T04:35:01.604Z",
     "iopub.status.idle": "2020-08-22T04:35:01.689Z",
     "shell.execute_reply": "2020-08-22T04:35:01.747Z"
    }
   },
   "outputs": [],
   "source": [
    "np.max(df.ABSTRACT.str.len()), np.min(df.ABSTRACT.str.len())"
   ]
  },
  {
   "cell_type": "code",
   "execution_count": null,
   "metadata": {
    "execution": {
     "iopub.execute_input": "2020-08-22T04:35:01.715Z",
     "iopub.status.busy": "2020-08-22T04:35:01.705Z",
     "iopub.status.idle": "2020-08-22T04:35:01.811Z",
     "shell.execute_reply": "2020-08-22T04:35:01.862Z"
    }
   },
   "outputs": [],
   "source": [
    "np.max(df.TITLE.str.len()), np.min(df.TITLE.str.len())"
   ]
  },
  {
   "cell_type": "code",
   "execution_count": null,
   "metadata": {
    "execution": {
     "iopub.execute_input": "2020-08-22T04:35:01.836Z",
     "iopub.status.busy": "2020-08-22T04:35:01.826Z",
     "iopub.status.idle": "2020-08-22T04:35:01.896Z",
     "shell.execute_reply": "2020-08-22T04:35:01.936Z"
    }
   },
   "outputs": [],
   "source": [
    "df.set_index(\"ID\", inplace=True)"
   ]
  },
  {
   "cell_type": "code",
   "execution_count": null,
   "metadata": {
    "execution": {
     "iopub.execute_input": "2020-08-22T04:35:01.924Z",
     "iopub.status.busy": "2020-08-22T04:35:01.913Z",
     "iopub.status.idle": "2020-08-22T04:35:02.007Z",
     "shell.execute_reply": "2020-08-22T04:35:02.067Z"
    }
   },
   "outputs": [],
   "source": [
    "df.head()"
   ]
  },
  {
   "cell_type": "code",
   "execution_count": null,
   "metadata": {
    "execution": {
     "iopub.execute_input": "2020-08-22T04:35:02.035Z",
     "iopub.status.busy": "2020-08-22T04:35:02.023Z",
     "iopub.status.idle": "2020-08-22T04:35:02.140Z",
     "shell.execute_reply": "2020-08-22T04:35:02.243Z"
    }
   },
   "outputs": [],
   "source": [
    "# df.to_csv(\"cleaned_data.csv\")\n",
    "def add(abstract, title, max_len=None):\n",
    "    new_abstract, new_title = [], []\n",
    "    abstract, title = abstract.split(), title.split()\n",
    "    if not max_len:\n",
    "        return ' '.join(abstract + title)\n",
    "    for i in range(max_len):\n",
    "        #print(abstract[i])\n",
    "        try: new_abstract.append(abstract[i])\n",
    "        except: new_abstract.append('__PAD__')\n",
    "        try: new_title.append(title[i])\n",
    "        except: new_title.append('__PAD__')\n",
    "    return ' '.join(new_title + new_abstract)\n",
    "def get_label(row):\n",
    "    label = [0, 0, 0, 0, 0, 0]\n",
    "    columns = ['Computer Science', 'Physics', 'Mathematics',\n",
    "       'Statistics', 'Quantitative Biology', 'Quantitative Finance']\n",
    "    for col in range(len(columns)):\n",
    "        if row[columns[col]] == 1:\n",
    "            label[col] = 1\n",
    "    return np.array(label)"
   ]
  },
  {
   "cell_type": "code",
   "execution_count": null,
   "metadata": {
    "execution": {
     "iopub.execute_input": "2020-08-22T04:35:02.227Z",
     "iopub.status.busy": "2020-08-22T04:35:02.157Z",
     "iopub.status.idle": "2020-08-22T04:35:06.573Z",
     "shell.execute_reply": "2020-08-22T04:35:06.545Z"
    }
   },
   "outputs": [],
   "source": [
    "\n",
    "df['text'] = df.progress_apply(lambda row: add(row['ABSTRACT'], row['TITLE']), axis=1)\n",
    "\n",
    "df['labels'] = df.progress_apply(lambda row: get_label(row), axis=1)"
   ]
  },
  {
   "cell_type": "code",
   "execution_count": null,
   "metadata": {
    "execution": {
     "iopub.execute_input": "2020-08-22T04:35:06.602Z",
     "iopub.status.busy": "2020-08-22T04:35:06.591Z",
     "iopub.status.idle": "2020-08-22T04:35:06.619Z",
     "shell.execute_reply": "2020-08-22T04:35:06.553Z"
    }
   },
   "outputs": [],
   "source": [
    "\n",
    "df.text.str.len().describe()"
   ]
  },
  {
   "cell_type": "code",
   "execution_count": null,
   "metadata": {
    "execution": {
     "iopub.execute_input": "2020-08-22T04:35:06.646Z",
     "iopub.status.busy": "2020-08-22T04:35:06.635Z",
     "iopub.status.idle": "2020-08-22T04:35:06.671Z",
     "shell.execute_reply": "2020-08-22T04:35:06.728Z"
    }
   },
   "outputs": [],
   "source": [
    "df.text.str.len().value_counts().sort_index()"
   ]
  },
  {
   "cell_type": "code",
   "execution_count": null,
   "metadata": {
    "execution": {
     "iopub.execute_input": "2020-08-22T04:35:06.699Z",
     "iopub.status.busy": "2020-08-22T04:35:06.689Z",
     "iopub.status.idle": "2020-08-22T04:35:06.771Z",
     "shell.execute_reply": "2020-08-22T04:35:06.811Z"
    }
   },
   "outputs": [],
   "source": [
    "df.drop(df.columns.difference(['text','labels']), 1, inplace=True)"
   ]
  },
  {
   "cell_type": "code",
   "execution_count": null,
   "metadata": {
    "execution": {
     "iopub.execute_input": "2020-08-22T04:35:06.799Z",
     "iopub.status.busy": "2020-08-22T04:35:06.789Z",
     "iopub.status.idle": "2020-08-22T04:35:10.524Z",
     "shell.execute_reply": "2020-08-22T04:35:10.575Z"
    }
   },
   "outputs": [],
   "source": [
    "from simpletransformers.classification  import MultiLabelClassificationModel\n",
    "import logging"
   ]
  },
  {
   "cell_type": "code",
   "execution_count": null,
   "metadata": {
    "execution": {
     "iopub.execute_input": "2020-08-22T04:35:10.552Z",
     "iopub.status.busy": "2020-08-22T04:35:10.542Z"
    }
   },
   "outputs": [],
   "source": [
    "logging.basicConfig(level=logging.INFO)\n",
    "transformers_logger = logging.getLogger(\"transformers\")\n",
    "transformers_logger.setLevel(logging.WARNING)\n",
    "\n",
    "# Train and Evaluation data needs to be in a Pandas Dataframe containing at least two columns, a 'text' and a 'labels' column. The `labels` column should contain multi-hot encoded lists.\n",
    "# train_data = [['Example sentence 1 for multilabel classification.', [1, 1, 1, 1, 0, 1]], ['This is another example sentence. ', [0, 1, 1, 0, 0, 0]]]\n",
    "# train_df = pd.DataFrame(train_data, columns=['text', 'labels'])\n",
    "\n",
    "\n",
    "# Create a MultiLabelClassificationModel\n",
    "model = MultiLabelClassificationModel('distilbert', 'distilbert-base-cased', num_labels=6, args={'train_batch_size': 2, 'reprocess_input_data': True, 'overwrite_output_dir': True, 'num_train_epochs': 5}, use_cuda=True)\n",
    "# You can set class weights by using the optional weight argument\n",
    "# print(train_df.head())\n",
    "\n",
    "# Train the model\n",
    "model.train_model(df)\n",
    "\n",
    "# Evaluate the model\n",
    "# result, model_outputs, wrong_predictions = model.eval_model(eval_df)\n",
    "# print(result)\n",
    "# print(model_outputs)\n"
   ]
  },
  {
   "cell_type": "code",
   "execution_count": null,
   "metadata": {},
   "outputs": [],
   "source": []
  },
  {
   "cell_type": "code",
   "execution_count": null,
   "metadata": {},
   "outputs": [],
   "source": [
    "\n",
    "tdf = pd.read_csv('test.csv')\n",
    "\n",
    "\n",
    "\n",
    "tdf['ABSTRACT'] = tdf['ABSTRACT'].progress_apply(lambda x: data_text_preprocess(x))\n",
    "tdf['TITLE'] = tdf['TITLE'].progress_apply(lambda x: data_text_preprocess(x))\n",
    "\n",
    "tdf['text'] = tdf.progress_apply(lambda row: add(row['ABSTRACT'], row['TITLE']), axis=1)\n",
    "\n"
   ]
  },
  {
   "cell_type": "code",
   "execution_count": null,
   "metadata": {},
   "outputs": [],
   "source": [
    "tdf.iloc[0]['text']"
   ]
  },
  {
   "cell_type": "code",
   "execution_count": null,
   "metadata": {},
   "outputs": [],
   "source": [
    "tdf['raw_outputs'] = tdf['text'].apply(lambda x: model.predict([x])[1][0])\n",
    "# predictions, raw_outputs = model.predict([tdf.iloc[0]['text']])\n",
    "# print(predictions)\n",
    "# print(raw_outputs)\n",
    "tdf.to_csv('test_temp.csv', index=False)\n",
    "    "
   ]
  },
  {
   "cell_type": "code",
   "execution_count": null,
   "metadata": {
    "jupyter": {
     "outputs_hidden": false,
     "source_hidden": false
    },
    "nteract": {
     "transient": {
      "deleting": false
     }
    }
   },
   "outputs": [],
   "source": []
  },
  {
   "cell_type": "code",
   "execution_count": null,
   "metadata": {
    "jupyter": {
     "outputs_hidden": false,
     "source_hidden": false
    },
    "nteract": {
     "transient": {
      "deleting": false
     }
    }
   },
   "outputs": [],
   "source": []
  },
  {
   "cell_type": "code",
   "execution_count": null,
   "metadata": {
    "jupyter": {
     "outputs_hidden": false,
     "source_hidden": false
    },
    "nteract": {
     "transient": {
      "deleting": false
     }
    }
   },
   "outputs": [],
   "source": []
  },
  {
   "cell_type": "code",
   "execution_count": null,
   "metadata": {
    "jupyter": {
     "outputs_hidden": false,
     "source_hidden": false
    },
    "nteract": {
     "transient": {
      "deleting": false
     }
    }
   },
   "outputs": [],
   "source": []
  },
  {
   "cell_type": "code",
   "execution_count": null,
   "metadata": {
    "jupyter": {
     "outputs_hidden": false,
     "source_hidden": false
    },
    "nteract": {
     "transient": {
      "deleting": false
     }
    }
   },
   "outputs": [],
   "source": []
  },
  {
   "cell_type": "code",
   "execution_count": null,
   "metadata": {
    "jupyter": {
     "outputs_hidden": false,
     "source_hidden": false
    },
    "nteract": {
     "transient": {
      "deleting": false
     }
    }
   },
   "outputs": [],
   "source": []
  },
  {
   "cell_type": "code",
   "execution_count": null,
   "metadata": {
    "jupyter": {
     "outputs_hidden": false,
     "source_hidden": false
    },
    "nteract": {
     "transient": {
      "deleting": false
     }
    }
   },
   "outputs": [],
   "source": []
  },
  {
   "cell_type": "code",
   "execution_count": null,
   "metadata": {
    "jupyter": {
     "outputs_hidden": false,
     "source_hidden": false
    },
    "nteract": {
     "transient": {
      "deleting": false
     }
    }
   },
   "outputs": [],
   "source": []
  }
 ],
 "metadata": {
  "kernelspec": {
   "display_name": "Python 3",
   "language": "python",
   "name": "python3"
  },
  "language_info": {
   "codemirror_mode": {
    "name": "ipython",
    "version": 3
   },
   "file_extension": ".py",
   "mimetype": "text/x-python",
   "name": "python",
   "nbconvert_exporter": "python",
   "pygments_lexer": "ipython3",
   "version": "3.7.7"
  },
  "nteract": {
   "version": "0.24.1"
  }
 },
 "nbformat": 4,
 "nbformat_minor": 2
}
