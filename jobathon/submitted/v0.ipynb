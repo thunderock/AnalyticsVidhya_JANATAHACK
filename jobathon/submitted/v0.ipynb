{
"cells": [
{
"metadata": {
"trusted": true
},
"cell_type": "code",
"source": "import numpy as np\nimport pandas as pd\nimport os\n%matplotlib inline\nimport matplotlib.pyplot as plt \nimport seaborn as sns\ncolor = sns.color_palette()\nsns.set_style('darkgrid')\nfrom tqdm.notebook import tqdm\ntqdm.pandas()\nfrom catboost import CatBoostClassifier, CatBoostRegressor\n\nfrom sklearn.preprocessing import StandardScaler, LabelEncoder\nfrom sklearn.model_selection import train_test_split, KFold, StratifiedKFold, cross_val_score, RepeatedStratifiedKFold\nfrom sklearn import metrics\nfrom lightgbm import LGBMClassifier\nfrom tsfresh import extract_features, select_features\nfrom tsfresh.utilities.dataframe_functions import impute",
"execution_count": null,
"outputs": []
},
{
"metadata": {
"trusted": true
},
"cell_type": "code",
"source": "df = pd.read_csv(\"../input/jobathon-analytics-vidhya/train.csv\")\ntdf = pd.read_csv(\"../input/jobathon-analytics-vidhya/test.csv\")\ndf['train'] = 1\ntdf['train'] = 0\ndf.head()",
"execution_count": null,
"outputs": []
},
{
"metadata": {
"trusted": true
},
"cell_type": "code",
"source": "df = pd.concat([df, tdf])\ndf.isnull().sum()",
"execution_count": null,
"outputs": []
},
{
"metadata": {
"trusted": true
},
"cell_type": "code",
"source": "# df.drop(\"Region_Code\", axis = 1, inplace=True)",
"execution_count": null,
"outputs": []
},
{
"metadata": {
"trusted": true
},
"cell_type": "code",
"source": "target_col = \"Response\"\ncat_cols = ['City_Code', 'Region_Code', \n            'Accomodation_Type', 'Reco_Insurance_Type', 'Is_Spouse','Health Indicator', \n            'Holding_Policy_Duration', 'Holding_Policy_Type',\n               'Reco_Policy_Cat']\nreg_cols = ['Reco_Policy_Premium', 'Upper_Age', 'Lower_Age']\nimputed_reg_cols = ['age_diff']",
"execution_count": null,
"outputs": []
},
{
"metadata": {
"trusted": true
},
"cell_type": "code",
"source": "def dframe_expand(dframe):\n    dframe['age_diff'] = dframe['Upper_Age'] - dframe['Lower_Age']\n#     df_extra = extract_features(dframe.drop(columns=cat_cols + [target_col]), column_id = 'ID', show_warnings=False, \n#                                 impute_function=impute, disable_progressbar=False,\n#                             n_jobs=2)\n# #     print(df_extra)\n#     for col in df_extra.columns:\n#         dframe[col] = df_extra[col]\n    dframe[\"Reco_Policy_Premium\"] = dframe[\"Reco_Policy_Premium\"] / dframe[\"Reco_Policy_Premium\"].max()\n    dframe[\"age_diff\"] = dframe[\"age_diff\"] / dframe[\"age_diff\"].max()\n    \n    return dframe\n\ndf = dframe_expand(df)\n\n",
"execution_count": null,
"outputs": []
},
{
"metadata": {
"trusted": true
},
"cell_type": "code",
"source": "df",
"execution_count": null,
"outputs": []
},
{
"metadata": {
"trusted": true
},
"cell_type": "code",
"source": "target_encoder = LabelEncoder()\n\nlabel_encoders = {}\n\ndef train_encoder(dframe, col, test=False):\n    if test:\n        dframe[col] = label_encoders[col].transform(dframe[col].fillna(\"nan\").astype(str))\n\n    else:\n        label_encoders[col] = LabelEncoder()\n        dframe[col] = label_encoders[col].fit_transform(dframe[col].fillna(\"nan\").astype(str))\n    \nfor col in tqdm(cat_cols):\n    train_encoder(df, col)\n",
"execution_count": null,
"outputs": []
},
{
"metadata": {
"trusted": true
},
"cell_type": "code",
"source": "df.dropna(axis=1, how='all', inplace=True)\ndf.dtypes",
"execution_count": null,
"outputs": []
},
{
"metadata": {
"trusted": true
},
"cell_type": "code",
"source": "grid = {'learning_rate': [.1],#[.05, 0.1, .2],\n        'max_depth': [14], #[10 ,12, 14],\n        'n_estimators': [600, 400, 500, 550]\n       }\n\nmodel = CatBoostClassifier(random_state = 22, task_type=\"GPU\", devices='0:1', \n                           eval_metric='AUC', thread_count=2, \n                           cat_features=cat_cols, custom_metric=['AUC:hints=skip_train~false'], metric_period=50,\n                          od_type='Iter',od_wait=10, loss_function=\"Logloss\")",
"execution_count": null,
"outputs": []
},
{
"metadata": {
"trusted": true
},
"cell_type": "code",
"source": "df.shape",
"execution_count": null,
"outputs": []
},
{
"metadata": {
"trusted": true
},
"cell_type": "code",
"source": "grid_search_result = model.grid_search(grid, \n                                       X=df[df.train == 1].drop([\"train\", target_col], axis=1) , \n                                       y=df[df.train == 1][target_col], cv=4, \n                                       shuffle=True, stratified=True, verbose=False, plot=True, \n                                       refit=True)",
"execution_count": null,
"outputs": []
},
{
"metadata": {
"trusted": true
},
"cell_type": "code",
"source": "grid_search_result",
"execution_count": null,
"outputs": []
},
{
"metadata": {
"trusted": true
},
"cell_type": "code",
"source": "result = pd.DataFrame({\"ID\": df[df.train == 0].ID, \"Response\": model.predict(df[df.train == 0].drop([\"train\", target_col], axis=1))})",
"execution_count": null,
"outputs": []
},
{
"metadata": {
"trusted": true
},
"cell_type": "code",
"source": "result.head()",
"execution_count": null,
"outputs": []
},
{
"metadata": {
"trusted": true
},
"cell_type": "code",
"source": "result.to_csv(\"submission.csv\", index=False)",
"execution_count": null,
"outputs": []
},
{
"metadata": {
"trusted": true
},
"cell_type": "code",
"source": "from IPython.display import FileLink\n\nFileLink('submission.csv')\n",
"execution_count": null,
"outputs": []
},
{
"metadata": {
"trusted": true
},
"cell_type": "code",
"source": "result.Response.value_counts() / result.shape[0] * 100",
"execution_count": null,
"outputs": []
},
{
"metadata": {
"trusted": true
},
"cell_type": "code",
"source": "df.Response.value_counts() / df.shape[0] * 100",
"execution_count": null,
"outputs": []
},
{
"metadata": {
"trusted": true
},
"cell_type": "code",
"source": "",
"execution_count": null,
"outputs": []
}
],
"metadata": {
"kernelspec": {
"language": "python",
"display_name": "Python 3",
"name": "python3"
},
"language_info": {
"pygments_lexer": "ipython3",
"nbconvert_exporter": "python",
"version": "3.6.4",
"file_extension": ".py",
"codemirror_mode": {
"name": "ipython",
"version": 3
},
"name": "python",
"mimetype": "text/x-python"
}
},
"nbformat": 4,
"nbformat_minor": 4
}
