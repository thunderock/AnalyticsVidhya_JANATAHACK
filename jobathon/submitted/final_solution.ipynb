{
"cells": [
{
"metadata": {
"trusted": true
},
"cell_type": "code",
"source": "import numpy as np\nimport pandas as pd\nimport os\n%matplotlib inline\nimport matplotlib.pyplot as plt \nimport seaborn as sns\ncolor = sns.color_palette()\nsns.set_style('darkgrid')\nfrom tqdm.notebook import tqdm\ntqdm.pandas()\nfrom catboost import CatBoostClassifier, CatBoostRegressor\n\nfrom sklearn.preprocessing import StandardScaler, LabelEncoder\nfrom sklearn.model_selection import train_test_split, KFold, StratifiedKFold, cross_val_score, RepeatedStratifiedKFold\nfrom sklearn import metrics\nfrom lightgbm import LGBMClassifier\nfrom tsfresh import extract_features, extract_relevant_features, select_features\nfrom tsfresh.feature_extraction import MinimalFCParameters, ComprehensiveFCParameters\nfrom tsfresh import select_features\nfrom tsfresh.utilities.dataframe_functions import impute\nfrom sklearn.utils.class_weight import compute_class_weight",
"execution_count": 1,
"outputs": [
{
"output_type": "stream",
"text": "/opt/conda/lib/python3.7/site-packages/tqdm/std.py:701: FutureWarning: The Panel class is removed from pandas. Accessing it from the top-level namespace will also be removed in the next version\n  from pandas import Panel\n",
"name": "stderr"
},
{
"output_type": "display_data",
"data": {
"text/plain": "<IPython.core.display.HTML object>",
"text/html": "<style type='text/css'>\n.datatable table.frame { margin-bottom: 0; }\n.datatable table.frame thead { border-bottom: none; }\n.datatable table.frame tr.coltypes td {  color: #FFFFFF;  line-height: 6px;  padding: 0 0.5em;}\n.datatable .bool    { background: #DDDD99; }\n.datatable .object  { background: #565656; }\n.datatable .int     { background: #5D9E5D; }\n.datatable .float   { background: #4040CC; }\n.datatable .str     { background: #CC4040; }\n.datatable .row_index {  background: var(--jp-border-color3);  border-right: 1px solid var(--jp-border-color0);  color: var(--jp-ui-font-color3);  font-size: 9px;}\n.datatable .frame tr.coltypes .row_index {  background: var(--jp-border-color0);}\n.datatable th:nth-child(2) { padding-left: 12px; }\n.datatable .hellipsis {  color: var(--jp-cell-editor-border-color);}\n.datatable .vellipsis {  background: var(--jp-layout-color0);  color: var(--jp-cell-editor-border-color);}\n.datatable .na {  color: var(--jp-cell-editor-border-color);  font-size: 80%;}\n.datatable .footer { font-size: 9px; }\n.datatable .frame_dimensions {  background: var(--jp-border-color3);  border-top: 1px solid var(--jp-border-color0);  color: var(--jp-ui-font-color3);  display: inline-block;  opacity: 0.6;  padding: 1px 10px 1px 5px;}\n</style>\n"
},
"metadata": {}
}
]
},
{
"metadata": {
"trusted": true
},
"cell_type": "code",
"source": "df = pd.read_csv(\"../input/jobathon-analytics-vidhya/train.csv\")\ntdf = pd.read_csv(\"../input/jobathon-analytics-vidhya/test.csv\")\ndf['train'] = 1\ntdf['train'] = 0\ndf.head()",
"execution_count": 2,
"outputs": [
{
"output_type": "execute_result",
"execution_count": 2,
"data": {
"text/plain": "   ID City_Code  Region_Code Accomodation_Type Reco_Insurance_Type  Upper_Age  \\\n0   1        C3         3213            Rented          Individual         36   \n1   2        C5         1117             Owned               Joint         75   \n2   3        C5         3732             Owned          Individual         32   \n3   4       C24         4378             Owned               Joint         52   \n4   5        C8         2190            Rented          Individual         44   \n\n   Lower_Age Is_Spouse Health Indicator Holding_Policy_Duration  \\\n0         36        No               X1                     14+   \n1         22        No               X2                     NaN   \n2         32        No              NaN                     1.0   \n3         48        No               X1                     14+   \n4         44        No               X2                     3.0   \n\n   Holding_Policy_Type  Reco_Policy_Cat  Reco_Policy_Premium  Response  train  \n0                  3.0               22              11628.0         0      1  \n1                  NaN               22              30510.0         0      1  \n2                  1.0               19               7450.0         1      1  \n3                  3.0               19              17780.0         0      1  \n4                  1.0               16              10404.0         0      1  ",
"text/html": "<div>\n<style scoped>\n    .dataframe tbody tr th:only-of-type {\n        vertical-align: middle;\n    }\n\n    .dataframe tbody tr th {\n        vertical-align: top;\n    }\n\n    .dataframe thead th {\n        text-align: right;\n    }\n</style>\n<table border=\"1\" class=\"dataframe\">\n  <thead>\n    <tr style=\"text-align: right;\">\n      <th></th>\n      <th>ID</th>\n      <th>City_Code</th>\n      <th>Region_Code</th>\n      <th>Accomodation_Type</th>\n      <th>Reco_Insurance_Type</th>\n      <th>Upper_Age</th>\n      <th>Lower_Age</th>\n      <th>Is_Spouse</th>\n      <th>Health Indicator</th>\n      <th>Holding_Policy_Duration</th>\n      <th>Holding_Policy_Type</th>\n      <th>Reco_Policy_Cat</th>\n      <th>Reco_Policy_Premium</th>\n      <th>Response</th>\n      <th>train</th>\n    </tr>\n  </thead>\n  <tbody>\n    <tr>\n      <th>0</th>\n      <td>1</td>\n      <td>C3</td>\n      <td>3213</td>\n      <td>Rented</td>\n      <td>Individual</td>\n      <td>36</td>\n      <td>36</td>\n      <td>No</td>\n      <td>X1</td>\n      <td>14+</td>\n      <td>3.0</td>\n      <td>22</td>\n      <td>11628.0</td>\n      <td>0</td>\n      <td>1</td>\n    </tr>\n    <tr>\n      <th>1</th>\n      <td>2</td>\n      <td>C5</td>\n      <td>1117</td>\n      <td>Owned</td>\n      <td>Joint</td>\n      <td>75</td>\n      <td>22</td>\n      <td>No</td>\n      <td>X2</td>\n      <td>NaN</td>\n      <td>NaN</td>\n      <td>22</td>\n      <td>30510.0</td>\n      <td>0</td>\n      <td>1</td>\n    </tr>\n    <tr>\n      <th>2</th>\n      <td>3</td>\n      <td>C5</td>\n      <td>3732</td>\n      <td>Owned</td>\n      <td>Individual</td>\n      <td>32</td>\n      <td>32</td>\n      <td>No</td>\n      <td>NaN</td>\n      <td>1.0</td>\n      <td>1.0</td>\n      <td>19</td>\n      <td>7450.0</td>\n      <td>1</td>\n      <td>1</td>\n    </tr>\n    <tr>\n      <th>3</th>\n      <td>4</td>\n      <td>C24</td>\n      <td>4378</td>\n      <td>Owned</td>\n      <td>Joint</td>\n      <td>52</td>\n      <td>48</td>\n      <td>No</td>\n      <td>X1</td>\n      <td>14+</td>\n      <td>3.0</td>\n      <td>19</td>\n      <td>17780.0</td>\n      <td>0</td>\n      <td>1</td>\n    </tr>\n    <tr>\n      <th>4</th>\n      <td>5</td>\n      <td>C8</td>\n      <td>2190</td>\n      <td>Rented</td>\n      <td>Individual</td>\n      <td>44</td>\n      <td>44</td>\n      <td>No</td>\n      <td>X2</td>\n      <td>3.0</td>\n      <td>1.0</td>\n      <td>16</td>\n      <td>10404.0</td>\n      <td>0</td>\n      <td>1</td>\n    </tr>\n  </tbody>\n</table>\n</div>"
},
"metadata": {}
}
]
},
{
"metadata": {
"trusted": true
},
"cell_type": "code",
"source": "df = pd.concat([df, tdf])\ndf.isnull().sum()",
"execution_count": 3,
"outputs": [
{
"output_type": "execute_result",
"execution_count": 3,
"data": {
"text/plain": "ID                             0\nCity_Code                      0\nRegion_Code                    0\nAccomodation_Type              0\nReco_Insurance_Type            0\nUpper_Age                      0\nLower_Age                      0\nIs_Spouse                      0\nHealth Indicator           16718\nHolding_Policy_Duration    28854\nHolding_Policy_Type        28854\nReco_Policy_Cat                0\nReco_Policy_Premium            0\nResponse                   21805\ntrain                          0\ndtype: int64"
},
"metadata": {}
}
]
},
{
"metadata": {
"trusted": true
},
"cell_type": "code",
"source": "df.dtypes",
"execution_count": 4,
"outputs": [
{
"output_type": "execute_result",
"execution_count": 4,
"data": {
"text/plain": "ID                           int64\nCity_Code                   object\nRegion_Code                  int64\nAccomodation_Type           object\nReco_Insurance_Type         object\nUpper_Age                    int64\nLower_Age                    int64\nIs_Spouse                   object\nHealth Indicator            object\nHolding_Policy_Duration     object\nHolding_Policy_Type        float64\nReco_Policy_Cat              int64\nReco_Policy_Premium        float64\nResponse                   float64\ntrain                        int64\ndtype: object"
},
"metadata": {}
}
]
},
{
"metadata": {
"trusted": true
},
"cell_type": "code",
"source": "def return_int(x):\n    try:\n        return int(float(x))\n    except:\n        if x == \"14+\":\n            return 15\n        else:\n            return 0\ndf['Holding_Policy_Duration'].apply(lambda x: return_int(x)).value_counts(dropna=False)\n",
"execution_count": 5,
"outputs": [
{
"output_type": "execute_result",
"execution_count": 5,
"data": {
"text/plain": "0     28854\n1      6390\n15     6227\n2      6032\n3      5192\n4      3976\n5      3354\n6      2797\n7      2309\n8      1885\n9      1607\n10     1146\n11      800\n13      732\n12      709\n14      677\nName: Holding_Policy_Duration, dtype: int64"
},
"metadata": {}
}
]
},
{
"metadata": {
"trusted": true
},
"cell_type": "code",
"source": "def get_min_per_col_for_cat_col(cat_col, reg_col, cat_val):\n    cat_val = int(float(cat_val))\n    return df.groupby(cat_col).agg({reg_col: ['min']}).loc[cat_val][0]\n\ndef get_max_per_col_for_cat_col(cat_col, reg_col, cat_val):\n    cat_val = int(float(cat_val))\n    return df.groupby(cat_col).agg({reg_col: ['max']}).loc[cat_val][0]\n\ndef get_stand_val_per_cat_col(values):\n#     print(values[1])\n    cat_col = \"Reco_Policy_Cat\"\n    reg_col = \"Reco_Policy_Premium\"\n    mn = get_min_per_col_for_cat_col(cat_col, reg_col, values[0])\n    mx = get_max_per_col_for_cat_col(cat_col, reg_col, values[0])\n    return (values[1] - mn) / mx\n\n# df.groupby(\"Reco_Policy_Cat\").agg({'Reco_Policy_Premium': ['min', 'max']}).iloc[12]\n# df[[\"Reco_Policy_Cat\", 'Reco_Policy_Premium']].swifter.apply(get_stand_val_per_cat_col, axis=1)",
"execution_count": 6,
"outputs": []
},
{
"metadata": {
"trusted": true
},
"cell_type": "code",
"source": "\ndf.groupby(\"Reco_Policy_Cat\").agg({'Reco_Policy_Premium': ['min']}).loc[1][0]",
"execution_count": 7,
"outputs": [
{
"output_type": "execute_result",
"execution_count": 7,
"data": {
"text/plain": "2280.0"
},
"metadata": {}
}
]
},
{
"metadata": {
"trusted": true
},
"cell_type": "code",
"source": "df[df['Accomodation_Type'] != 'Owned']['Response'].value_counts(dropna=False)",
"execution_count": 8,
"outputs": [
{
"output_type": "execute_result",
"execution_count": 8,
"data": {
"text/plain": "0.0    17485\nNaN     9715\n1.0     5446\nName: Response, dtype: int64"
},
"metadata": {}
}
]
},
{
"metadata": {
"trusted": true
},
"cell_type": "code",
"source": "target_col = \"Response\"\ncat_cols = ['City_Code', 'Region_Code', \n            'Accomodation_Type', 'Reco_Insurance_Type', 'Is_Spouse','Health Indicator', \n            'Holding_Policy_Duration', 'Holding_Policy_Type',\n               'Reco_Policy_Cat', 'is_joint_and_spouse']\nreg_cols = ['Reco_Policy_Premium', 'Upper_Age', 'Lower_Age']\nimputed_reg_cols = ['age_diff']",
"execution_count": 9,
"outputs": []
},
{
"metadata": {
"trusted": true
},
"cell_type": "code",
"source": "\ndef min_max_scale(col):\n    s = col - col.min()\n    s /= col.max()\n    return s\n\ndef dframe_expand(dframe):\n    dframe.reset_index(drop=True, inplace=True)\n    dframe['age_diff'] = dframe['Upper_Age'] - dframe['Lower_Age']\n    dframe[\"Reco_Policy_Premium\"] = dframe[\"Reco_Policy_Premium\"] / dframe[\"Reco_Policy_Premium\"].max()\n    \n    dframe[\"age_diff_scaled\"] = min_max_scale(dframe[\"age_diff\"])\n    dframe[\"Upper_Age_scaled\"] = min_max_scale(dframe[\"Upper_Age\"])\n    dframe[\"Lower_Age_scaled\"] = min_max_scale(dframe[\"Lower_Age\"])\n    dframe[\"Reco_Policy_Premium_scaled\"] = min_max_scale(dframe[\"Reco_Policy_Premium\"])\n    \n    dframe[\"is_joint_and_spouse\"] = pd.Series(np.logical_and(dframe.Is_Spouse == 'Yes' , dframe['Reco_Insurance_Type'] == 'Joint'))\n    dframe[\"holding_policy_reg\"] = dframe['Holding_Policy_Duration'].apply(lambda x: return_int(x)).value_counts(dropna=False)\n    dframe[\"holding_policy_reg_scaled\"] = min_max_scale(dframe[\"holding_policy_reg\"])\n    dframe[\"is_joint_and_spouse\"] = pd.Series(np.logical_and(dframe.Is_Spouse == 'Yes' , dframe['Reco_Insurance_Type'] == 'Joint'))\n    \n    dframe[\"reco_policy_premium_per_cat_scaled\"] = dframe[[\"Reco_Policy_Cat\", 'Reco_Policy_Premium']].progress_apply(get_stand_val_per_cat_col, axis=1)\n    dframe[\"reco_policy_premium_per_cat_scaled_scaled\"] = min_max_scale(dframe[\"reco_policy_premium_per_cat_scaled\"])\n    return dframe\n\n\ndf = dframe_expand(df)\n",
"execution_count": null,
"outputs": [
{
"output_type": "display_data",
"data": {
"text/plain": "  0%|          | 0/72687 [00:00<?, ?it/s]",
"application/vnd.jupyter.widget-view+json": {
"version_major": 2,
"version_minor": 0,
"model_id": "03a3c35811d54ed69b3662ccea56e02d"
}
},
"metadata": {}
}
]
},
{
"metadata": {
"trusted": true
},
"cell_type": "code",
"source": "df",
"execution_count": null,
"outputs": []
},
{
"metadata": {
"trusted": true
},
"cell_type": "code",
"source": "target_encoder = LabelEncoder()\n\nlabel_encoders = {}\n\ndef train_encoder(dframe, col, test=False):\n    if test:\n        dframe[col] = label_encoders[col].transform(dframe[col].fillna(\"nan\").astype(str))\n\n    else:\n        label_encoders[col] = LabelEncoder()\n        dframe[col] = label_encoders[col].fit_transform(dframe[col].fillna(\"nan\").astype(str))\n    \nfor col in tqdm(cat_cols):\n    train_encoder(df, col)\n",
"execution_count": null,
"outputs": []
},
{
"metadata": {
"trusted": true
},
"cell_type": "code",
"source": "df.dropna(axis=1, how='all', inplace=True)\ndf.dtypes",
"execution_count": null,
"outputs": []
},
{
"metadata": {
"trusted": true
},
"cell_type": "code",
"source": "df.shape",
"execution_count": null,
"outputs": []
},
{
"metadata": {
"trusted": true
},
"cell_type": "code",
"source": "classes = np.unique(df[df.train == 1][target_col])\nweights = compute_class_weight(class_weight='balanced', classes=classes, y=df[df.train == 1][target_col])\nweights,classes",
"execution_count": null,
"outputs": []
},
{
"metadata": {
"trusted": true
},
"cell_type": "code",
"source": "class CatBoost():\n# {'depth': 10,\n#   'od_wait': 20,\n#   'iterations': 700,\n#   'learning_rate': 0.1}\n    def __init__(self,random_state=22, params={'depth': 12,'od_wait': 20,'iterations': 640,'learning_rate': 0.1}):\n        self.model = CatBoostClassifier(random_state = random_state, task_type=\"GPU\", devices='0:1', \n                           eval_metric='AUC', thread_count=12, \n                           cat_features=cat_cols, custom_metric=['AUC:hints=skip_train~false'], metric_period=500,\n                           od_type='Iter', loss_function=\"Logloss\", learning_rate=params['learning_rate'], \n                               od_wait=params['od_wait'], iterations=params['iterations'],\n                              max_depth=params['depth'], class_weights=dict(zip(classes, weights)))\n        \n\n    def train(self, X, y):\n        # df[df.train == 1].drop([\"train\", target_col], axis=1) \n        # df[df.train == 1][target_col]\n        \n        self.model.fit(X, y)\n    \n    def predict(self, X_test):\n        # df[df.train == 0].drop([\"train\", target_col], axis=1)\n        return np.array(self.model.predict(X_test), dtype=np.int)",
"execution_count": null,
"outputs": []
},
{
"metadata": {
"trusted": true
},
"cell_type": "code",
"source": "# grid = {'max_depth': [12],'od_wait': [20],'iterations': [640],'learning_rate': [0.1]}\n# model = CatBoostClassifier(random_state = 2, task_type=\"GPU\", devices='0:1', \n#                            eval_metric='AUC', thread_count=6, \n#                            cat_features=cat_cols, custom_metric=['AUC:hints=skip_train~false'], metric_period=400,\n#                            od_type='Iter', loss_function=\"Logloss\", class_weights=dict(zip(classes, weights)))\n# grid_search_result = model.grid_search(grid, \n#                                        X=df[df.train == 1].drop([\"train\", target_col], axis=1) , \n#                                        y=df[df.train == 1][target_col], cv=4, \n#                                        shuffle=True, stratified=True, verbose=False, plot=True, \n#                                        refit=True)\n# # preds = np.array(model.predict(df[df.train == 0].drop([\"train\", target_col], axis=1)), dtype=np.int)",
"execution_count": null,
"outputs": []
},
{
"metadata": {
"trusted": true
},
"cell_type": "code",
"source": "# grid_search_result",
"execution_count": null,
"outputs": []
},
{
"metadata": {
"trusted": true
},
"cell_type": "code",
"source": "def random_state_models(size):\n    temp_result = [0] * size\n    \n    X = df[df.train == 1].drop([\"train\", target_col], axis=1)\n    y = df[df.train == 1][target_col]\n    X_test = df[df.train == 0].drop([\"train\", target_col], axis=1)\n    for i in tqdm(range(size)):\n        m = CatBoost(random_state=i)\n        m.train(X, y)\n        temp_result[i] = m.predict(X_test)\n    return temp_result",
"execution_count": null,
"outputs": []
},
{
"metadata": {
"trusted": true
},
"cell_type": "code",
"source": "x = random_state_models(20)",
"execution_count": null,
"outputs": []
},
{
"metadata": {
"trusted": true
},
"cell_type": "code",
"source": "preds = np.stack(x)\npreds = [np.argmax(np.bincount(preds[:, i])) for i in range(preds.shape[1])]",
"execution_count": null,
"outputs": []
},
{
"metadata": {
"trusted": true
},
"cell_type": "code",
"source": "result = pd.DataFrame({\"ID\": df[df.train == 0].ID, \"Response\": preds})",
"execution_count": null,
"outputs": []
},
{
"metadata": {
"trusted": true
},
"cell_type": "code",
"source": "result.head()",
"execution_count": null,
"outputs": []
},
{
"metadata": {
"trusted": true
},
"cell_type": "code",
"source": "result.to_csv(\"submission.csv\", index=False)",
"execution_count": null,
"outputs": []
},
{
"metadata": {
"trusted": true
},
"cell_type": "code",
"source": "from IPython.display import FileLink\n\nFileLink('submission.csv')\n",
"execution_count": null,
"outputs": []
},
{
"metadata": {
"trusted": true
},
"cell_type": "code",
"source": "result.Response.value_counts() / result.shape[0] * 100",
"execution_count": null,
"outputs": []
},
{
"metadata": {
"trusted": true
},
"cell_type": "code",
"source": "df[df.train == 1].Response.value_counts() / df[df.train == 1].shape[0] * 100",
"execution_count": null,
"outputs": []
},
{
"metadata": {
"trusted": true
},
"cell_type": "code",
"source": "",
"execution_count": null,
"outputs": []
}
],
"metadata": {
"kernelspec": {
"name": "python3",
"display_name": "Python 3",
"language": "python"
},
"language_info": {
"name": "python",
"version": "3.7.9",
"mimetype": "text/x-python",
"codemirror_mode": {
"name": "ipython",
"version": 3
},
"pygments_lexer": "ipython3",
"nbconvert_exporter": "python",
"file_extension": ".py"
}
},
"nbformat": 4,
"nbformat_minor": 4
}
