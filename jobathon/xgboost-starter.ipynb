{
 "cells": [
  {
   "cell_type": "code",
   "execution_count": 1,
   "metadata": {},
   "outputs": [],
   "source": [
    "\n",
    "import numpy as np\n",
    "import pandas as pd\n",
    "import os\n",
    "%matplotlib inline\n",
    "import matplotlib.pyplot as plt \n",
    "import seaborn as sns\n",
    "color = sns.color_palette()\n",
    "sns.set_style('darkgrid')\n",
    "from tqdm.notebook import tqdm\n",
    "tqdm.pandas()\n",
    "from catboost import CatBoostClassifier, CatBoostRegressor\n",
    "\n",
    "from sklearn.preprocessing import StandardScaler, LabelEncoder\n",
    "from sklearn.model_selection import train_test_split, KFold, StratifiedKFold, cross_val_score, RepeatedStratifiedKFold\n",
    "from sklearn import metrics\n",
    "from lightgbm import LGBMClassifier\n",
    "from tsfresh import extract_features, extract_relevant_features, select_features\n",
    "from tsfresh.feature_extraction import MinimalFCParameters, ComprehensiveFCParameters\n",
    "from tsfresh import select_features\n",
    "from tsfresh.utilities.dataframe_functions import impute\n",
    "import xgboost as xgb\n",
    "from sklearn.metrics import roc_auc_score\n",
    "import swifter\n",
    "from sklearn.model_selection import GridSearchCV"
   ]
  },
  {
   "cell_type": "code",
   "execution_count": 2,
   "metadata": {},
   "outputs": [
    {
     "data": {
      "text/html": [
       "<div>\n",
       "<style scoped>\n",
       "    .dataframe tbody tr th:only-of-type {\n",
       "        vertical-align: middle;\n",
       "    }\n",
       "\n",
       "    .dataframe tbody tr th {\n",
       "        vertical-align: top;\n",
       "    }\n",
       "\n",
       "    .dataframe thead th {\n",
       "        text-align: right;\n",
       "    }\n",
       "</style>\n",
       "<table border=\"1\" class=\"dataframe\">\n",
       "  <thead>\n",
       "    <tr style=\"text-align: right;\">\n",
       "      <th></th>\n",
       "      <th>ID</th>\n",
       "      <th>City_Code</th>\n",
       "      <th>Region_Code</th>\n",
       "      <th>Accomodation_Type</th>\n",
       "      <th>Reco_Insurance_Type</th>\n",
       "      <th>Upper_Age</th>\n",
       "      <th>Lower_Age</th>\n",
       "      <th>Is_Spouse</th>\n",
       "      <th>Health Indicator</th>\n",
       "      <th>Holding_Policy_Duration</th>\n",
       "      <th>Holding_Policy_Type</th>\n",
       "      <th>Reco_Policy_Cat</th>\n",
       "      <th>Reco_Policy_Premium</th>\n",
       "      <th>Response</th>\n",
       "      <th>train</th>\n",
       "    </tr>\n",
       "  </thead>\n",
       "  <tbody>\n",
       "    <tr>\n",
       "      <th>0</th>\n",
       "      <td>1</td>\n",
       "      <td>C3</td>\n",
       "      <td>3213</td>\n",
       "      <td>Rented</td>\n",
       "      <td>Individual</td>\n",
       "      <td>36</td>\n",
       "      <td>36</td>\n",
       "      <td>No</td>\n",
       "      <td>X1</td>\n",
       "      <td>14+</td>\n",
       "      <td>3.0</td>\n",
       "      <td>22</td>\n",
       "      <td>11628.0</td>\n",
       "      <td>0</td>\n",
       "      <td>1</td>\n",
       "    </tr>\n",
       "    <tr>\n",
       "      <th>1</th>\n",
       "      <td>2</td>\n",
       "      <td>C5</td>\n",
       "      <td>1117</td>\n",
       "      <td>Owned</td>\n",
       "      <td>Joint</td>\n",
       "      <td>75</td>\n",
       "      <td>22</td>\n",
       "      <td>No</td>\n",
       "      <td>X2</td>\n",
       "      <td>NaN</td>\n",
       "      <td>NaN</td>\n",
       "      <td>22</td>\n",
       "      <td>30510.0</td>\n",
       "      <td>0</td>\n",
       "      <td>1</td>\n",
       "    </tr>\n",
       "    <tr>\n",
       "      <th>2</th>\n",
       "      <td>3</td>\n",
       "      <td>C5</td>\n",
       "      <td>3732</td>\n",
       "      <td>Owned</td>\n",
       "      <td>Individual</td>\n",
       "      <td>32</td>\n",
       "      <td>32</td>\n",
       "      <td>No</td>\n",
       "      <td>NaN</td>\n",
       "      <td>1.0</td>\n",
       "      <td>1.0</td>\n",
       "      <td>19</td>\n",
       "      <td>7450.0</td>\n",
       "      <td>1</td>\n",
       "      <td>1</td>\n",
       "    </tr>\n",
       "    <tr>\n",
       "      <th>3</th>\n",
       "      <td>4</td>\n",
       "      <td>C24</td>\n",
       "      <td>4378</td>\n",
       "      <td>Owned</td>\n",
       "      <td>Joint</td>\n",
       "      <td>52</td>\n",
       "      <td>48</td>\n",
       "      <td>No</td>\n",
       "      <td>X1</td>\n",
       "      <td>14+</td>\n",
       "      <td>3.0</td>\n",
       "      <td>19</td>\n",
       "      <td>17780.0</td>\n",
       "      <td>0</td>\n",
       "      <td>1</td>\n",
       "    </tr>\n",
       "    <tr>\n",
       "      <th>4</th>\n",
       "      <td>5</td>\n",
       "      <td>C8</td>\n",
       "      <td>2190</td>\n",
       "      <td>Rented</td>\n",
       "      <td>Individual</td>\n",
       "      <td>44</td>\n",
       "      <td>44</td>\n",
       "      <td>No</td>\n",
       "      <td>X2</td>\n",
       "      <td>3.0</td>\n",
       "      <td>1.0</td>\n",
       "      <td>16</td>\n",
       "      <td>10404.0</td>\n",
       "      <td>0</td>\n",
       "      <td>1</td>\n",
       "    </tr>\n",
       "  </tbody>\n",
       "</table>\n",
       "</div>"
      ],
      "text/plain": [
       "   ID City_Code  Region_Code Accomodation_Type Reco_Insurance_Type  Upper_Age  \\\n",
       "0   1        C3         3213            Rented          Individual         36   \n",
       "1   2        C5         1117             Owned               Joint         75   \n",
       "2   3        C5         3732             Owned          Individual         32   \n",
       "3   4       C24         4378             Owned               Joint         52   \n",
       "4   5        C8         2190            Rented          Individual         44   \n",
       "\n",
       "   Lower_Age Is_Spouse Health Indicator Holding_Policy_Duration  \\\n",
       "0         36        No               X1                     14+   \n",
       "1         22        No               X2                     NaN   \n",
       "2         32        No              NaN                     1.0   \n",
       "3         48        No               X1                     14+   \n",
       "4         44        No               X2                     3.0   \n",
       "\n",
       "   Holding_Policy_Type  Reco_Policy_Cat  Reco_Policy_Premium  Response  train  \n",
       "0                  3.0               22              11628.0         0      1  \n",
       "1                  NaN               22              30510.0         0      1  \n",
       "2                  1.0               19               7450.0         1      1  \n",
       "3                  3.0               19              17780.0         0      1  \n",
       "4                  1.0               16              10404.0         0      1  "
      ]
     },
     "execution_count": 2,
     "metadata": {},
     "output_type": "execute_result"
    }
   ],
   "source": [
    "df = pd.read_csv(\"train.csv\")\n",
    "tdf = pd.read_csv(\"test.csv\")\n",
    "df['train'] = 1\n",
    "tdf['train'] = 0\n",
    "df.head()"
   ]
  },
  {
   "cell_type": "code",
   "execution_count": 3,
   "metadata": {},
   "outputs": [
    {
     "data": {
      "text/plain": [
       "ID                             0\n",
       "City_Code                      0\n",
       "Region_Code                    0\n",
       "Accomodation_Type              0\n",
       "Reco_Insurance_Type            0\n",
       "Upper_Age                      0\n",
       "Lower_Age                      0\n",
       "Is_Spouse                      0\n",
       "Health Indicator           16718\n",
       "Holding_Policy_Duration    28854\n",
       "Holding_Policy_Type        28854\n",
       "Reco_Policy_Cat                0\n",
       "Reco_Policy_Premium            0\n",
       "Response                   21805\n",
       "train                          0\n",
       "dtype: int64"
      ]
     },
     "execution_count": 3,
     "metadata": {},
     "output_type": "execute_result"
    }
   ],
   "source": [
    "df = pd.concat([df, tdf])\n",
    "df.isnull().sum()"
   ]
  },
  {
   "cell_type": "code",
   "execution_count": 4,
   "metadata": {},
   "outputs": [
    {
     "data": {
      "text/plain": [
       "ID                           int64\n",
       "City_Code                   object\n",
       "Region_Code                  int64\n",
       "Accomodation_Type           object\n",
       "Reco_Insurance_Type         object\n",
       "Upper_Age                    int64\n",
       "Lower_Age                    int64\n",
       "Is_Spouse                   object\n",
       "Health Indicator            object\n",
       "Holding_Policy_Duration     object\n",
       "Holding_Policy_Type        float64\n",
       "Reco_Policy_Cat              int64\n",
       "Reco_Policy_Premium        float64\n",
       "Response                   float64\n",
       "train                        int64\n",
       "dtype: object"
      ]
     },
     "execution_count": 4,
     "metadata": {},
     "output_type": "execute_result"
    }
   ],
   "source": [
    "df.dtypes"
   ]
  },
  {
   "cell_type": "code",
   "execution_count": 5,
   "metadata": {},
   "outputs": [
    {
     "data": {
      "text/plain": [
       "0     28854\n",
       "1      6390\n",
       "15     6227\n",
       "2      6032\n",
       "3      5192\n",
       "4      3976\n",
       "5      3354\n",
       "6      2797\n",
       "7      2309\n",
       "8      1885\n",
       "9      1607\n",
       "10     1146\n",
       "11      800\n",
       "13      732\n",
       "12      709\n",
       "14      677\n",
       "Name: Holding_Policy_Duration, dtype: int64"
      ]
     },
     "execution_count": 5,
     "metadata": {},
     "output_type": "execute_result"
    }
   ],
   "source": [
    "def return_int(x):\n",
    "    try:\n",
    "        return int(float(x))\n",
    "    except:\n",
    "        if x == \"14+\":\n",
    "            return 15\n",
    "        else:\n",
    "            return 0\n",
    "df['Holding_Policy_Duration'].apply(lambda x: return_int(x)).value_counts(dropna=False)\n"
   ]
  },
  {
   "cell_type": "code",
   "execution_count": 6,
   "metadata": {},
   "outputs": [],
   "source": [
    "def get_min_per_col_for_cat_col(cat_col, reg_col, cat_val):\n",
    "    cat_val = int(float(cat_val))\n",
    "    return df.groupby(cat_col).agg({reg_col: ['min']}).loc[cat_val][0]\n",
    "\n",
    "def get_max_per_col_for_cat_col(cat_col, reg_col, cat_val):\n",
    "    cat_val = int(float(cat_val))\n",
    "    return df.groupby(cat_col).agg({reg_col: ['max']}).loc[cat_val][0]\n",
    "\n",
    "def get_stand_val_per_cat_col(values):\n",
    "#     print(values[1])\n",
    "    cat_col = \"Reco_Policy_Cat\"\n",
    "    reg_col = \"Reco_Policy_Premium\"\n",
    "    mn = get_min_per_col_for_cat_col(cat_col, reg_col, values[0])\n",
    "    mx = get_max_per_col_for_cat_col(cat_col, reg_col, values[0])\n",
    "    return (values[1] - mn) / mx\n",
    "\n",
    "# df.groupby(\"Reco_Policy_Cat\").agg({'Reco_Policy_Premium': ['min', 'max']}).iloc[12]\n",
    "# df[[\"Reco_Policy_Cat\", 'Reco_Policy_Premium']].swifter.apply(get_stand_val_per_cat_col, axis=1)"
   ]
  },
  {
   "cell_type": "code",
   "execution_count": 7,
   "metadata": {},
   "outputs": [
    {
     "data": {
      "text/plain": [
       "2280.0"
      ]
     },
     "execution_count": 7,
     "metadata": {},
     "output_type": "execute_result"
    }
   ],
   "source": [
    "\n",
    "df.groupby(\"Reco_Policy_Cat\").agg({'Reco_Policy_Premium': ['min']}).loc[1][0]"
   ]
  },
  {
   "cell_type": "code",
   "execution_count": 8,
   "metadata": {},
   "outputs": [
    {
     "data": {
      "text/plain": [
       "0.0    17485\n",
       "NaN     9715\n",
       "1.0     5446\n",
       "Name: Response, dtype: int64"
      ]
     },
     "execution_count": 8,
     "metadata": {},
     "output_type": "execute_result"
    }
   ],
   "source": [
    "df[df['Accomodation_Type'] != 'Owned']['Response'].value_counts(dropna=False)"
   ]
  },
  {
   "cell_type": "code",
   "execution_count": 9,
   "metadata": {},
   "outputs": [],
   "source": [
    "target_col = \"Response\"\n",
    "cat_cols = ['City_Code', 'Region_Code', \n",
    "            'Accomodation_Type', 'Reco_Insurance_Type', 'Is_Spouse','Health Indicator', \n",
    "            'Holding_Policy_Duration', 'Holding_Policy_Type',\n",
    "               'Reco_Policy_Cat', 'is_joint_and_spouse']\n",
    "reg_cols = ['Reco_Policy_Premium', 'Upper_Age', 'Lower_Age']\n",
    "imputed_reg_cols = ['age_diff']"
   ]
  },
  {
   "cell_type": "code",
   "execution_count": 10,
   "metadata": {},
   "outputs": [
    {
     "data": {
      "application/vnd.jupyter.widget-view+json": {
       "model_id": "f2430be7596a47838cbc7ab93eca4df2",
       "version_major": 2,
       "version_minor": 0
      },
      "text/plain": [
       "  0%|          | 0/72687 [00:00<?, ?it/s]"
      ]
     },
     "metadata": {},
     "output_type": "display_data"
    }
   ],
   "source": [
    "\n",
    "def min_max_scale(col):\n",
    "    s = col - col.min()\n",
    "    s /= col.max()\n",
    "    return s\n",
    "\n",
    "def dframe_expand(dframe):\n",
    "    dframe.reset_index(drop=True, inplace=True)\n",
    "    dframe['age_diff'] = dframe['Upper_Age'] - dframe['Lower_Age']\n",
    "    dframe[\"Reco_Policy_Premium\"] = dframe[\"Reco_Policy_Premium\"] / dframe[\"Reco_Policy_Premium\"].max()\n",
    "    \n",
    "    dframe[\"age_diff_scaled\"] = min_max_scale(dframe[\"age_diff\"])\n",
    "    dframe[\"Upper_Age_scaled\"] = min_max_scale(dframe[\"Upper_Age\"])\n",
    "    dframe[\"Lower_Age_scaled\"] = min_max_scale(dframe[\"Lower_Age\"])\n",
    "    dframe[\"Reco_Policy_Premium_scaled\"] = min_max_scale(dframe[\"Reco_Policy_Premium\"])\n",
    "    \n",
    "    dframe[\"is_joint_and_spouse\"] = pd.Series(np.logical_and(dframe.Is_Spouse == 'Yes' , dframe['Reco_Insurance_Type'] == 'Joint'))\n",
    "    dframe[\"holding_policy_reg\"] = dframe['Holding_Policy_Duration'].apply(lambda x: return_int(x)).value_counts(dropna=False)\n",
    "    dframe[\"holding_policy_reg_scaled\"] = min_max_scale(dframe[\"holding_policy_reg\"])\n",
    "    dframe[\"is_joint_and_spouse\"] = pd.Series(np.logical_and(dframe.Is_Spouse == 'Yes' , dframe['Reco_Insurance_Type'] == 'Joint'))\n",
    "    \n",
    "    dframe[\"reco_policy_premium_per_cat_scaled\"] = dframe[[\"Reco_Policy_Cat\", 'Reco_Policy_Premium']].progress_apply(get_stand_val_per_cat_col, axis=1)\n",
    "    dframe[\"reco_policy_premium_per_cat_scaled_scaled\"] = min_max_scale(dframe[\"reco_policy_premium_per_cat_scaled\"])\n",
    "    return dframe\n",
    "\n",
    "\n",
    "df = dframe_expand(df)\n"
   ]
  },
  {
   "cell_type": "code",
   "execution_count": 11,
   "metadata": {},
   "outputs": [
    {
     "data": {
      "text/html": [
       "<div>\n",
       "<style scoped>\n",
       "    .dataframe tbody tr th:only-of-type {\n",
       "        vertical-align: middle;\n",
       "    }\n",
       "\n",
       "    .dataframe tbody tr th {\n",
       "        vertical-align: top;\n",
       "    }\n",
       "\n",
       "    .dataframe thead th {\n",
       "        text-align: right;\n",
       "    }\n",
       "</style>\n",
       "<table border=\"1\" class=\"dataframe\">\n",
       "  <thead>\n",
       "    <tr style=\"text-align: right;\">\n",
       "      <th></th>\n",
       "      <th>ID</th>\n",
       "      <th>City_Code</th>\n",
       "      <th>Region_Code</th>\n",
       "      <th>Accomodation_Type</th>\n",
       "      <th>Reco_Insurance_Type</th>\n",
       "      <th>Upper_Age</th>\n",
       "      <th>Lower_Age</th>\n",
       "      <th>Is_Spouse</th>\n",
       "      <th>Health Indicator</th>\n",
       "      <th>Holding_Policy_Duration</th>\n",
       "      <th>...</th>\n",
       "      <th>age_diff</th>\n",
       "      <th>age_diff_scaled</th>\n",
       "      <th>Upper_Age_scaled</th>\n",
       "      <th>Lower_Age_scaled</th>\n",
       "      <th>Reco_Policy_Premium_scaled</th>\n",
       "      <th>is_joint_and_spouse</th>\n",
       "      <th>holding_policy_reg</th>\n",
       "      <th>holding_policy_reg_scaled</th>\n",
       "      <th>reco_policy_premium_per_cat_scaled</th>\n",
       "      <th>reco_policy_premium_per_cat_scaled_scaled</th>\n",
       "    </tr>\n",
       "  </thead>\n",
       "  <tbody>\n",
       "    <tr>\n",
       "      <th>0</th>\n",
       "      <td>1</td>\n",
       "      <td>C3</td>\n",
       "      <td>3213</td>\n",
       "      <td>Rented</td>\n",
       "      <td>Individual</td>\n",
       "      <td>36</td>\n",
       "      <td>36</td>\n",
       "      <td>No</td>\n",
       "      <td>X1</td>\n",
       "      <td>14+</td>\n",
       "      <td>...</td>\n",
       "      <td>0</td>\n",
       "      <td>0.000000</td>\n",
       "      <td>0.240000</td>\n",
       "      <td>0.266667</td>\n",
       "      <td>0.216466</td>\n",
       "      <td>False</td>\n",
       "      <td>28854.0</td>\n",
       "      <td>0.976537</td>\n",
       "      <td>0.216557</td>\n",
       "      <td>0.228559</td>\n",
       "    </tr>\n",
       "    <tr>\n",
       "      <th>1</th>\n",
       "      <td>2</td>\n",
       "      <td>C5</td>\n",
       "      <td>1117</td>\n",
       "      <td>Owned</td>\n",
       "      <td>Joint</td>\n",
       "      <td>75</td>\n",
       "      <td>22</td>\n",
       "      <td>No</td>\n",
       "      <td>X2</td>\n",
       "      <td>NaN</td>\n",
       "      <td>...</td>\n",
       "      <td>53</td>\n",
       "      <td>0.898305</td>\n",
       "      <td>0.760000</td>\n",
       "      <td>0.080000</td>\n",
       "      <td>0.647798</td>\n",
       "      <td>False</td>\n",
       "      <td>6390.0</td>\n",
       "      <td>0.197997</td>\n",
       "      <td>0.662763</td>\n",
       "      <td>0.699493</td>\n",
       "    </tr>\n",
       "    <tr>\n",
       "      <th>2</th>\n",
       "      <td>3</td>\n",
       "      <td>C5</td>\n",
       "      <td>3732</td>\n",
       "      <td>Owned</td>\n",
       "      <td>Individual</td>\n",
       "      <td>32</td>\n",
       "      <td>32</td>\n",
       "      <td>No</td>\n",
       "      <td>NaN</td>\n",
       "      <td>1.0</td>\n",
       "      <td>...</td>\n",
       "      <td>0</td>\n",
       "      <td>0.000000</td>\n",
       "      <td>0.186667</td>\n",
       "      <td>0.213333</td>\n",
       "      <td>0.121025</td>\n",
       "      <td>False</td>\n",
       "      <td>6032.0</td>\n",
       "      <td>0.185590</td>\n",
       "      <td>0.112112</td>\n",
       "      <td>0.118325</td>\n",
       "    </tr>\n",
       "    <tr>\n",
       "      <th>3</th>\n",
       "      <td>4</td>\n",
       "      <td>C24</td>\n",
       "      <td>4378</td>\n",
       "      <td>Owned</td>\n",
       "      <td>Joint</td>\n",
       "      <td>52</td>\n",
       "      <td>48</td>\n",
       "      <td>No</td>\n",
       "      <td>X1</td>\n",
       "      <td>14+</td>\n",
       "      <td>...</td>\n",
       "      <td>4</td>\n",
       "      <td>0.067797</td>\n",
       "      <td>0.453333</td>\n",
       "      <td>0.426667</td>\n",
       "      <td>0.356999</td>\n",
       "      <td>False</td>\n",
       "      <td>5192.0</td>\n",
       "      <td>0.156477</td>\n",
       "      <td>0.352085</td>\n",
       "      <td>0.371598</td>\n",
       "    </tr>\n",
       "    <tr>\n",
       "      <th>4</th>\n",
       "      <td>5</td>\n",
       "      <td>C8</td>\n",
       "      <td>2190</td>\n",
       "      <td>Rented</td>\n",
       "      <td>Individual</td>\n",
       "      <td>44</td>\n",
       "      <td>44</td>\n",
       "      <td>No</td>\n",
       "      <td>X2</td>\n",
       "      <td>3.0</td>\n",
       "      <td>...</td>\n",
       "      <td>0</td>\n",
       "      <td>0.000000</td>\n",
       "      <td>0.346667</td>\n",
       "      <td>0.373333</td>\n",
       "      <td>0.188505</td>\n",
       "      <td>False</td>\n",
       "      <td>3976.0</td>\n",
       "      <td>0.114334</td>\n",
       "      <td>0.202995</td>\n",
       "      <td>0.214245</td>\n",
       "    </tr>\n",
       "    <tr>\n",
       "      <th>...</th>\n",
       "      <td>...</td>\n",
       "      <td>...</td>\n",
       "      <td>...</td>\n",
       "      <td>...</td>\n",
       "      <td>...</td>\n",
       "      <td>...</td>\n",
       "      <td>...</td>\n",
       "      <td>...</td>\n",
       "      <td>...</td>\n",
       "      <td>...</td>\n",
       "      <td>...</td>\n",
       "      <td>...</td>\n",
       "      <td>...</td>\n",
       "      <td>...</td>\n",
       "      <td>...</td>\n",
       "      <td>...</td>\n",
       "      <td>...</td>\n",
       "      <td>...</td>\n",
       "      <td>...</td>\n",
       "      <td>...</td>\n",
       "      <td>...</td>\n",
       "    </tr>\n",
       "    <tr>\n",
       "      <th>72682</th>\n",
       "      <td>72683</td>\n",
       "      <td>C3</td>\n",
       "      <td>1044</td>\n",
       "      <td>Owned</td>\n",
       "      <td>Individual</td>\n",
       "      <td>45</td>\n",
       "      <td>45</td>\n",
       "      <td>No</td>\n",
       "      <td>X1</td>\n",
       "      <td>4.0</td>\n",
       "      <td>...</td>\n",
       "      <td>0</td>\n",
       "      <td>0.000000</td>\n",
       "      <td>0.360000</td>\n",
       "      <td>0.386667</td>\n",
       "      <td>0.313688</td>\n",
       "      <td>False</td>\n",
       "      <td>NaN</td>\n",
       "      <td>NaN</td>\n",
       "      <td>0.306525</td>\n",
       "      <td>0.323513</td>\n",
       "    </tr>\n",
       "    <tr>\n",
       "      <th>72683</th>\n",
       "      <td>72684</td>\n",
       "      <td>C4</td>\n",
       "      <td>266</td>\n",
       "      <td>Owned</td>\n",
       "      <td>Individual</td>\n",
       "      <td>59</td>\n",
       "      <td>59</td>\n",
       "      <td>No</td>\n",
       "      <td>X5</td>\n",
       "      <td>6.0</td>\n",
       "      <td>...</td>\n",
       "      <td>0</td>\n",
       "      <td>0.000000</td>\n",
       "      <td>0.546667</td>\n",
       "      <td>0.573333</td>\n",
       "      <td>0.439465</td>\n",
       "      <td>False</td>\n",
       "      <td>NaN</td>\n",
       "      <td>NaN</td>\n",
       "      <td>0.433537</td>\n",
       "      <td>0.457563</td>\n",
       "    </tr>\n",
       "    <tr>\n",
       "      <th>72684</th>\n",
       "      <td>72685</td>\n",
       "      <td>C12</td>\n",
       "      <td>2470</td>\n",
       "      <td>Owned</td>\n",
       "      <td>Individual</td>\n",
       "      <td>74</td>\n",
       "      <td>74</td>\n",
       "      <td>No</td>\n",
       "      <td>X3</td>\n",
       "      <td>NaN</td>\n",
       "      <td>...</td>\n",
       "      <td>0</td>\n",
       "      <td>0.000000</td>\n",
       "      <td>0.746667</td>\n",
       "      <td>0.773333</td>\n",
       "      <td>0.358279</td>\n",
       "      <td>False</td>\n",
       "      <td>NaN</td>\n",
       "      <td>NaN</td>\n",
       "      <td>0.422570</td>\n",
       "      <td>0.445989</td>\n",
       "    </tr>\n",
       "    <tr>\n",
       "      <th>72685</th>\n",
       "      <td>72686</td>\n",
       "      <td>C10</td>\n",
       "      <td>1676</td>\n",
       "      <td>Rented</td>\n",
       "      <td>Individual</td>\n",
       "      <td>25</td>\n",
       "      <td>25</td>\n",
       "      <td>No</td>\n",
       "      <td>X4</td>\n",
       "      <td>3.0</td>\n",
       "      <td>...</td>\n",
       "      <td>0</td>\n",
       "      <td>0.000000</td>\n",
       "      <td>0.093333</td>\n",
       "      <td>0.120000</td>\n",
       "      <td>0.215095</td>\n",
       "      <td>False</td>\n",
       "      <td>NaN</td>\n",
       "      <td>NaN</td>\n",
       "      <td>0.207776</td>\n",
       "      <td>0.219291</td>\n",
       "    </tr>\n",
       "    <tr>\n",
       "      <th>72686</th>\n",
       "      <td>72687</td>\n",
       "      <td>C2</td>\n",
       "      <td>3617</td>\n",
       "      <td>Owned</td>\n",
       "      <td>Individual</td>\n",
       "      <td>73</td>\n",
       "      <td>73</td>\n",
       "      <td>No</td>\n",
       "      <td>X2</td>\n",
       "      <td>14+</td>\n",
       "      <td>...</td>\n",
       "      <td>0</td>\n",
       "      <td>0.000000</td>\n",
       "      <td>0.733333</td>\n",
       "      <td>0.760000</td>\n",
       "      <td>0.477156</td>\n",
       "      <td>False</td>\n",
       "      <td>NaN</td>\n",
       "      <td>NaN</td>\n",
       "      <td>0.439693</td>\n",
       "      <td>0.464061</td>\n",
       "    </tr>\n",
       "  </tbody>\n",
       "</table>\n",
       "<p>72687 rows × 25 columns</p>\n",
       "</div>"
      ],
      "text/plain": [
       "          ID City_Code  Region_Code Accomodation_Type Reco_Insurance_Type  \\\n",
       "0          1        C3         3213            Rented          Individual   \n",
       "1          2        C5         1117             Owned               Joint   \n",
       "2          3        C5         3732             Owned          Individual   \n",
       "3          4       C24         4378             Owned               Joint   \n",
       "4          5        C8         2190            Rented          Individual   \n",
       "...      ...       ...          ...               ...                 ...   \n",
       "72682  72683        C3         1044             Owned          Individual   \n",
       "72683  72684        C4          266             Owned          Individual   \n",
       "72684  72685       C12         2470             Owned          Individual   \n",
       "72685  72686       C10         1676            Rented          Individual   \n",
       "72686  72687        C2         3617             Owned          Individual   \n",
       "\n",
       "       Upper_Age  Lower_Age Is_Spouse Health Indicator  \\\n",
       "0             36         36        No               X1   \n",
       "1             75         22        No               X2   \n",
       "2             32         32        No              NaN   \n",
       "3             52         48        No               X1   \n",
       "4             44         44        No               X2   \n",
       "...          ...        ...       ...              ...   \n",
       "72682         45         45        No               X1   \n",
       "72683         59         59        No               X5   \n",
       "72684         74         74        No               X3   \n",
       "72685         25         25        No               X4   \n",
       "72686         73         73        No               X2   \n",
       "\n",
       "      Holding_Policy_Duration  ...  age_diff  age_diff_scaled  \\\n",
       "0                         14+  ...         0         0.000000   \n",
       "1                         NaN  ...        53         0.898305   \n",
       "2                         1.0  ...         0         0.000000   \n",
       "3                         14+  ...         4         0.067797   \n",
       "4                         3.0  ...         0         0.000000   \n",
       "...                       ...  ...       ...              ...   \n",
       "72682                     4.0  ...         0         0.000000   \n",
       "72683                     6.0  ...         0         0.000000   \n",
       "72684                     NaN  ...         0         0.000000   \n",
       "72685                     3.0  ...         0         0.000000   \n",
       "72686                     14+  ...         0         0.000000   \n",
       "\n",
       "       Upper_Age_scaled  Lower_Age_scaled  Reco_Policy_Premium_scaled  \\\n",
       "0              0.240000          0.266667                    0.216466   \n",
       "1              0.760000          0.080000                    0.647798   \n",
       "2              0.186667          0.213333                    0.121025   \n",
       "3              0.453333          0.426667                    0.356999   \n",
       "4              0.346667          0.373333                    0.188505   \n",
       "...                 ...               ...                         ...   \n",
       "72682          0.360000          0.386667                    0.313688   \n",
       "72683          0.546667          0.573333                    0.439465   \n",
       "72684          0.746667          0.773333                    0.358279   \n",
       "72685          0.093333          0.120000                    0.215095   \n",
       "72686          0.733333          0.760000                    0.477156   \n",
       "\n",
       "       is_joint_and_spouse  holding_policy_reg  holding_policy_reg_scaled  \\\n",
       "0                    False             28854.0                   0.976537   \n",
       "1                    False              6390.0                   0.197997   \n",
       "2                    False              6032.0                   0.185590   \n",
       "3                    False              5192.0                   0.156477   \n",
       "4                    False              3976.0                   0.114334   \n",
       "...                    ...                 ...                        ...   \n",
       "72682                False                 NaN                        NaN   \n",
       "72683                False                 NaN                        NaN   \n",
       "72684                False                 NaN                        NaN   \n",
       "72685                False                 NaN                        NaN   \n",
       "72686                False                 NaN                        NaN   \n",
       "\n",
       "       reco_policy_premium_per_cat_scaled  \\\n",
       "0                                0.216557   \n",
       "1                                0.662763   \n",
       "2                                0.112112   \n",
       "3                                0.352085   \n",
       "4                                0.202995   \n",
       "...                                   ...   \n",
       "72682                            0.306525   \n",
       "72683                            0.433537   \n",
       "72684                            0.422570   \n",
       "72685                            0.207776   \n",
       "72686                            0.439693   \n",
       "\n",
       "       reco_policy_premium_per_cat_scaled_scaled  \n",
       "0                                       0.228559  \n",
       "1                                       0.699493  \n",
       "2                                       0.118325  \n",
       "3                                       0.371598  \n",
       "4                                       0.214245  \n",
       "...                                          ...  \n",
       "72682                                   0.323513  \n",
       "72683                                   0.457563  \n",
       "72684                                   0.445989  \n",
       "72685                                   0.219291  \n",
       "72686                                   0.464061  \n",
       "\n",
       "[72687 rows x 25 columns]"
      ]
     },
     "execution_count": 11,
     "metadata": {},
     "output_type": "execute_result"
    }
   ],
   "source": [
    "df"
   ]
  },
  {
   "cell_type": "code",
   "execution_count": 12,
   "metadata": {},
   "outputs": [
    {
     "data": {
      "application/vnd.jupyter.widget-view+json": {
       "model_id": "f345fc81e14a4419a903649d13561d99",
       "version_major": 2,
       "version_minor": 0
      },
      "text/plain": [
       "  0%|          | 0/10 [00:00<?, ?it/s]"
      ]
     },
     "metadata": {},
     "output_type": "display_data"
    }
   ],
   "source": [
    "target_encoder = LabelEncoder()\n",
    "\n",
    "label_encoders = {}\n",
    "\n",
    "def train_encoder(dframe, col, test=False):\n",
    "    if test:\n",
    "        dframe[col] = label_encoders[col].transform(dframe[col].fillna(\"nan\").astype(str))\n",
    "\n",
    "    else:\n",
    "        label_encoders[col] = LabelEncoder()\n",
    "        dframe[col] = label_encoders[col].fit_transform(dframe[col].fillna(\"nan\").astype(str))\n",
    "    \n",
    "for col in tqdm(cat_cols):\n",
    "    train_encoder(df, col)\n"
   ]
  },
  {
   "cell_type": "code",
   "execution_count": 13,
   "metadata": {},
   "outputs": [
    {
     "data": {
      "text/plain": [
       "ID                                             int64\n",
       "City_Code                                      int64\n",
       "Region_Code                                    int64\n",
       "Accomodation_Type                              int64\n",
       "Reco_Insurance_Type                            int64\n",
       "Upper_Age                                      int64\n",
       "Lower_Age                                      int64\n",
       "Is_Spouse                                      int64\n",
       "Health Indicator                               int64\n",
       "Holding_Policy_Duration                        int64\n",
       "Holding_Policy_Type                            int64\n",
       "Reco_Policy_Cat                                int64\n",
       "Reco_Policy_Premium                          float64\n",
       "Response                                     float64\n",
       "train                                          int64\n",
       "age_diff                                       int64\n",
       "age_diff_scaled                              float64\n",
       "Upper_Age_scaled                             float64\n",
       "Lower_Age_scaled                             float64\n",
       "Reco_Policy_Premium_scaled                   float64\n",
       "is_joint_and_spouse                            int64\n",
       "holding_policy_reg                           float64\n",
       "holding_policy_reg_scaled                    float64\n",
       "reco_policy_premium_per_cat_scaled           float64\n",
       "reco_policy_premium_per_cat_scaled_scaled    float64\n",
       "dtype: object"
      ]
     },
     "execution_count": 13,
     "metadata": {},
     "output_type": "execute_result"
    }
   ],
   "source": [
    "df.dropna(axis=1, how='all', inplace=True)\n",
    "df.dtypes"
   ]
  },
  {
   "cell_type": "code",
   "execution_count": 14,
   "metadata": {},
   "outputs": [
    {
     "data": {
      "text/plain": [
       "(72687, 25)"
      ]
     },
     "execution_count": 14,
     "metadata": {},
     "output_type": "execute_result"
    }
   ],
   "source": [
    "\n",
    "df.shape"
   ]
  },
  {
   "cell_type": "code",
   "execution_count": 15,
   "metadata": {},
   "outputs": [],
   "source": [
    "\n",
    "param_test = {\n",
    " 'max_depth':[8, 9, 7, 6, 5],\n",
    " 'min_child_weight':[5,7,8, 6],\n",
    " 'learning_rate': [.3, .2, .1],\n",
    " 'n_estimators': [60, 40, 50]\n",
    "}\n",
    "# model = GridSearchCV(\n",
    "#     estimator=xgb.XGBClassifier(gamma=0, subsample=0.8, colsample_bytree=0.8,\n",
    "#  objective= 'binary:logistic', nthread=4, scale_pos_weight=1,seed=27), verbose=10,\n",
    "#     param_grid=param_test, scoring='roc_auc',n_jobs=4,iid=False, cv=4)\n",
    "model = xgb.XGBClassifier(max_depth=10, random_seed=10, objective= 'binary:logistic', \n",
    "                          nthread=4, n_estimator=500)"
   ]
  },
  {
   "cell_type": "code",
   "execution_count": 16,
   "metadata": {},
   "outputs": [
    {
     "name": "stdout",
     "output_type": "stream",
     "text": [
      "[00:47:04] WARNING: /home/conda/feedstock_root/build_artifacts/xgboost_1598185621802/work/src/learner.cc:516: \n",
      "Parameters: { n_estimator, random_seed } might not be used.\n",
      "\n",
      "  This may not be accurate due to some parameters are only used in language bindings but\n",
      "  passed down to XGBoost core.  Or some parameters are not used but slip through this\n",
      "  verification. Please open an issue if you find above cases.\n",
      "\n",
      "\n"
     ]
    },
    {
     "data": {
      "text/plain": [
       "XGBClassifier(base_score=0.5, booster='gbtree', colsample_bylevel=1,\n",
       "              colsample_bynode=1, colsample_bytree=1, gamma=0, gpu_id=-1,\n",
       "              importance_type='gain', interaction_constraints='',\n",
       "              learning_rate=0.300000012, max_delta_step=0, max_depth=10,\n",
       "              min_child_weight=1, missing=nan, monotone_constraints='()',\n",
       "              n_estimator=500, n_estimators=100, n_jobs=4, nthread=4,\n",
       "              num_parallel_tree=1, random_seed=10, random_state=0, reg_alpha=0,\n",
       "              reg_lambda=1, scale_pos_weight=1, subsample=1,\n",
       "              tree_method='exact', validate_parameters=1, verbosity=None)"
      ]
     },
     "execution_count": 16,
     "metadata": {},
     "output_type": "execute_result"
    }
   ],
   "source": [
    "X = df[df.train == 1].drop([\"train\", target_col], axis=1)\n",
    "y = df[df.train == 1][target_col]\n",
    "X_test = df[df.train == 0].drop([\"train\", target_col], axis=1)\n",
    "model.fit(X, y)"
   ]
  },
  {
   "cell_type": "code",
   "execution_count": 17,
   "metadata": {},
   "outputs": [],
   "source": [
    "preds = model.predict(X_test)"
   ]
  },
  {
   "cell_type": "code",
   "execution_count": 18,
   "metadata": {},
   "outputs": [],
   "source": [
    "# model.best_params_"
   ]
  },
  {
   "cell_type": "code",
   "execution_count": 19,
   "metadata": {},
   "outputs": [],
   "source": [
    "def random_state_models(size):\n",
    "    temp_result = [0] * size\n",
    "    params = grid_search_result['params']\n",
    "    for i in tqdm(range(size)):\n",
    "        m = CatBoostClassifier(random_state = i, task_type=\"GPU\", devices='0:1', \n",
    "                           eval_metric='AUC', thread_count=12, \n",
    "                           cat_features=cat_cols, custom_metric=['AUC:hints=skip_train~false'], metric_period=400,\n",
    "                           od_type='Iter', loss_function=\"Logloss\", learning_rate=params['learning_rate'], \n",
    "                               od_wait=params['od_wait'], iterations=params['iterations'],\n",
    "                              max_depth=params['depth'])\n",
    "        m.fit(df[df.train == 1].drop([\"train\", target_col], axis=1), df[df.train == 1][target_col])\n",
    "        temp_result[i] = np.array(m.predict(df[df.train == 0].drop([\"train\", target_col], axis=1)), dtype=np.int)\n",
    "    return temp_result"
   ]
  },
  {
   "cell_type": "code",
   "execution_count": 20,
   "metadata": {},
   "outputs": [],
   "source": [
    "# x = random_state_models(1)"
   ]
  },
  {
   "cell_type": "code",
   "execution_count": 21,
   "metadata": {},
   "outputs": [],
   "source": [
    "# preds = np.stack(x)\n",
    "# preds = [np.argmax(np.bincount(preds[:, i])) for i in range(preds.shape[1])]"
   ]
  },
  {
   "cell_type": "code",
   "execution_count": 22,
   "metadata": {},
   "outputs": [
    {
     "data": {
      "text/plain": [
       "(21805,)"
      ]
     },
     "execution_count": 22,
     "metadata": {},
     "output_type": "execute_result"
    }
   ],
   "source": [
    "preds.shape"
   ]
  },
  {
   "cell_type": "code",
   "execution_count": 23,
   "metadata": {},
   "outputs": [
    {
     "data": {
      "text/plain": [
       "array([0., 0., 0., ..., 0., 0., 0.])"
      ]
     },
     "execution_count": 23,
     "metadata": {},
     "output_type": "execute_result"
    }
   ],
   "source": [
    "preds"
   ]
  },
  {
   "cell_type": "code",
   "execution_count": 24,
   "metadata": {},
   "outputs": [],
   "source": [
    "result = pd.DataFrame({\"ID\": df[df.train == 0].ID, \"Response\": preds.astype(np.int)})"
   ]
  },
  {
   "cell_type": "code",
   "execution_count": 25,
   "metadata": {},
   "outputs": [
    {
     "data": {
      "text/html": [
       "<div>\n",
       "<style scoped>\n",
       "    .dataframe tbody tr th:only-of-type {\n",
       "        vertical-align: middle;\n",
       "    }\n",
       "\n",
       "    .dataframe tbody tr th {\n",
       "        vertical-align: top;\n",
       "    }\n",
       "\n",
       "    .dataframe thead th {\n",
       "        text-align: right;\n",
       "    }\n",
       "</style>\n",
       "<table border=\"1\" class=\"dataframe\">\n",
       "  <thead>\n",
       "    <tr style=\"text-align: right;\">\n",
       "      <th></th>\n",
       "      <th>ID</th>\n",
       "      <th>Response</th>\n",
       "    </tr>\n",
       "  </thead>\n",
       "  <tbody>\n",
       "    <tr>\n",
       "      <th>50882</th>\n",
       "      <td>50883</td>\n",
       "      <td>0</td>\n",
       "    </tr>\n",
       "    <tr>\n",
       "      <th>50883</th>\n",
       "      <td>50884</td>\n",
       "      <td>0</td>\n",
       "    </tr>\n",
       "    <tr>\n",
       "      <th>50884</th>\n",
       "      <td>50885</td>\n",
       "      <td>0</td>\n",
       "    </tr>\n",
       "    <tr>\n",
       "      <th>50885</th>\n",
       "      <td>50886</td>\n",
       "      <td>0</td>\n",
       "    </tr>\n",
       "    <tr>\n",
       "      <th>50886</th>\n",
       "      <td>50887</td>\n",
       "      <td>0</td>\n",
       "    </tr>\n",
       "  </tbody>\n",
       "</table>\n",
       "</div>"
      ],
      "text/plain": [
       "          ID  Response\n",
       "50882  50883         0\n",
       "50883  50884         0\n",
       "50884  50885         0\n",
       "50885  50886         0\n",
       "50886  50887         0"
      ]
     },
     "execution_count": 25,
     "metadata": {},
     "output_type": "execute_result"
    }
   ],
   "source": [
    "result.head()"
   ]
  },
  {
   "cell_type": "code",
   "execution_count": 26,
   "metadata": {},
   "outputs": [],
   "source": [
    "result.to_csv(\"submission.csv\", index=False)"
   ]
  },
  {
   "cell_type": "code",
   "execution_count": 27,
   "metadata": {},
   "outputs": [
    {
     "data": {
      "text/html": [
       "<a href='submission.csv' target='_blank'>submission.csv</a><br>"
      ],
      "text/plain": [
       "/home/ashutosh/code/AnalyticsVidhya_JANATAHACK/jobathon/submission.csv"
      ]
     },
     "execution_count": 27,
     "metadata": {},
     "output_type": "execute_result"
    }
   ],
   "source": [
    "from IPython.display import FileLink\n",
    "\n",
    "FileLink('submission.csv')\n"
   ]
  },
  {
   "cell_type": "code",
   "execution_count": 28,
   "metadata": {},
   "outputs": [
    {
     "data": {
      "text/plain": [
       "0    92.286173\n",
       "1     7.713827\n",
       "Name: Response, dtype: float64"
      ]
     },
     "execution_count": 28,
     "metadata": {},
     "output_type": "execute_result"
    }
   ],
   "source": [
    "result.Response.value_counts() / result.shape[0] * 100"
   ]
  },
  {
   "cell_type": "code",
   "execution_count": 29,
   "metadata": {},
   "outputs": [
    {
     "data": {
      "text/plain": [
       "0.0    76.005267\n",
       "1.0    23.994733\n",
       "Name: Response, dtype: float64"
      ]
     },
     "execution_count": 29,
     "metadata": {},
     "output_type": "execute_result"
    }
   ],
   "source": [
    "df[df.train == 1].Response.value_counts() / df[df.train == 1].shape[0] * 100"
   ]
  },
  {
   "cell_type": "code",
   "execution_count": null,
   "metadata": {},
   "outputs": [],
   "source": []
  }
 ],
 "metadata": {
  "kernelspec": {
   "display_name": "Python 3",
   "language": "python",
   "name": "python3"
  },
  "language_info": {
   "codemirror_mode": {
    "name": "ipython",
    "version": 3
   },
   "file_extension": ".py",
   "mimetype": "text/x-python",
   "name": "python",
   "nbconvert_exporter": "python",
   "pygments_lexer": "ipython3",
   "version": "3.7.7"
  }
 },
 "nbformat": 4,
 "nbformat_minor": 4
}
