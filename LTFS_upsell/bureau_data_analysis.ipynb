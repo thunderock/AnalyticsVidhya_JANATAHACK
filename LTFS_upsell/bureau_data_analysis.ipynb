{
 "cells": [
  {
   "cell_type": "code",
   "execution_count": 1,
   "metadata": {},
   "outputs": [],
   "source": [
    "import numpy as np\n",
    "import pandas as pd\n",
    "import matplotlib.pyplot as plt\n",
    "import seaborn as sns\n",
    "from tqdm.notebook import tqdm, tnrange\n",
    "%matplotlib inline"
   ]
  },
  {
   "cell_type": "code",
   "execution_count": 2,
   "metadata": {},
   "outputs": [
    {
     "data": {
      "text/plain": [
       "((560844, 25), (64019, 25))"
      ]
     },
     "execution_count": 2,
     "metadata": {},
     "output_type": "execute_result"
    }
   ],
   "source": [
    "df = pd.read_excel(\"Train/train_bureau.xlsx\")\n",
    "tdf = pd.read_excel(\"Test/test_bureau.xlsx\")\n",
    "df.shape, tdf.shape"
   ]
  },
  {
   "cell_type": "code",
   "execution_count": 3,
   "metadata": {},
   "outputs": [
    {
     "data": {
      "text/plain": [
       "((560844, 25), (64019, 25))"
      ]
     },
     "execution_count": 3,
     "metadata": {},
     "output_type": "execute_result"
    }
   ],
   "source": [
    "df.shape, tdf.shape"
   ]
  },
  {
   "cell_type": "code",
   "execution_count": 4,
   "metadata": {},
   "outputs": [
    {
     "data": {
      "text/plain": [
       "ID                                0\n",
       "SELF-INDICATOR                    0\n",
       "MATCH-TYPE                        0\n",
       "ACCT-TYPE                         0\n",
       "CONTRIBUTOR-TYPE                  0\n",
       "DATE-REPORTED                  3683\n",
       "OWNERSHIP-IND                     0\n",
       "ACCOUNT-STATUS                    0\n",
       "DISBURSED-DT                  32150\n",
       "CLOSE-DT                     251758\n",
       "LAST-PAYMENT-DATE            319283\n",
       "CREDIT-LIMIT/SANC AMT        545685\n",
       "DISBURSED-AMT/HIGH CREDIT         0\n",
       "INSTALLMENT-AMT              420509\n",
       "CURRENT-BAL                     233\n",
       "INSTALLMENT-FREQUENCY        425135\n",
       "OVERDUE-AMT                  118891\n",
       "WRITE-OFF-AMT                 19123\n",
       "ASSET_CLASS                  300376\n",
       "REPORTED DATE - HIST          19123\n",
       "DPD - HIST                    19647\n",
       "CUR BAL - HIST                19123\n",
       "AMT OVERDUE - HIST            19123\n",
       "AMT PAID - HIST               20294\n",
       "TENURE                       368107\n",
       "dtype: int64"
      ]
     },
     "execution_count": 4,
     "metadata": {},
     "output_type": "execute_result"
    }
   ],
   "source": [
    "df.isnull().sum()"
   ]
  },
  {
   "cell_type": "code",
   "execution_count": 5,
   "metadata": {},
   "outputs": [
    {
     "data": {
      "text/plain": [
       "ID                               0\n",
       "SELF-INDICATOR                   0\n",
       "MATCH-TYPE                       0\n",
       "ACCT-TYPE                        0\n",
       "CONTRIBUTOR-TYPE                 0\n",
       "DATE-REPORTED                    0\n",
       "OWNERSHIP-IND                    0\n",
       "ACCOUNT-STATUS                   0\n",
       "DISBURSED-DT                    44\n",
       "CLOSE-DT                     31453\n",
       "LAST-PAYMENT-DATE            32550\n",
       "CREDIT-LIMIT/SANC AMT        62421\n",
       "DISBURSED-AMT/HIGH CREDIT       38\n",
       "INSTALLMENT-AMT              47693\n",
       "CURRENT-BAL                     32\n",
       "INSTALLMENT-FREQUENCY        48243\n",
       "OVERDUE-AMT                  13127\n",
       "WRITE-OFF-AMT                 2561\n",
       "ASSET_CLASS                  34902\n",
       "REPORTED DATE - HIST          2561\n",
       "DPD - HIST                    2565\n",
       "CUR BAL - HIST                2561\n",
       "AMT OVERDUE - HIST            2561\n",
       "AMT PAID - HIST               2672\n",
       "TENURE                       42882\n",
       "dtype: int64"
      ]
     },
     "execution_count": 5,
     "metadata": {},
     "output_type": "execute_result"
    }
   ],
   "source": [
    "tdf.isnull().sum()"
   ]
  },
  {
   "cell_type": "code",
   "execution_count": 6,
   "metadata": {},
   "outputs": [
    {
     "data": {
      "text/plain": [
       "(ID                                    int64\n",
       " SELF-INDICATOR                         bool\n",
       " MATCH-TYPE                           object\n",
       " ACCT-TYPE                            object\n",
       " CONTRIBUTOR-TYPE                     object\n",
       " DATE-REPORTED                datetime64[ns]\n",
       " OWNERSHIP-IND                        object\n",
       " ACCOUNT-STATUS                       object\n",
       " DISBURSED-DT                 datetime64[ns]\n",
       " CLOSE-DT                             object\n",
       " LAST-PAYMENT-DATE            datetime64[ns]\n",
       " CREDIT-LIMIT/SANC AMT                object\n",
       " DISBURSED-AMT/HIGH CREDIT            object\n",
       " INSTALLMENT-AMT                      object\n",
       " CURRENT-BAL                          object\n",
       " INSTALLMENT-FREQUENCY                object\n",
       " OVERDUE-AMT                          object\n",
       " WRITE-OFF-AMT                       float64\n",
       " ASSET_CLASS                          object\n",
       " REPORTED DATE - HIST                 object\n",
       " DPD - HIST                           object\n",
       " CUR BAL - HIST                       object\n",
       " AMT OVERDUE - HIST                   object\n",
       " AMT PAID - HIST                      object\n",
       " TENURE                              float64\n",
       " dtype: object,\n",
       " ID                                    int64\n",
       " SELF-INDICATOR                         bool\n",
       " MATCH-TYPE                           object\n",
       " ACCT-TYPE                            object\n",
       " CONTRIBUTOR-TYPE                     object\n",
       " DATE-REPORTED                datetime64[ns]\n",
       " OWNERSHIP-IND                        object\n",
       " ACCOUNT-STATUS                       object\n",
       " DISBURSED-DT                 datetime64[ns]\n",
       " CLOSE-DT                             object\n",
       " LAST-PAYMENT-DATE            datetime64[ns]\n",
       " CREDIT-LIMIT/SANC AMT                object\n",
       " DISBURSED-AMT/HIGH CREDIT            object\n",
       " INSTALLMENT-AMT                      object\n",
       " CURRENT-BAL                          object\n",
       " INSTALLMENT-FREQUENCY                object\n",
       " OVERDUE-AMT                          object\n",
       " WRITE-OFF-AMT                       float64\n",
       " ASSET_CLASS                          object\n",
       " REPORTED DATE - HIST                 object\n",
       " DPD - HIST                           object\n",
       " CUR BAL - HIST                       object\n",
       " AMT OVERDUE - HIST                   object\n",
       " AMT PAID - HIST                      object\n",
       " TENURE                              float64\n",
       " dtype: object)"
      ]
     },
     "execution_count": 6,
     "metadata": {},
     "output_type": "execute_result"
    }
   ],
   "source": [
    "df.dtypes, tdf.dtypes"
   ]
  },
  {
   "cell_type": "code",
   "execution_count": 7,
   "metadata": {},
   "outputs": [
    {
     "data": {
      "text/plain": [
       "(143395, 1)"
      ]
     },
     "execution_count": 7,
     "metadata": {},
     "output_type": "execute_result"
    }
   ],
   "source": [
    "df.ID.max(), df.ID.min()"
   ]
  },
  {
   "cell_type": "code",
   "execution_count": null,
   "metadata": {},
   "outputs": [],
   "source": []
  }
 ],
 "metadata": {
  "kernelspec": {
   "display_name": "Python 3",
   "language": "python",
   "name": "python3"
  },
  "language_info": {
   "codemirror_mode": {
    "name": "ipython",
    "version": 3
   },
   "file_extension": ".py",
   "mimetype": "text/x-python",
   "name": "python",
   "nbconvert_exporter": "python",
   "pygments_lexer": "ipython3",
   "version": "3.7.7"
  }
 },
 "nbformat": 4,
 "nbformat_minor": 4
}
