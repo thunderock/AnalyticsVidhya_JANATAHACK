{
 "cells": [
  {
   "cell_type": "code",
   "execution_count": 1,
   "metadata": {},
   "outputs": [],
   "source": [
    "import numpy as np\n",
    "import pandas as pd\n"
   ]
  },
  {
   "cell_type": "code",
   "execution_count": 2,
   "metadata": {},
   "outputs": [],
   "source": [
    "df = pd.read_csv(\"Train/cleaned_train.csv\")\n",
    "tdf = pd.read_csv(\"Test/cleaned_train.csv\")"
   ]
  },
  {
   "cell_type": "code",
   "execution_count": 3,
   "metadata": {},
   "outputs": [
    {
     "data": {
      "text/html": [
       "<div>\n",
       "<style scoped>\n",
       "    .dataframe tbody tr th:only-of-type {\n",
       "        vertical-align: middle;\n",
       "    }\n",
       "\n",
       "    .dataframe tbody tr th {\n",
       "        vertical-align: top;\n",
       "    }\n",
       "\n",
       "    .dataframe thead th {\n",
       "        text-align: right;\n",
       "    }\n",
       "</style>\n",
       "<table border=\"1\" class=\"dataframe\">\n",
       "  <thead>\n",
       "    <tr style=\"text-align: right;\">\n",
       "      <th></th>\n",
       "      <th>ID</th>\n",
       "      <th>Frequency</th>\n",
       "      <th>InstlmentMode</th>\n",
       "      <th>LoanStatus</th>\n",
       "      <th>PaymentMode</th>\n",
       "      <th>BranchID</th>\n",
       "      <th>Area</th>\n",
       "      <th>Tenure</th>\n",
       "      <th>AssetCost</th>\n",
       "      <th>AmountFinance</th>\n",
       "      <th>...</th>\n",
       "      <th>ManufacturerID</th>\n",
       "      <th>SupplierID</th>\n",
       "      <th>LTV</th>\n",
       "      <th>SEX</th>\n",
       "      <th>AGE</th>\n",
       "      <th>MonthlyIncome</th>\n",
       "      <th>City</th>\n",
       "      <th>State</th>\n",
       "      <th>ZiPCODE</th>\n",
       "      <th>Top-up Month</th>\n",
       "    </tr>\n",
       "  </thead>\n",
       "  <tbody>\n",
       "    <tr>\n",
       "      <th>0</th>\n",
       "      <td>1</td>\n",
       "      <td>Monthly</td>\n",
       "      <td>Arrear</td>\n",
       "      <td>Closed</td>\n",
       "      <td>PDC_E</td>\n",
       "      <td>1</td>\n",
       "      <td>BHOPAL</td>\n",
       "      <td>48</td>\n",
       "      <td>450000</td>\n",
       "      <td>275000.0</td>\n",
       "      <td>...</td>\n",
       "      <td>1568</td>\n",
       "      <td>21946</td>\n",
       "      <td>61.11</td>\n",
       "      <td>M</td>\n",
       "      <td>49.0</td>\n",
       "      <td>35833.33</td>\n",
       "      <td>RAISEN</td>\n",
       "      <td>MADHYA PRADESH</td>\n",
       "      <td>464993</td>\n",
       "      <td>&gt; 48 Months</td>\n",
       "    </tr>\n",
       "    <tr>\n",
       "      <th>1</th>\n",
       "      <td>2</td>\n",
       "      <td>Monthly</td>\n",
       "      <td>Advance</td>\n",
       "      <td>Closed</td>\n",
       "      <td>PDC</td>\n",
       "      <td>333</td>\n",
       "      <td>BHOPAL</td>\n",
       "      <td>47</td>\n",
       "      <td>485000</td>\n",
       "      <td>350000.0</td>\n",
       "      <td>...</td>\n",
       "      <td>1062</td>\n",
       "      <td>34802</td>\n",
       "      <td>70.00</td>\n",
       "      <td>M</td>\n",
       "      <td>23.0</td>\n",
       "      <td>666.67</td>\n",
       "      <td>SEHORE</td>\n",
       "      <td>MADHYA PRADESH</td>\n",
       "      <td>466001</td>\n",
       "      <td>No Top-up Service</td>\n",
       "    </tr>\n",
       "    <tr>\n",
       "      <th>2</th>\n",
       "      <td>3</td>\n",
       "      <td>Quatrly</td>\n",
       "      <td>Arrear</td>\n",
       "      <td>Active</td>\n",
       "      <td>Direct Debit</td>\n",
       "      <td>1</td>\n",
       "      <td>BHOPAL</td>\n",
       "      <td>68</td>\n",
       "      <td>690000</td>\n",
       "      <td>519728.0</td>\n",
       "      <td>...</td>\n",
       "      <td>1060</td>\n",
       "      <td>127335</td>\n",
       "      <td>69.77</td>\n",
       "      <td>M</td>\n",
       "      <td>39.0</td>\n",
       "      <td>45257.00</td>\n",
       "      <td>BHOPAL</td>\n",
       "      <td>MADHYA PRADESH</td>\n",
       "      <td>462030</td>\n",
       "      <td>12-18 Months</td>\n",
       "    </tr>\n",
       "    <tr>\n",
       "      <th>3</th>\n",
       "      <td>7</td>\n",
       "      <td>Monthly</td>\n",
       "      <td>Advance</td>\n",
       "      <td>Closed</td>\n",
       "      <td>Billed</td>\n",
       "      <td>125</td>\n",
       "      <td>GUNA</td>\n",
       "      <td>48</td>\n",
       "      <td>480000</td>\n",
       "      <td>400000.0</td>\n",
       "      <td>...</td>\n",
       "      <td>1060</td>\n",
       "      <td>25094</td>\n",
       "      <td>80.92</td>\n",
       "      <td>M</td>\n",
       "      <td>24.0</td>\n",
       "      <td>20833.33</td>\n",
       "      <td>ASHOK NAGAR</td>\n",
       "      <td>MADHYA PRADESH</td>\n",
       "      <td>473335</td>\n",
       "      <td>&gt; 48 Months</td>\n",
       "    </tr>\n",
       "    <tr>\n",
       "      <th>4</th>\n",
       "      <td>8</td>\n",
       "      <td>Monthly</td>\n",
       "      <td>Arrear</td>\n",
       "      <td>Closed</td>\n",
       "      <td>Billed</td>\n",
       "      <td>152</td>\n",
       "      <td>BILASPUR</td>\n",
       "      <td>44</td>\n",
       "      <td>619265</td>\n",
       "      <td>440000.0</td>\n",
       "      <td>...</td>\n",
       "      <td>1046</td>\n",
       "      <td>21853</td>\n",
       "      <td>71.05</td>\n",
       "      <td>M</td>\n",
       "      <td>56.0</td>\n",
       "      <td>27313.67</td>\n",
       "      <td>BILASPUR</td>\n",
       "      <td>CHATTISGARH</td>\n",
       "      <td>495442</td>\n",
       "      <td>36-48 Months</td>\n",
       "    </tr>\n",
       "  </tbody>\n",
       "</table>\n",
       "<p>5 rows × 26 columns</p>\n",
       "</div>"
      ],
      "text/plain": [
       "   ID Frequency InstlmentMode LoanStatus   PaymentMode  BranchID      Area  \\\n",
       "0   1   Monthly        Arrear     Closed         PDC_E         1    BHOPAL   \n",
       "1   2   Monthly       Advance     Closed           PDC       333    BHOPAL   \n",
       "2   3   Quatrly        Arrear     Active  Direct Debit         1    BHOPAL   \n",
       "3   7   Monthly       Advance     Closed        Billed       125      GUNA   \n",
       "4   8   Monthly        Arrear     Closed        Billed       152  BILASPUR   \n",
       "\n",
       "   Tenure  AssetCost  AmountFinance  ...  ManufacturerID  SupplierID    LTV  \\\n",
       "0      48     450000       275000.0  ...            1568       21946  61.11   \n",
       "1      47     485000       350000.0  ...            1062       34802  70.00   \n",
       "2      68     690000       519728.0  ...            1060      127335  69.77   \n",
       "3      48     480000       400000.0  ...            1060       25094  80.92   \n",
       "4      44     619265       440000.0  ...            1046       21853  71.05   \n",
       "\n",
       "  SEX   AGE  MonthlyIncome         City           State  ZiPCODE  \\\n",
       "0   M  49.0       35833.33       RAISEN  MADHYA PRADESH   464993   \n",
       "1   M  23.0         666.67       SEHORE  MADHYA PRADESH   466001   \n",
       "2   M  39.0       45257.00       BHOPAL  MADHYA PRADESH   462030   \n",
       "3   M  24.0       20833.33  ASHOK NAGAR  MADHYA PRADESH   473335   \n",
       "4   M  56.0       27313.67     BILASPUR     CHATTISGARH   495442   \n",
       "\n",
       "        Top-up Month  \n",
       "0        > 48 Months  \n",
       "1  No Top-up Service  \n",
       "2       12-18 Months  \n",
       "3        > 48 Months  \n",
       "4       36-48 Months  \n",
       "\n",
       "[5 rows x 26 columns]"
      ]
     },
     "execution_count": 3,
     "metadata": {},
     "output_type": "execute_result"
    }
   ],
   "source": [
    "df.head()"
   ]
  },
  {
   "cell_type": "code",
   "execution_count": 4,
   "metadata": {},
   "outputs": [],
   "source": [
    "\n",
    "cat_cols = ['Frequency', 'InstlmentMode', 'LoanStatus', 'PaymentMode', 'BranchID', 'Area', \n",
    "            'ManufacturerID', 'SupplierID', 'SEX', 'City', 'State', 'ZiPCODE', 'Top-up Month']\n",
    "reg_cols = ['AmountFinance', 'DisbursalAmount', 'EMI', 'AssetID', 'MonthlyIncome', 'Tenure', 'AssetCost', 'LTV', 'AGE']\n",
    "date_cols = ['DisbursalDate', 'MaturityDAte', 'AuthDate']\n"
   ]
  },
  {
   "cell_type": "code",
   "execution_count": 5,
   "metadata": {},
   "outputs": [
    {
     "data": {
      "text/plain": [
       "Frequency         object\n",
       "InstlmentMode     object\n",
       "LoanStatus        object\n",
       "PaymentMode       object\n",
       "BranchID           int64\n",
       "Area              object\n",
       "ManufacturerID     int64\n",
       "SupplierID         int64\n",
       "SEX               object\n",
       "City              object\n",
       "State             object\n",
       "ZiPCODE            int64\n",
       "Top-up Month      object\n",
       "dtype: object"
      ]
     },
     "execution_count": 5,
     "metadata": {},
     "output_type": "execute_result"
    }
   ],
   "source": [
    "df[cat_cols].dtypes"
   ]
  },
  {
   "cell_type": "code",
   "execution_count": 6,
   "metadata": {},
   "outputs": [
    {
     "data": {
      "text/plain": [
       "ID                    0\n",
       "Frequency             0\n",
       "InstlmentMode         0\n",
       "LoanStatus            0\n",
       "PaymentMode           0\n",
       "BranchID              0\n",
       "Area               4242\n",
       "Tenure                0\n",
       "AssetCost             0\n",
       "AmountFinance         0\n",
       "DisbursalAmount       0\n",
       "EMI                   0\n",
       "DisbursalDate         0\n",
       "MaturityDAte          1\n",
       "AuthDate              0\n",
       "AssetID               0\n",
       "ManufacturerID        0\n",
       "SupplierID            0\n",
       "LTV                   0\n",
       "SEX                  59\n",
       "AGE                  59\n",
       "MonthlyIncome       234\n",
       "City                154\n",
       "State                 0\n",
       "ZiPCODE               0\n",
       "Top-up Month          0\n",
       "dtype: int64"
      ]
     },
     "execution_count": 6,
     "metadata": {},
     "output_type": "execute_result"
    }
   ],
   "source": [
    "df.isnull().sum()"
   ]
  },
  {
   "cell_type": "code",
   "execution_count": 7,
   "metadata": {},
   "outputs": [
    {
     "data": {
      "text/plain": [
       "AmountFinance      float64\n",
       "DisbursalAmount    float64\n",
       "EMI                float64\n",
       "AssetID              int64\n",
       "MonthlyIncome      float64\n",
       "Tenure               int64\n",
       "AssetCost            int64\n",
       "LTV                float64\n",
       "AGE                float64\n",
       "dtype: object"
      ]
     },
     "execution_count": 7,
     "metadata": {},
     "output_type": "execute_result"
    }
   ],
   "source": [
    "df[reg_cols].dtypes"
   ]
  },
  {
   "cell_type": "code",
   "execution_count": 8,
   "metadata": {},
   "outputs": [
    {
     "data": {
      "text/plain": [
       "(DisbursalDate    0\n",
       " MaturityDAte     1\n",
       " AuthDate         0\n",
       " dtype: int64,\n",
       " DisbursalDate    0\n",
       " MaturityDAte     0\n",
       " AuthDate         0\n",
       " dtype: int64)"
      ]
     },
     "execution_count": 8,
     "metadata": {},
     "output_type": "execute_result"
    }
   ],
   "source": [
    "df[date_cols].isnull().sum(), tdf[date_cols].isnull().sum()"
   ]
  },
  {
   "cell_type": "code",
   "execution_count": 9,
   "metadata": {},
   "outputs": [
    {
     "data": {
      "text/plain": [
       "(DisbursalDate    0\n",
       " MaturityDAte     1\n",
       " AuthDate         0\n",
       " dtype: int64,\n",
       " DisbursalDate    0\n",
       " MaturityDAte     0\n",
       " AuthDate         0\n",
       " dtype: int64)"
      ]
     },
     "execution_count": 9,
     "metadata": {},
     "output_type": "execute_result"
    }
   ],
   "source": [
    "for col in date_cols:\n",
    "    df[col] = pd.to_datetime(df[col], errors=\"coerce\")\n",
    "    tdf[col] = pd.to_datetime(tdf[col], errors=\"coerce\")\n",
    "    \n",
    "df[date_cols].isnull().sum(), tdf[date_cols].isnull().sum()"
   ]
  },
  {
   "cell_type": "code",
   "execution_count": 13,
   "metadata": {},
   "outputs": [
    {
     "data": {
      "text/plain": [
       "(1, 26)"
      ]
     },
     "execution_count": 13,
     "metadata": {},
     "output_type": "execute_result"
    }
   ],
   "source": [
    "df[df.ID == 52360].values.shape"
   ]
  },
  {
   "cell_type": "code",
   "execution_count": 14,
   "metadata": {},
   "outputs": [
    {
     "data": {
      "text/plain": [
       "array([[52360, 'Half Yearly', 'Arrear', 'Active', 'ECS', 137,\n",
       "        'KARIMNAGAR', 48, 800000, 552869.0, 552869.0, 94100.0,\n",
       "        Timestamp('2017-03-31 00:00:00'),\n",
       "        Timestamp('2021-03-10 00:00:00'),\n",
       "        Timestamp('2017-03-31 00:00:00'), 24350409, 1187, 89813, 57.35,\n",
       "        'M', 52.0, 31666.67, 'WARANGAL', 'ANDHRA PRADESH', 506135,\n",
       "        'No Top-up Service']], dtype=object)"
      ]
     },
     "execution_count": 14,
     "metadata": {},
     "output_type": "execute_result"
    }
   ],
   "source": [
    "df[df.ID == 52360].values"
   ]
  },
  {
   "cell_type": "code",
   "execution_count": 15,
   "metadata": {},
   "outputs": [
    {
     "data": {
      "text/plain": [
       "Index(['ID', 'Frequency', 'InstlmentMode', 'LoanStatus', 'PaymentMode',\n",
       "       'BranchID', 'Area', 'Tenure', 'AssetCost', 'AmountFinance',\n",
       "       'DisbursalAmount', 'EMI', 'DisbursalDate', 'MaturityDAte', 'AuthDate',\n",
       "       'AssetID', 'ManufacturerID', 'SupplierID', 'LTV', 'SEX', 'AGE',\n",
       "       'MonthlyIncome', 'City', 'State', 'ZiPCODE', 'Top-up Month'],\n",
       "      dtype='object')"
      ]
     },
     "execution_count": 15,
     "metadata": {},
     "output_type": "execute_result"
    }
   ],
   "source": [
    "df.columns"
   ]
  },
  {
   "cell_type": "code",
   "execution_count": 16,
   "metadata": {},
   "outputs": [
    {
     "data": {
      "text/plain": [
       "(26,)"
      ]
     },
     "execution_count": 16,
     "metadata": {},
     "output_type": "execute_result"
    }
   ],
   "source": [
    "df.columns.shape"
   ]
  },
  {
   "cell_type": "code",
   "execution_count": null,
   "metadata": {},
   "outputs": [],
   "source": []
  }
 ],
 "metadata": {
  "kernelspec": {
   "display_name": "Python 3",
   "language": "python",
   "name": "python3"
  },
  "language_info": {
   "codemirror_mode": {
    "name": "ipython",
    "version": 3
   },
   "file_extension": ".py",
   "mimetype": "text/x-python",
   "name": "python",
   "nbconvert_exporter": "python",
   "pygments_lexer": "ipython3",
   "version": "3.7.7"
  }
 },
 "nbformat": 4,
 "nbformat_minor": 4
}
