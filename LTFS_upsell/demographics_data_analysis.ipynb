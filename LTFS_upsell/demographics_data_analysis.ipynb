{
 "cells": [
  {
   "cell_type": "code",
   "execution_count": 1,
   "metadata": {},
   "outputs": [],
   "source": [
    "import numpy as np\n",
    "import pandas as pd\n",
    "import matplotlib.pyplot as plt\n",
    "import seaborn as sns\n",
    "from tqdm.notebook import tqdm, tnrange\n",
    "%matplotlib inline"
   ]
  },
  {
   "cell_type": "code",
   "execution_count": 2,
   "metadata": {},
   "outputs": [
    {
     "data": {
      "text/html": [
       "<div>\n",
       "<style scoped>\n",
       "    .dataframe tbody tr th:only-of-type {\n",
       "        vertical-align: middle;\n",
       "    }\n",
       "\n",
       "    .dataframe tbody tr th {\n",
       "        vertical-align: top;\n",
       "    }\n",
       "\n",
       "    .dataframe thead th {\n",
       "        text-align: right;\n",
       "    }\n",
       "</style>\n",
       "<table border=\"1\" class=\"dataframe\">\n",
       "  <thead>\n",
       "    <tr style=\"text-align: right;\">\n",
       "      <th></th>\n",
       "      <th>ID</th>\n",
       "      <th>Frequency</th>\n",
       "      <th>InstlmentMode</th>\n",
       "      <th>LoanStatus</th>\n",
       "      <th>PaymentMode</th>\n",
       "      <th>BranchID</th>\n",
       "      <th>Area</th>\n",
       "      <th>Tenure</th>\n",
       "      <th>AssetCost</th>\n",
       "      <th>AmountFinance</th>\n",
       "      <th>...</th>\n",
       "      <th>ManufacturerID</th>\n",
       "      <th>SupplierID</th>\n",
       "      <th>LTV</th>\n",
       "      <th>SEX</th>\n",
       "      <th>AGE</th>\n",
       "      <th>MonthlyIncome</th>\n",
       "      <th>City</th>\n",
       "      <th>State</th>\n",
       "      <th>ZiPCODE</th>\n",
       "      <th>Top-up Month</th>\n",
       "    </tr>\n",
       "  </thead>\n",
       "  <tbody>\n",
       "    <tr>\n",
       "      <th>0</th>\n",
       "      <td>1</td>\n",
       "      <td>Monthly</td>\n",
       "      <td>Arrear</td>\n",
       "      <td>Closed</td>\n",
       "      <td>PDC_E</td>\n",
       "      <td>1</td>\n",
       "      <td>NaN</td>\n",
       "      <td>48</td>\n",
       "      <td>450000</td>\n",
       "      <td>275000.0</td>\n",
       "      <td>...</td>\n",
       "      <td>1568</td>\n",
       "      <td>21946</td>\n",
       "      <td>61.11</td>\n",
       "      <td>M</td>\n",
       "      <td>49.0</td>\n",
       "      <td>35833.33</td>\n",
       "      <td>RAISEN</td>\n",
       "      <td>MADHYA PRADESH</td>\n",
       "      <td>464993.0</td>\n",
       "      <td>&gt; 48 Months</td>\n",
       "    </tr>\n",
       "    <tr>\n",
       "      <th>1</th>\n",
       "      <td>2</td>\n",
       "      <td>Monthly</td>\n",
       "      <td>Advance</td>\n",
       "      <td>Closed</td>\n",
       "      <td>PDC</td>\n",
       "      <td>333</td>\n",
       "      <td>BHOPAL</td>\n",
       "      <td>47</td>\n",
       "      <td>485000</td>\n",
       "      <td>350000.0</td>\n",
       "      <td>...</td>\n",
       "      <td>1062</td>\n",
       "      <td>34802</td>\n",
       "      <td>70.00</td>\n",
       "      <td>M</td>\n",
       "      <td>23.0</td>\n",
       "      <td>666.67</td>\n",
       "      <td>SEHORE</td>\n",
       "      <td>MADHYA PRADESH</td>\n",
       "      <td>466001.0</td>\n",
       "      <td>No Top-up Service</td>\n",
       "    </tr>\n",
       "    <tr>\n",
       "      <th>2</th>\n",
       "      <td>3</td>\n",
       "      <td>Quatrly</td>\n",
       "      <td>Arrear</td>\n",
       "      <td>Active</td>\n",
       "      <td>Direct Debit</td>\n",
       "      <td>1</td>\n",
       "      <td>NaN</td>\n",
       "      <td>68</td>\n",
       "      <td>690000</td>\n",
       "      <td>519728.0</td>\n",
       "      <td>...</td>\n",
       "      <td>1060</td>\n",
       "      <td>127335</td>\n",
       "      <td>69.77</td>\n",
       "      <td>M</td>\n",
       "      <td>39.0</td>\n",
       "      <td>45257.00</td>\n",
       "      <td>BHOPAL</td>\n",
       "      <td>MADHYA PRADESH</td>\n",
       "      <td>462030.0</td>\n",
       "      <td>12-18 Months</td>\n",
       "    </tr>\n",
       "    <tr>\n",
       "      <th>3</th>\n",
       "      <td>7</td>\n",
       "      <td>Monthly</td>\n",
       "      <td>Advance</td>\n",
       "      <td>Closed</td>\n",
       "      <td>Billed</td>\n",
       "      <td>125</td>\n",
       "      <td>GUNA</td>\n",
       "      <td>48</td>\n",
       "      <td>480000</td>\n",
       "      <td>400000.0</td>\n",
       "      <td>...</td>\n",
       "      <td>1060</td>\n",
       "      <td>25094</td>\n",
       "      <td>80.92</td>\n",
       "      <td>M</td>\n",
       "      <td>24.0</td>\n",
       "      <td>20833.33</td>\n",
       "      <td>ASHOK NAGAR</td>\n",
       "      <td>MADHYA PRADESH</td>\n",
       "      <td>473335.0</td>\n",
       "      <td>&gt; 48 Months</td>\n",
       "    </tr>\n",
       "    <tr>\n",
       "      <th>4</th>\n",
       "      <td>8</td>\n",
       "      <td>Monthly</td>\n",
       "      <td>Arrear</td>\n",
       "      <td>Closed</td>\n",
       "      <td>Billed</td>\n",
       "      <td>152</td>\n",
       "      <td>BILASPUR</td>\n",
       "      <td>44</td>\n",
       "      <td>619265</td>\n",
       "      <td>440000.0</td>\n",
       "      <td>...</td>\n",
       "      <td>1046</td>\n",
       "      <td>21853</td>\n",
       "      <td>71.05</td>\n",
       "      <td>M</td>\n",
       "      <td>56.0</td>\n",
       "      <td>27313.67</td>\n",
       "      <td>BILASPUR</td>\n",
       "      <td>CHATTISGARH</td>\n",
       "      <td>495442.0</td>\n",
       "      <td>36-48 Months</td>\n",
       "    </tr>\n",
       "  </tbody>\n",
       "</table>\n",
       "<p>5 rows × 26 columns</p>\n",
       "</div>"
      ],
      "text/plain": [
       "   ID Frequency InstlmentMode LoanStatus   PaymentMode  BranchID      Area  \\\n",
       "0   1   Monthly        Arrear     Closed         PDC_E         1       NaN   \n",
       "1   2   Monthly       Advance     Closed           PDC       333    BHOPAL   \n",
       "2   3   Quatrly        Arrear     Active  Direct Debit         1       NaN   \n",
       "3   7   Monthly       Advance     Closed        Billed       125      GUNA   \n",
       "4   8   Monthly        Arrear     Closed        Billed       152  BILASPUR   \n",
       "\n",
       "   Tenure  AssetCost  AmountFinance  ...  ManufacturerID  SupplierID    LTV  \\\n",
       "0      48     450000       275000.0  ...            1568       21946  61.11   \n",
       "1      47     485000       350000.0  ...            1062       34802  70.00   \n",
       "2      68     690000       519728.0  ...            1060      127335  69.77   \n",
       "3      48     480000       400000.0  ...            1060       25094  80.92   \n",
       "4      44     619265       440000.0  ...            1046       21853  71.05   \n",
       "\n",
       "  SEX   AGE  MonthlyIncome         City           State   ZiPCODE  \\\n",
       "0   M  49.0       35833.33       RAISEN  MADHYA PRADESH  464993.0   \n",
       "1   M  23.0         666.67       SEHORE  MADHYA PRADESH  466001.0   \n",
       "2   M  39.0       45257.00       BHOPAL  MADHYA PRADESH  462030.0   \n",
       "3   M  24.0       20833.33  ASHOK NAGAR  MADHYA PRADESH  473335.0   \n",
       "4   M  56.0       27313.67     BILASPUR     CHATTISGARH  495442.0   \n",
       "\n",
       "        Top-up Month  \n",
       "0        > 48 Months  \n",
       "1  No Top-up Service  \n",
       "2       12-18 Months  \n",
       "3        > 48 Months  \n",
       "4       36-48 Months  \n",
       "\n",
       "[5 rows x 26 columns]"
      ]
     },
     "execution_count": 2,
     "metadata": {},
     "output_type": "execute_result"
    }
   ],
   "source": [
    "df = pd.read_excel(\"Train/train_Data.xlsx\")\n",
    "tdf = pd.read_excel(\"Test/test_Data.xlsx\")\n",
    "df.head()"
   ]
  },
  {
   "cell_type": "code",
   "execution_count": 3,
   "metadata": {},
   "outputs": [
    {
     "data": {
      "text/plain": [
       "((128655, 26), 128655, (14745, 25), 14745)"
      ]
     },
     "execution_count": 3,
     "metadata": {},
     "output_type": "execute_result"
    }
   ],
   "source": [
    "df.shape, df.ID.nunique(), tdf.shape, tdf.ID.nunique(), "
   ]
  },
  {
   "cell_type": "markdown",
   "metadata": {},
   "source": [
    "# train demographic data"
   ]
  },
  {
   "cell_type": "code",
   "execution_count": 4,
   "metadata": {},
   "outputs": [
    {
     "data": {
      "text/plain": [
       "25"
      ]
     },
     "execution_count": 4,
     "metadata": {},
     "output_type": "execute_result"
    }
   ],
   "source": [
    "cat_cols = ['Frequency', 'InstlmentMode', 'LoanStatus', 'PaymentMode', 'BranchID', 'Area', \n",
    "            'ManufacturerID', 'SupplierID', 'SEX', 'City', 'State', 'ZiPCODE', 'Top-up Month']\n",
    "reg_cols = ['AmountFinance', 'DisbursalAmount', 'EMI', 'AssetID', 'MonthlyIncome', 'Tenure', 'AssetCost', 'LTV', 'AGE']\n",
    "date_cols = ['DisbursalDate', 'MaturityDAte', 'AuthDate']\n",
    "len(cat_cols) + len(reg_cols) + len(date_cols)"
   ]
  },
  {
   "cell_type": "code",
   "execution_count": 5,
   "metadata": {},
   "outputs": [
    {
     "data": {
      "text/plain": [
       "ID                     0\n",
       "Frequency              0\n",
       "InstlmentMode          0\n",
       "LoanStatus             0\n",
       "PaymentMode            0\n",
       "BranchID               0\n",
       "Area               11653\n",
       "Tenure                 0\n",
       "AssetCost              0\n",
       "AmountFinance          0\n",
       "DisbursalAmount        0\n",
       "EMI                    0\n",
       "DisbursalDate          0\n",
       "MaturityDAte           1\n",
       "AuthDate               0\n",
       "AssetID                0\n",
       "ManufacturerID         0\n",
       "SupplierID             0\n",
       "LTV                    0\n",
       "SEX                   59\n",
       "AGE                   59\n",
       "MonthlyIncome        234\n",
       "City               11256\n",
       "State                  0\n",
       "ZiPCODE              372\n",
       "Top-up Month           0\n",
       "dtype: int64"
      ]
     },
     "execution_count": 5,
     "metadata": {},
     "output_type": "execute_result"
    }
   ],
   "source": [
    "df.isnull().sum()"
   ]
  },
  {
   "cell_type": "code",
   "execution_count": 6,
   "metadata": {},
   "outputs": [
    {
     "data": {
      "text/plain": [
       "ID                   0\n",
       "Frequency            0\n",
       "InstlmentMode        0\n",
       "LoanStatus           0\n",
       "PaymentMode          0\n",
       "BranchID             0\n",
       "Area               546\n",
       "Tenure               0\n",
       "AssetCost            0\n",
       "AmountFinance        0\n",
       "DisbursalAmount      0\n",
       "EMI                  0\n",
       "DisbursalDate        0\n",
       "MaturityDAte         0\n",
       "AuthDate             0\n",
       "AssetID              0\n",
       "ManufacturerID       2\n",
       "SupplierID           0\n",
       "LTV                  0\n",
       "SEX                  5\n",
       "AGE                  7\n",
       "MonthlyIncome       14\n",
       "City                 0\n",
       "State                0\n",
       "ZiPCODE              1\n",
       "dtype: int64"
      ]
     },
     "execution_count": 6,
     "metadata": {},
     "output_type": "execute_result"
    }
   ],
   "source": [
    "tdf.isnull().sum()"
   ]
  },
  {
   "cell_type": "code",
   "execution_count": 7,
   "metadata": {},
   "outputs": [
    {
     "name": "stdout",
     "output_type": "stream",
     "text": [
      "col Frequency : unique 4\n",
      "col Frequency : unique 3\n",
      "----------\n",
      "col InstlmentMode : unique 2\n",
      "col InstlmentMode : unique 2\n",
      "----------\n",
      "col LoanStatus : unique 2\n",
      "col LoanStatus : unique 2\n",
      "----------\n",
      "col PaymentMode : unique 11\n",
      "col PaymentMode : unique 10\n",
      "----------\n",
      "col BranchID : unique 189\n",
      "col BranchID : unique 182\n",
      "----------\n",
      "col Area : unique 92\n",
      "col Area : unique 80\n",
      "----------\n",
      "col ManufacturerID : unique 10\n",
      "col ManufacturerID : unique 12\n",
      "----------\n",
      "col SupplierID : unique 4539\n",
      "col SupplierID : unique 1573\n",
      "----------\n",
      "col SEX : unique 2\n",
      "col SEX : unique 2\n",
      "----------\n",
      "col City : unique 488\n",
      "col City : unique 321\n",
      "----------\n",
      "col State : unique 22\n",
      "col State : unique 18\n",
      "----------\n",
      "col ZiPCODE : unique 9123\n",
      "col ZiPCODE : unique 2182\n",
      "----------\n",
      "col Top-up Month : unique 7\n",
      "----------\n"
     ]
    }
   ],
   "source": [
    "for col in cat_cols:\n",
    "    if col in df.columns:\n",
    "        print(\"col {} : unique {}\".format(col, df[col].nunique()))\n",
    "    \n",
    "    if col in tdf.columns:\n",
    "        print(\"col {} : unique {}\".format(col, tdf[col].nunique()))\n",
    "    print(\"----------\")"
   ]
  },
  {
   "cell_type": "code",
   "execution_count": 8,
   "metadata": {},
   "outputs": [
    {
     "name": "stdout",
     "output_type": "stream",
     "text": [
      "col AmountFinance : unique 20439\n",
      "col AmountFinance : unique 4066\n",
      "----------\n",
      "col DisbursalAmount : unique 19412\n",
      "col DisbursalAmount : unique 3978\n",
      "----------\n",
      "col EMI : unique 24323\n",
      "col EMI : unique 4370\n",
      "----------\n",
      "col AssetID : unique 128655\n",
      "col AssetID : unique 14745\n",
      "----------\n",
      "col MonthlyIncome : unique 11568\n",
      "col MonthlyIncome : unique 2470\n",
      "----------\n",
      "col Tenure : unique 141\n",
      "col Tenure : unique 98\n",
      "----------\n",
      "col AssetCost : unique 7835\n",
      "col AssetCost : unique 1162\n",
      "----------\n",
      "col LTV : unique 7988\n",
      "col LTV : unique 5101\n",
      "----------\n",
      "col AGE : unique 73\n",
      "col AGE : unique 65\n",
      "----------\n"
     ]
    }
   ],
   "source": [
    "for col in reg_cols:\n",
    "    if col in df.columns:\n",
    "        print(\"col {} : unique {}\".format(col, df[col].nunique()))\n",
    "    \n",
    "    if col in tdf.columns:\n",
    "        print(\"col {} : unique {}\".format(col, tdf[col].nunique()))\n",
    "    print(\"----------\")"
   ]
  },
  {
   "cell_type": "code",
   "execution_count": 9,
   "metadata": {},
   "outputs": [
    {
     "data": {
      "image/png": "[encoded data removed]",
      "text/plain": [
       "<Figure size 432x288 with 1 Axes>"
      ]
     },
     "metadata": {
      "needs_background": "light"
     },
     "output_type": "display_data"
    },
    {
     "data": {
      "image/png": "[encoded data removed]",
      "text/plain": [
       "<Figure size 432x288 with 1 Axes>"
      ]
     },
     "metadata": {
      "needs_background": "light"
     },
     "output_type": "display_data"
    },
    {
     "data": {
      "image/png": "[encoded data removed]",
      "text/plain": [
       "<Figure size 432x288 with 1 Axes>"
      ]
     },
     "metadata": {
      "needs_background": "light"
     },
     "output_type": "display_data"
    },
    {
     "data": {
      "image/png": "[encoded data removed]",
      "text/plain": [
       "<Figure size 432x288 with 1 Axes>"
      ]
     },
     "metadata": {
      "needs_background": "light"
     },
     "output_type": "display_data"
    },
    {
     "data": {
      "image/png": "[encoded data removed]",
      "text/plain": [
       "<Figure size 432x288 with 1 Axes>"
      ]
     },
     "metadata": {
      "needs_background": "light"
     },
     "output_type": "display_data"
    },
    {
     "data": {
      "image/png": "[encoded data removed]",
      "text/plain": [
       "<Figure size 432x288 with 1 Axes>"
      ]
     },
     "metadata": {
      "needs_background": "light"
     },
     "output_type": "display_data"
    },
    {
     "data": {
      "image/png": "[encoded data removed]",
      "text/plain": [
       "<Figure size 432x288 with 1 Axes>"
      ]
     },
     "metadata": {
      "needs_background": "light"
     },
     "output_type": "display_data"
    },
    {
     "data": {
      "image/png": "[encoded data removed]",
      "text/plain": [
       "<Figure size 432x288 with 1 Axes>"
      ]
     },
     "metadata": {
      "needs_background": "light"
     },
     "output_type": "display_data"
    },
    {
     "data": {
      "image/png": "[encoded data removed]",
      "text/plain": [
       "<Figure size 432x288 with 1 Axes>"
      ]
     },
     "metadata": {
      "needs_background": "light"
     },
     "output_type": "display_data"
    },
    {
     "data": {
      "image/png": "[encoded data removed]",
      "text/plain": [
       "<Figure size 432x288 with 1 Axes>"
      ]
     },
     "metadata": {
      "needs_background": "light"
     },
     "output_type": "display_data"
    },
    {
     "data": {
      "image/png": "[encoded data removed]",
      "text/plain": [
       "<Figure size 432x288 with 1 Axes>"
      ]
     },
     "metadata": {
      "needs_background": "light"
     },
     "output_type": "display_data"
    },
    {
     "data": {
      "image/png": "[encoded data removed]",
      "text/plain": [
       "<Figure size 432x288 with 1 Axes>"
      ]
     },
     "metadata": {
      "needs_background": "light"
     },
     "output_type": "display_data"
    },
    {
     "data": {
      "image/png": "[encoded data removed]",
      "text/plain": [
       "<Figure size 432x288 with 1 Axes>"
      ]
     },
     "metadata": {
      "needs_background": "light"
     },
     "output_type": "display_data"
    }
   ],
   "source": [
    "for col in cat_cols:\n",
    "    if col in df.columns:\n",
    "        fig, ax = plt.subplots()\n",
    "        df[col].value_counts().plot(ax=ax, kind='bar', title=col)\n",
    "\n",
    "    "
   ]
  },
  {
   "cell_type": "code",
   "execution_count": 10,
   "metadata": {},
   "outputs": [
    {
     "data": {
      "text/plain": [
       "ID                     0\n",
       "Frequency              0\n",
       "InstlmentMode          0\n",
       "LoanStatus             0\n",
       "PaymentMode            0\n",
       "BranchID               0\n",
       "Area               11653\n",
       "Tenure                 0\n",
       "AssetCost              0\n",
       "AmountFinance          0\n",
       "DisbursalAmount        0\n",
       "EMI                    0\n",
       "DisbursalDate          0\n",
       "MaturityDAte           1\n",
       "AuthDate               0\n",
       "AssetID                0\n",
       "ManufacturerID         0\n",
       "SupplierID             0\n",
       "LTV                    0\n",
       "SEX                   59\n",
       "AGE                   59\n",
       "MonthlyIncome        234\n",
       "City               11256\n",
       "State                  0\n",
       "ZiPCODE              372\n",
       "Top-up Month           0\n",
       "dtype: int64"
      ]
     },
     "execution_count": 10,
     "metadata": {},
     "output_type": "execute_result"
    }
   ],
   "source": [
    "df.isnull().sum()"
   ]
  },
  {
   "cell_type": "markdown",
   "metadata": {},
   "source": [
    "# fix missing city"
   ]
  },
  {
   "cell_type": "code",
   "execution_count": 11,
   "metadata": {},
   "outputs": [
    {
     "data": {
      "text/plain": [
       "(True, True)"
      ]
     },
     "execution_count": 11,
     "metadata": {},
     "output_type": "execute_result"
    }
   ],
   "source": [
    "\n",
    "# check if all values are either nan or whole numbers\n",
    "    \n",
    "x_int1 = df.ZiPCODE[~df.ZiPCODE.isnull()].values.astype(int)\n",
    "x_int2 = tdf.ZiPCODE[~tdf.ZiPCODE.isnull()].values.astype(int)\n",
    "\n",
    "np.all((df.ZiPCODE[~df.ZiPCODE.isnull()] - x_int1) == 0), np.all((tdf.ZiPCODE[~tdf.ZiPCODE.isnull()] - x_int2) == 0)"
   ]
  },
  {
   "cell_type": "code",
   "execution_count": 12,
   "metadata": {},
   "outputs": [
    {
     "data": {
      "text/plain": [
       "(48, 1505, 344, 47)"
      ]
     },
     "execution_count": 12,
     "metadata": {},
     "output_type": "execute_result"
    }
   ],
   "source": [
    "# check if a zip code can be mapped to different area\n",
    "\n",
    "both_area_pin_missing = 0\n",
    "both_city_pin_missing = 0\n",
    "both_area_city_missing = 0\n",
    "all_three_missing = 0\n",
    "\n",
    "for area, pin, city in zip(df.Area.values, df.ZiPCODE.values, df.City.values):\n",
    "    # there is no place where both pin and area are missing\n",
    "    x = np.isnan(pin)\n",
    "    y = pd.isnull(area)\n",
    "    z = pd.isnull(city)\n",
    "    if x and y: both_area_pin_missing += 1\n",
    "    if y and z: both_area_city_missing += 1\n",
    "    if x and z: both_city_pin_missing += 1\n",
    "    if x and y and z: all_three_missing += 1\n",
    "both_area_pin_missing, both_area_city_missing, both_city_pin_missing, all_three_missing"
   ]
  },
  {
   "cell_type": "code",
   "execution_count": 13,
   "metadata": {},
   "outputs": [
    {
     "data": {
      "text/plain": [
       "(0, 0, 0, 0)"
      ]
     },
     "execution_count": 13,
     "metadata": {},
     "output_type": "execute_result"
    }
   ],
   "source": [
    "# check if a zip code can be mapped to different area\n",
    "\n",
    "both_area_pin_missing = 0\n",
    "both_city_pin_missing = 0\n",
    "both_area_city_missing = 0\n",
    "all_three_missing = 0\n",
    "\n",
    "for area, pin, city in zip(tdf.Area.values, tdf.ZiPCODE.values, tdf.City.values):\n",
    "    # there is no place where both pin and area are missing\n",
    "    x = np.isnan(pin)\n",
    "    y = pd.isnull(area)\n",
    "    z = pd.isnull(city)\n",
    "    if x and y: both_area_pin_missing += 1\n",
    "    if y and z: both_area_city_missing += 1\n",
    "    if x and z: both_city_pin_missing += 1\n",
    "    if x and y and z: all_three_missing += 1\n",
    "both_area_pin_missing, both_area_city_missing, both_city_pin_missing, all_three_missing"
   ]
  },
  {
   "cell_type": "code",
   "execution_count": 14,
   "metadata": {},
   "outputs": [
    {
     "name": "stdout",
     "output_type": "stream",
     "text": [
      "713101.0: {'BURDWAN', 'BIRBHUM'}\n",
      "722138.0: {'KOLKATA', 'BANKURA'}\n",
      "741137.0: {'KOLKATA', 'NADIA'}\n",
      "145001.0: {'JALANDHAR (PATHANKOT)', 'PATHANKOT'}\n",
      "145025.0: {'GURDASPUR', 'PATHANKOT'}\n",
      "584123.0: {'RAICHUR', 'MANVI'}\n",
      "142043.0: {'FIROZPUR', 'MOGA'}\n",
      "141801.0: {'LUDHIANA', 'FATEHGARH SAHIB'}\n",
      "733140.0: {'DAKSHIN DINAJPUR', 'KOLKATA'}\n",
      "160055.0: {'RUPNAGAR', 'MOHALI'}\n",
      "125113.0: {'FATEHABAD', 'HISAR'}\n",
      "125052.0: {'FATEHABAD', 'HISAR'}\n",
      "741155.0: {'KOLKATA', 'NADIA'}\n",
      "742101.0: {'MURSHIDABAD', 'BAHARAMPUR'}\n",
      "134202.0: {'AMBALA', 'PANCHKULA'}\n",
      "140101.0: {'RUPNAGAR', 'FATEHGARH SAHIB'}\n",
      "210421.0: {'HAMIRPUR', 'MAHOBA'}\n",
      "229303.0: {'PRATAPGARH', 'RAI BARELI'}\n",
      "229010.0: {'BARELI', 'RAI BARELI'}\n",
      "577413.0: {'SHIMOGA', '506'}\n",
      "577243.0: {'SHIMOGA', 'DAVANGARE'}\n",
      "505532.0: {'KARIMNAGAR', '6'}\n",
      "224122.0: {'AKBARPUR NEAR KANPUR', 'AMBEDKAR NAGAR'}\n",
      "389235.0: {'VADODARA', 'PANCH MAHALS'}\n",
      "431522.0: {'LATUR', 'OSMANABAD'}\n",
      "441207.0: {'GADCHIROLI', 'CHANDRAPUR'}\n",
      "442302.0: {'WARDHA', 'AMRAVATI'}\n",
      "414603.0: {'Newasa', 'AHMED NAGAR'}\n",
      "425413.0: {'NANDURBAR', 'DHULE'}\n",
      "360490.0: {'RAJKOT', 'PORBANDAR'}\n",
      "360590.0: {'JAMNAGAR', 'PORBANDAR'}\n",
      "507134.0: {'EAST GODAVARI', 'KHAMMAM'}\n",
      "152028.0: {'FIROZPUR', 'MOGA'}\n",
      "147104.0: {'PATIALA', 'FATEHGARH SAHIB'}\n",
      "140112.0: {'RUPNAGAR', 'FATEHGARH SAHIB'}\n",
      "123027.0: {'REWARI', 'MAHENDRAGARH'}\n",
      "123401.0: {'REWARI', 'GURGAON'}\n",
      "450001.0: {'BURHANPUR', 'KHANDWA'}\n",
      "450661.0: {'BURHANPUR', 'KHANDWA'}\n",
      "458553.0: {'NEEMUCH', 'MANDSAUR'}\n",
      "486445.0: {'SATNA', 'REWA'}\n",
      "125048.0: {'FATEHABAD', 'HISAR'}\n",
      "585214.0: {'GULBARGA', 'YADGIR'}\n",
      "206301.0: {'ETAWAH', 'MAINPURI'}\n",
      "824207.0: {'AURANGABAD(BH)', 'AURANGABAD'}\n",
      "824118.0: {'AURANGABAD(BH)', 'AURANGABAD'}\n",
      "824125.0: {'AURANGABAD(BH)', 'AURANGABAD'}\n",
      "824112.0: {'AURANGABAD(BH)', 'AURANGABAD'}\n",
      "824208.0: {'AURANGABAD(BH)', 'AURANGABAD'}\n",
      "824202.0: {'AURANGABAD(BH)', 'AURANGABAD'}\n",
      "824123.0: {'AURANGABAD(BH)', 'AURANGABAD'}\n",
      "824124.0: {'AURANGABAD(BH)', 'AURANGABAD'}\n",
      "824121.0: {'AURANGABAD(BH)', 'AURANGABAD'}\n",
      "824102.0: {'AURANGABAD(BH)', 'AURANGABAD'}\n",
      "824122.0: {'AURANGABAD(BH)', 'AURANGABAD'}\n",
      "824101.0: {'AURANGABAD(BH)', 'AURANGABAD'}\n",
      "824111.0: {'AURANGABAD(BH)', 'AURANGABAD'}\n",
      "824301.0: {'AURANGABAD(BH)', 'AURANGABAD'}\n",
      "824103.0: {'AURANGABAD(BH)', 'AURANGABAD'}\n",
      "844506.0: {'VAISHALI', 'SAMASTIPUR'}\n",
      "824120.0: {'AURANGABAD(BH)', 'AURANGABAD'}\n",
      "844111.0: {'VAISHALI', '1947'}\n",
      "824113.0: {'AURANGABAD(BH)', 'AURANGABAD'}\n",
      "824203.0: {'AURANGABAD(BH)', 'AURANGABAD'}\n"
     ]
    }
   ],
   "source": [
    "# can a pin be mapped to several cities\n",
    "pin_city_mapping = {}\n",
    "for city, pin in zip(df.City.values, df.ZiPCODE.values):\n",
    "    if not (np.isnan(pin) or pd.isnull(city)):\n",
    "        if pin in pin_city_mapping:\n",
    "            pin_city_mapping[pin].add(city)\n",
    "        else:\n",
    "            pin_city_mapping[pin] = set([city])\n",
    "for pin in pin_city_mapping:\n",
    "    x = pin_city_mapping[pin]\n",
    "    if len(x) > 1:\n",
    "        print(\"{}: {}\".format(pin, x))"
   ]
  },
  {
   "cell_type": "code",
   "execution_count": 15,
   "metadata": {},
   "outputs": [
    {
     "data": {
      "text/plain": [
       "((37, 26), (316, 26), (4, 26))"
      ]
     },
     "execution_count": 15,
     "metadata": {},
     "output_type": "execute_result"
    }
   ],
   "source": [
    "df[df.City == 'JALANDHAR (PATHANKOT)'].shape, df[df.City == 'JALANDHAR'].shape,  df[df.City == 'PATHANKOT'].shape"
   ]
  },
  {
   "cell_type": "code",
   "execution_count": 16,
   "metadata": {},
   "outputs": [],
   "source": [
    "city_mappings = {\n",
    "    \"AURANGABAD(BH)\": \"AURANGABAD\",\n",
    "    '6': 'KARIMNAGAR',\n",
    "    '506': 'SHIMOGA',\n",
    "    '1947': 'VAISHALI'\n",
    "}\n",
    "pin_city_mappings = {}"
   ]
  },
  {
   "cell_type": "code",
   "execution_count": 17,
   "metadata": {},
   "outputs": [
    {
     "name": "stdout",
     "output_type": "stream",
     "text": [
      "506 577413.0\n",
      "506 577413.0\n",
      "506 577413.0\n",
      "506 577413.0\n",
      "506 577413.0\n",
      "6 505532.0\n",
      "6 505532.0\n",
      "6 505532.0\n",
      "6 505532.0\n",
      "6 505532.0\n",
      "6 505532.0\n",
      "1947 844111.0\n",
      "1947 844111.0\n",
      "1947 844111.0\n",
      "1947 844111.0\n",
      "1947 844111.0\n",
      "1947 844111.0\n",
      "1947 844111.0\n",
      "1947 844111.0\n"
     ]
    }
   ],
   "source": [
    "# check how many cities have numbers in them\n",
    "def hasNumbers(inputString):\n",
    "    return any(char.isdigit() for char in inputString)\n",
    "for city, pin in zip(df.City.values, df.ZiPCODE.values):\n",
    "    if not pd.isnull(city):\n",
    "        if hasNumbers(city):\n",
    "            print(city, pin)"
   ]
  },
  {
   "cell_type": "code",
   "execution_count": 18,
   "metadata": {},
   "outputs": [],
   "source": [
    "# fixing numbers and aurangabad\n",
    "df['City'] = df['City'].apply(lambda x: city_mappings[x] if x in city_mappings else x)"
   ]
  },
  {
   "cell_type": "code",
   "execution_count": 19,
   "metadata": {},
   "outputs": [
    {
     "data": {
      "text/plain": [
       "(92, 8492, 8698, 466)"
      ]
     },
     "execution_count": 19,
     "metadata": {},
     "output_type": "execute_result"
    }
   ],
   "source": [
    "# creating area => city, pin => area, pin => city\n",
    "area_city = {}\n",
    "pin_area = {}\n",
    "pin_city = {}\n",
    "city_area = {}\n",
    "area_pin = {}\n",
    "city_pin = {}\n",
    "for area, pin, city in zip(df.Area.values, df.ZiPCODE.values, df.City.values):\n",
    "    x = np.isnan(pin)\n",
    "    y = pd.isnull(area)\n",
    "    z = pd.isnull(city)\n",
    "    \n",
    "    if not (x or y): \n",
    "        if pin not in pin_area: pin_area[pin] = set()\n",
    "        pin_area[pin].add(area)\n",
    "        if area not in area_pin: area_pin[area] = set()\n",
    "        area_pin[area].add(pin)\n",
    "        \n",
    "    if not (x or z):\n",
    "        if pin not in pin_city: pin_city[pin] = set()\n",
    "        pin_city[pin].add(city)\n",
    "        if city not in city_pin: city_pin[city] = set()\n",
    "        city_pin[city].add(pin)\n",
    "    if not (y or z):\n",
    "        if area not in area_city: area_city[area] = set()\n",
    "        area_city[area].add(city)\n",
    "        if city not in city_area: city_area[city] = set()\n",
    "        city_area[city].add(area)\n",
    "len(area_city), len(pin_area), len(pin_city), len(city_area)\n",
    "    "
   ]
  },
  {
   "cell_type": "code",
   "execution_count": 20,
   "metadata": {},
   "outputs": [],
   "source": [
    "# to_solve = 11256\n",
    "# solved = 0\n",
    "# for area, pin, city in zip(df.Area.values, df.ZiPCODE.values, df.City.values):\n",
    "#     if pd.isnull(city):\n",
    "#         # first check if it can be replaced by pin_city\n",
    "#         try:\n",
    "#             if not np.isnan(pin) and len(pin_city[pin]) == 1:\n",
    "#                 solved += 1\n",
    "#         except:\n",
    "#             print(\"pin not found {}\".format(pin))\n",
    "# solved"
   ]
  },
  {
   "cell_type": "code",
   "execution_count": 21,
   "metadata": {},
   "outputs": [],
   "source": [
    "# solve where pin is available and city is not and that pin has only one city\n",
    "def replace_city_with_pin(x):\n",
    "    if pd.isnull(x[0]):\n",
    "        try:\n",
    "            if (not np.isnan(x[1]))  and len(pin_city[x[1]]) == 1: \n",
    "                return list(pin_city[x[1]])[0]\n",
    "            else:\n",
    "                return x[0]\n",
    "        except:\n",
    "            return x[0]\n",
    "    return x[0]\n",
    "df['City'] = df[['City', 'ZiPCODE']].apply(lambda x: replace_city_with_pin(x), axis=1)"
   ]
  },
  {
   "cell_type": "code",
   "execution_count": 22,
   "metadata": {},
   "outputs": [
    {
     "data": {
      "text/plain": [
       "1381"
      ]
     },
     "execution_count": 22,
     "metadata": {},
     "output_type": "execute_result"
    }
   ],
   "source": [
    "df.City.isnull().sum()"
   ]
  },
  {
   "cell_type": "code",
   "execution_count": 23,
   "metadata": {},
   "outputs": [],
   "source": [
    "# solve where area is available and city is not and area has only one city\n",
    "def replace_city_with_area(x):\n",
    "    if pd.isnull(x[0]):\n",
    "        try:\n",
    "            if (not pd.isnull(x[1])) and len(area_city[x[1]]) == 1:\n",
    "                return list(area_city[x[1]])[0]\n",
    "            elif x[1] in area_city: return x[1]\n",
    "            else: return x[0]\n",
    "        except:\n",
    "            return x[0]\n",
    "    return x[0]\n",
    "df['City'] = df[['City', 'Area']].apply(lambda x: replace_city_with_area(x), axis=1)\n",
    "            "
   ]
  },
  {
   "cell_type": "code",
   "execution_count": 24,
   "metadata": {},
   "outputs": [
    {
     "data": {
      "text/plain": [
       "154"
      ]
     },
     "execution_count": 24,
     "metadata": {},
     "output_type": "execute_result"
    }
   ],
   "source": [
    "df.City.isnull().sum()"
   ]
  },
  {
   "cell_type": "markdown",
   "metadata": {},
   "source": [
    "# fix Area"
   ]
  },
  {
   "cell_type": "code",
   "execution_count": 25,
   "metadata": {},
   "outputs": [
    {
     "data": {
      "text/plain": [
       "11653"
      ]
     },
     "execution_count": 25,
     "metadata": {},
     "output_type": "execute_result"
    }
   ],
   "source": [
    "df.Area.isnull().sum()"
   ]
  },
  {
   "cell_type": "code",
   "execution_count": 26,
   "metadata": {},
   "outputs": [],
   "source": [
    "# solve where city is available and area is not and city has only one area\n",
    "def replace_area_with_city(x):\n",
    "    if pd.isnull(x[0]):\n",
    "        try:\n",
    "            if (not pd.isnull(x[1])) and len(city_area[x[1]]) == 1:\n",
    "                return list(city_area[x[1]])[0]\n",
    "#             elif x[1] in area_city: return x[1]\n",
    "            else: return x[0]\n",
    "        except:\n",
    "            return x[0]\n",
    "    return x[0]\n",
    "df['Area'] = df[['Area', 'City']].apply(lambda x: replace_area_with_city(x), axis=1)\n",
    "            "
   ]
  },
  {
   "cell_type": "code",
   "execution_count": 27,
   "metadata": {},
   "outputs": [
    {
     "data": {
      "text/plain": [
       "7545"
      ]
     },
     "execution_count": 27,
     "metadata": {},
     "output_type": "execute_result"
    }
   ],
   "source": [
    "df.Area.isnull().sum()"
   ]
  },
  {
   "cell_type": "code",
   "execution_count": 28,
   "metadata": {},
   "outputs": [],
   "source": [
    "# solve where pin is available and area is not and that pin has only one area\n",
    "def replace_area_with_pin(x):\n",
    "    if pd.isnull(x[0]):\n",
    "        try:\n",
    "            if (not np.isnan(x[1]))  and len(pin_area[x[1]]) == 1: \n",
    "                return list(pin_area[x[1]])[0]\n",
    "            else:\n",
    "                return x[0]\n",
    "        except:\n",
    "            return x[0]\n",
    "    return x[0]\n",
    "df['Area'] = df[['Area', 'ZiPCODE']].apply(lambda x: replace_area_with_pin(x), axis=1)"
   ]
  },
  {
   "cell_type": "code",
   "execution_count": 29,
   "metadata": {},
   "outputs": [
    {
     "data": {
      "text/plain": [
       "4242"
      ]
     },
     "execution_count": 29,
     "metadata": {},
     "output_type": "execute_result"
    }
   ],
   "source": [
    "df.Area.isnull().sum()"
   ]
  },
  {
   "cell_type": "code",
   "execution_count": 30,
   "metadata": {},
   "outputs": [],
   "source": [
    "# creating area => city, pin => area, pin => city\n",
    "test_pin_area = {}\n",
    "test_city_area = {}\n",
    "for area, pin, city in zip(tdf.Area.values, tdf.ZiPCODE.values, tdf.City.values):\n",
    "    x = np.isnan(pin)\n",
    "    y = pd.isnull(area)\n",
    "    z = pd.isnull(city)\n",
    "    \n",
    "    if not (x or y): \n",
    "        if pin not in test_pin_area: test_pin_area[pin] = set()\n",
    "        test_pin_area[pin].add(area)\n",
    "#     if not (x or z):\n",
    "#         if pin not in pin_city: pin_city[pin] = set()\n",
    "#         pin_city[pin].add(city)\n",
    "    \n",
    "    if not (y or z):\n",
    "        if city not in test_city_area: test_city_area[city] = set()\n",
    "        test_city_area[city].add(area)\n",
    "\n",
    "        \n",
    "    "
   ]
  },
  {
   "cell_type": "code",
   "execution_count": 31,
   "metadata": {},
   "outputs": [
    {
     "name": "stdout",
     "output_type": "stream",
     "text": [
      "546\n",
      "395\n",
      "346\n"
     ]
    }
   ],
   "source": [
    "print(tdf.Area.isnull().sum())\n",
    "def test_replace_area_with_city(x):\n",
    "    if pd.isnull(x[0]):\n",
    "        try:\n",
    "            if (not pd.isnull(x[1])) and len(test_city_area[x[1]]) == 1:\n",
    "                return list(test_city_area[x[1]])[0]\n",
    "#             elif x[1] in area_city: return x[1]\n",
    "            else: return x[0]\n",
    "        except:\n",
    "            return x[0]\n",
    "    return x[0]\n",
    "tdf['Area'] = tdf[['Area', 'City']].apply(lambda x: test_replace_area_with_city(x), axis=1)\n",
    "print(tdf.Area.isnull().sum())\n",
    "\n",
    "def test_replace_area_with_pin(x):\n",
    "    if pd.isnull(x[0]):\n",
    "        try:\n",
    "            if (not np.isnan(x[1]))  and len(test_pin_area[x[1]]) == 1: \n",
    "                return list(test_pin_area[x[1]])[0]\n",
    "            else:\n",
    "                return x[0]\n",
    "        except:\n",
    "            return x[0]\n",
    "    return x[0]\n",
    "\n",
    "tdf['Area'] = tdf[['Area', 'ZiPCODE']].apply(lambda x: test_replace_area_with_pin(x), axis=1)\n",
    "print(tdf.Area.isnull().sum())"
   ]
  },
  {
   "cell_type": "markdown",
   "metadata": {},
   "source": [
    "# pin update"
   ]
  },
  {
   "cell_type": "code",
   "execution_count": 32,
   "metadata": {},
   "outputs": [
    {
     "name": "stdout",
     "output_type": "stream",
     "text": [
      "372\n"
     ]
    },
    {
     "data": {
      "text/plain": [
       "372"
      ]
     },
     "execution_count": 32,
     "metadata": {},
     "output_type": "execute_result"
    }
   ],
   "source": [
    "print(df.ZiPCODE.isnull().sum())\n",
    "def replace_pin(x):\n",
    "    pin, area, city = x[0], x[1], x[2]\n",
    "    if np.isnan(pin):\n",
    "        if (not pd.isnull(area)) and len(area_pin[area]) == 1:\n",
    "            return list(area_pin[area])[0]\n",
    "        elif (not pd.isnull(city) and len(city_pin[city]) == 1):\n",
    "            return list(city_pin[city])[0]\n",
    "        else: return pin\n",
    "    else:\n",
    "        return pin\n",
    "\n",
    "df[['ZiPCODE', 'Area', 'City']].apply(lambda x: replace_area_with_pin(x), axis=1).isnull().sum()"
   ]
  },
  {
   "cell_type": "code",
   "execution_count": 33,
   "metadata": {},
   "outputs": [],
   "source": [
    "df['ZiPCODE'] = df.ZiPCODE.values.astype(int)"
   ]
  },
  {
   "cell_type": "code",
   "execution_count": 34,
   "metadata": {},
   "outputs": [],
   "source": [
    "tdf['ZiPCODE'] = tdf.ZiPCODE.values.astype(int)"
   ]
  },
  {
   "cell_type": "code",
   "execution_count": 35,
   "metadata": {},
   "outputs": [
    {
     "data": {
      "text/plain": [
       "ID                          int64\n",
       "Frequency                  object\n",
       "InstlmentMode              object\n",
       "LoanStatus                 object\n",
       "PaymentMode                object\n",
       "BranchID                    int64\n",
       "Area                       object\n",
       "Tenure                      int64\n",
       "AssetCost                   int64\n",
       "AmountFinance             float64\n",
       "DisbursalAmount           float64\n",
       "EMI                       float64\n",
       "DisbursalDate      datetime64[ns]\n",
       "MaturityDAte       datetime64[ns]\n",
       "AuthDate           datetime64[ns]\n",
       "AssetID                     int64\n",
       "ManufacturerID              int64\n",
       "SupplierID                  int64\n",
       "LTV                       float64\n",
       "SEX                        object\n",
       "AGE                       float64\n",
       "MonthlyIncome             float64\n",
       "City                       object\n",
       "State                      object\n",
       "ZiPCODE                     int64\n",
       "Top-up Month               object\n",
       "dtype: object"
      ]
     },
     "execution_count": 35,
     "metadata": {},
     "output_type": "execute_result"
    }
   ],
   "source": [
    "df.dtypes"
   ]
  },
  {
   "cell_type": "code",
   "execution_count": 36,
   "metadata": {},
   "outputs": [
    {
     "data": {
      "text/plain": [
       "ID                    0\n",
       "Frequency             0\n",
       "InstlmentMode         0\n",
       "LoanStatus            0\n",
       "PaymentMode           0\n",
       "BranchID              0\n",
       "Area               4242\n",
       "Tenure                0\n",
       "AssetCost             0\n",
       "AmountFinance         0\n",
       "DisbursalAmount       0\n",
       "EMI                   0\n",
       "DisbursalDate         0\n",
       "MaturityDAte          1\n",
       "AuthDate              0\n",
       "AssetID               0\n",
       "ManufacturerID        0\n",
       "SupplierID            0\n",
       "LTV                   0\n",
       "SEX                  59\n",
       "AGE                  59\n",
       "MonthlyIncome       234\n",
       "City                154\n",
       "State                 0\n",
       "ZiPCODE               0\n",
       "Top-up Month          0\n",
       "dtype: int64"
      ]
     },
     "execution_count": 36,
     "metadata": {},
     "output_type": "execute_result"
    }
   ],
   "source": [
    "df.isnull().sum()"
   ]
  },
  {
   "cell_type": "code",
   "execution_count": 37,
   "metadata": {},
   "outputs": [
    {
     "data": {
      "text/plain": [
       "ID                   0\n",
       "Frequency            0\n",
       "InstlmentMode        0\n",
       "LoanStatus           0\n",
       "PaymentMode          0\n",
       "BranchID             0\n",
       "Area               346\n",
       "Tenure               0\n",
       "AssetCost            0\n",
       "AmountFinance        0\n",
       "DisbursalAmount      0\n",
       "EMI                  0\n",
       "DisbursalDate        0\n",
       "MaturityDAte         0\n",
       "AuthDate             0\n",
       "AssetID              0\n",
       "ManufacturerID       2\n",
       "SupplierID           0\n",
       "LTV                  0\n",
       "SEX                  5\n",
       "AGE                  7\n",
       "MonthlyIncome       14\n",
       "City                 0\n",
       "State                0\n",
       "ZiPCODE              0\n",
       "dtype: int64"
      ]
     },
     "execution_count": 37,
     "metadata": {},
     "output_type": "execute_result"
    }
   ],
   "source": [
    "tdf.isnull().sum()"
   ]
  },
  {
   "cell_type": "code",
   "execution_count": 38,
   "metadata": {},
   "outputs": [
    {
     "data": {
      "text/plain": [
       "ID                          int64\n",
       "Frequency                  object\n",
       "InstlmentMode              object\n",
       "LoanStatus                 object\n",
       "PaymentMode                object\n",
       "BranchID                    int64\n",
       "Area                       object\n",
       "Tenure                      int64\n",
       "AssetCost                   int64\n",
       "AmountFinance             float64\n",
       "DisbursalAmount           float64\n",
       "EMI                       float64\n",
       "DisbursalDate      datetime64[ns]\n",
       "MaturityDAte       datetime64[ns]\n",
       "AuthDate           datetime64[ns]\n",
       "AssetID                     int64\n",
       "ManufacturerID            float64\n",
       "SupplierID                  int64\n",
       "LTV                       float64\n",
       "SEX                        object\n",
       "AGE                       float64\n",
       "MonthlyIncome             float64\n",
       "City                       object\n",
       "State                      object\n",
       "ZiPCODE                     int64\n",
       "dtype: object"
      ]
     },
     "execution_count": 38,
     "metadata": {},
     "output_type": "execute_result"
    }
   ],
   "source": [
    "tdf.dtypes"
   ]
  },
  {
   "cell_type": "code",
   "execution_count": 39,
   "metadata": {},
   "outputs": [],
   "source": [
    "df.to_csv(\"Train/cleaned_train.csv\", index=False)\n",
    "tdf.to_csv(\"Test/cleaned_train.csv\", index=False)\n"
   ]
  },
  {
   "cell_type": "code",
   "execution_count": null,
   "metadata": {},
   "outputs": [],
   "source": []
  },
  {
   "cell_type": "code",
   "execution_count": null,
   "metadata": {},
   "outputs": [],
   "source": []
  }
 ],
 "metadata": {
  "kernelspec": {
   "display_name": "Python 3",
   "language": "python",
   "name": "python3"
  },
  "language_info": {
   "codemirror_mode": {
    "name": "ipython",
    "version": 3
   },
   "file_extension": ".py",
   "mimetype": "text/x-python",
   "name": "python",
   "nbconvert_exporter": "python",
   "pygments_lexer": "ipython3",
   "version": "3.7.7"
  }
 },
 "nbformat": 4,
 "nbformat_minor": 2
}
