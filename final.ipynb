{
  "nbformat": 4,
  "nbformat_minor": 0,
  "metadata": {
    "colab": {
      "name": "DeepTables",
      "provenance": [],
      "collapsed_sections": []
    },
    "kernelspec": {
      "name": "python3",
      "display_name": "Python 3"
    },
    "accelerator": "GPU"
  },
  "cells": [
    {
      "cell_type": "code",
      "metadata": {
        "id": "SXyGYsWUYOUg",
        "colab_type": "code",
        "colab": {}
      },
      "source": [
        "# !pip install deeptables[gpu]"
      ],
      "execution_count": 1,
      "outputs": []
    },
    {
      "cell_type": "code",
      "metadata": {
        "id": "Jdnv75AXYXsM",
        "colab_type": "code",
        "colab": {}
      },
      "source": [
        "from deeptables.models.deeptable import DeepTable, ModelConfig\n",
        "from deeptables.models.deepnets import WideDeep\n",
        "from deeptables.datasets import dsutils\n",
        "from sklearn.model_selection import train_test_split\n",
        "\n"
      ],
      "execution_count": 2,
      "outputs": []
    },
    {
      "cell_type": "code",
      "metadata": {
        "id": "mTw4ByqPYpyb",
        "colab_type": "code",
        "colab": {
          "base_uri": "https://localhost:8080/",
          "height": 51
        },
        "outputId": "5cb60ba4-76d3-4b28-d105-b2e223949d64"
      },
      "source": [
        "import numpy as np\n",
        "import pandas as pd\n",
        "import os\n",
        "%matplotlib inline\n",
        "import matplotlib.pyplot as plt \n",
        "import seaborn as sns\n",
        "color = sns.color_palette()\n",
        "sns.set_style('darkgrid')\n",
        "from tqdm import tqdm\n",
        "tqdm.pandas()\n",
        "from catboost import CatBoostClassifier\n",
        "\n",
        "from sklearn.preprocessing import StandardScaler, LabelEncoder\n",
        "from sklearn.model_selection import train_test_split, KFold, StratifiedKFold, cross_val_score, RepeatedStratifiedKFold\n",
        "from sklearn import metrics\n",
        "from lightgbm import LGBMClassifier\n",
        "from IPython.display import FileLink"
      ],
      "execution_count": 3,
      "outputs": [
        {
          "output_type": "stream",
          "text": [
            "/usr/local/lib/python3.6/dist-packages/statsmodels/tools/_testing.py:19: FutureWarning: pandas.util.testing is deprecated. Use the functions in the public API at pandas.testing instead.\n",
            "  import pandas.util.testing as tm\n"
          ],
          "name": "stderr"
        }
      ]
    },
    {
      "cell_type": "code",
      "metadata": {
        "id": "Xt3x35HuYt7W",
        "colab_type": "code",
        "colab": {
          "base_uri": "https://localhost:8080/",
          "height": 34
        },
        "outputId": "72d434b5-41a3-4ae3-f310-c81f07097d95"
      },
      "source": [
        "from google.colab import drive\n",
        "\n",
        "drive.mount('/content/gdrive')"
      ],
      "execution_count": 4,
      "outputs": [
        {
          "output_type": "stream",
          "text": [
            "Drive already mounted at /content/gdrive; to attempt to forcibly remount, call drive.mount(\"/content/gdrive\", force_remount=True).\n"
          ],
          "name": "stdout"
        }
      ]
    },
    {
      "cell_type": "code",
      "metadata": {
        "id": "IWs9ZUJlY--v",
        "colab_type": "code",
        "colab": {}
      },
      "source": [
        "train_file = '/content/gdrive/My Drive/train.csv'\n",
        "test_file = '/content/gdrive/My Drive/test.csv'\n",
        "filename = 'result.csv'"
      ],
      "execution_count": 5,
      "outputs": []
    },
    {
      "cell_type": "code",
      "metadata": {
        "id": "0kAmbt7IZdR4",
        "colab_type": "code",
        "colab": {}
      },
      "source": [
        "df, tdf = pd.read_csv(train_file), pd.read_csv(test_file)"
      ],
      "execution_count": 6,
      "outputs": []
    },
    {
      "cell_type": "code",
      "metadata": {
        "id": "1GcLE1DoaN7-",
        "colab_type": "code",
        "colab": {
          "base_uri": "https://localhost:8080/",
          "height": 34
        },
        "outputId": "cec903e3-aa79-4dc0-fc91-3944190b31f6"
      },
      "source": [
        "df.shape, tdf.shape, df.id.nunique(), tdf.id.nunique()"
      ],
      "execution_count": 7,
      "outputs": [
        {
          "output_type": "execute_result",
          "data": {
            "text/plain": [
              "((381109, 12), (127037, 11), 381109, 127037)"
            ]
          },
          "metadata": {
            "tags": []
          },
          "execution_count": 7
        }
      ]
    },
    {
      "cell_type": "code",
      "metadata": {
        "id": "JpEL6GQRaQa_",
        "colab_type": "code",
        "colab": {}
      },
      "source": [
        "cat_cols = ['Gender', 'Driving_License', 'Region_Code',\n",
        "        'Previously_Insured', 'Vehicle_Age', 'Vehicle_Damage']\n",
        "reg_cols = [ 'Age', 'Annual_Premium','Vintage']\n",
        "useless_cols = ['id']\n",
        "target_col = ['Response']\n",
        "spl_cat_col = ['Policy_Sales_Channel']"
      ],
      "execution_count": 8,
      "outputs": []
    },
    {
      "cell_type": "code",
      "metadata": {
        "id": "i3XMrky1aSi0",
        "colab_type": "code",
        "colab": {}
      },
      "source": [
        ""
      ],
      "execution_count": 8,
      "outputs": []
    },
    {
      "cell_type": "code",
      "metadata": {
        "id": "X10O5n3caWO_",
        "colab_type": "code",
        "colab": {}
      },
      "source": [
        "\n"
      ],
      "execution_count": 8,
      "outputs": []
    },
    {
      "cell_type": "code",
      "metadata": {
        "id": "RFasobkCaYVz",
        "colab_type": "code",
        "colab": {}
      },
      "source": [
        ""
      ],
      "execution_count": 8,
      "outputs": []
    },
    {
      "cell_type": "code",
      "metadata": {
        "id": "6Td3zeWmaaJn",
        "colab_type": "code",
        "colab": {}
      },
      "source": [
        ""
      ],
      "execution_count": 8,
      "outputs": []
    },
    {
      "cell_type": "code",
      "metadata": {
        "id": "Ds8YNIfyafZS",
        "colab_type": "code",
        "colab": {}
      },
      "source": [
        ""
      ],
      "execution_count": 8,
      "outputs": []
    },
    {
      "cell_type": "code",
      "metadata": {
        "id": "FSZcLwl8aiMS",
        "colab_type": "code",
        "colab": {
          "base_uri": "https://localhost:8080/",
          "height": 34
        },
        "outputId": "0c7e4ace-09e9-4000-b576-4389d252c902"
      },
      "source": [
        "X = df[df.columns[~(df.columns.isin(['id', target_col[0]]))].tolist()]\n",
        "\n",
        "y = df[target_col[0]].values\n",
        "print(type(X), type(y))"
      ],
      "execution_count": 9,
      "outputs": [
        {
          "output_type": "stream",
          "text": [
            "<class 'pandas.core.frame.DataFrame'> <class 'numpy.ndarray'>\n"
          ],
          "name": "stdout"
        }
      ]
    },
    {
      "cell_type": "code",
      "metadata": {
        "id": "nfUnIY92akTt",
        "colab_type": "code",
        "colab": {}
      },
      "source": [
        ""
      ],
      "execution_count": 9,
      "outputs": []
    },
    {
      "cell_type": "code",
      "metadata": {
        "id": "z6PgFfkyamDD",
        "colab_type": "code",
        "colab": {}
      },
      "source": [
        "conf = ModelConfig(nets=WideDeep, metrics=['AUC'], auto_categorize=True,apply_class_weight=True)# categorical_columns=cat_cols + spl_cat_col,\n",
        "                  #  auto_discrete=True)\n",
        "dt = DeepTable(config=conf)"
      ],
      "execution_count": 10,
      "outputs": []
    },
    {
      "cell_type": "code",
      "metadata": {
        "id": "rQdqcTBhavOl",
        "colab_type": "code",
        "colab": {
          "base_uri": "https://localhost:8080/",
          "height": 1000
        },
        "outputId": "aea09e09-4925-447e-de0d-0fdb0daae358"
      },
      "source": [
        "model, history = dt.fit(X, y, epochs=100)"
      ],
      "execution_count": 11,
      "outputs": [
        {
          "output_type": "stream",
          "text": [
            "2 class detected, {0, 1}, so inferred as a [binary classification] task\n",
            "Preparing features cost:1.2656254768371582\n",
            "Imputation cost:0.9044692516326904\n",
            "Categorical encoding cost:1.4498977661132812\n",
            "fit_transform cost:3.7261109352111816\n",
            "Calc classes weight.\n",
            "Examples:\n",
            "Total:381109\n",
            "class 0:0.5698417160338398\n",
            "class 1:4.079522586169985\n",
            "Injected a callback [EarlyStopping]. monitor:val_AUC, patience:1, mode:max\n",
            "1 Physical GPUs, 1 Logical GPUs\n",
            ">>>>>>>>>>>>>>>>>>>>>> Model Desc <<<<<<<<<<<<<<<<<<<<<<< \n",
            "---------------------------------------------------------\n",
            "inputs:\n",
            "---------------------------------------------------------\n",
            "['all_categorical_vars: (9)', 'input_continuous_all: (7)']\n",
            "---------------------------------------------------------\n",
            "embeddings:\n",
            "---------------------------------------------------------\n",
            "input_dims: [4, 5, 4, 68, 4, 55, 4, 157, 292]\n",
            "output_dims: [4, 4, 4, 4, 4, 4, 4, 4, 4]\n",
            "dropout: 0.3\n",
            "---------------------------------------------------------\n",
            "dense: dropout: 0\n",
            "batch_normalization: False\n",
            "---------------------------------------------------------\n",
            "concat_embed_dense: shape: (None, 43)\n",
            "---------------------------------------------------------\n",
            "nets: ['linear', 'dnn_nets']\n",
            "---------------------------------------------------------\n",
            "linear: input_shape (None, 16), output_shape (None, 1)\n",
            "dnn: input_shape (None, 43), output_shape (None, 64)\n",
            "---------------------------------------------------------\n",
            "stacking_op: add\n",
            "---------------------------------------------------------\n",
            "output: activation: sigmoid, output_shape: (None, 1), use_bias: True\n",
            "loss: binary_crossentropy\n",
            "optimizer: Adam\n",
            "---------------------------------------------------------\n",
            "\n",
            "Epoch 1/100\n",
            "2381/2382 [============================>.] - ETA: 0s - loss: 69.8162 - auc: 0.7441WARNING:tensorflow:Early stopping conditioned on metric `val_AUC` which is not available. Available metrics are: loss,auc,val_loss,val_auc\n",
            "2382/2382 [==============================] - 19s 8ms/step - loss: 69.7893 - auc: 0.7442 - val_loss: 2.4316 - val_auc: 0.8106\n",
            "Epoch 2/100\n",
            "2376/2382 [============================>.] - ETA: 0s - loss: 1.6722 - auc: 0.7756WARNING:tensorflow:Early stopping conditioned on metric `val_AUC` which is not available. Available metrics are: loss,auc,val_loss,val_auc\n",
            "2382/2382 [==============================] - 18s 8ms/step - loss: 1.6706 - auc: 0.7757 - val_loss: 0.5732 - val_auc: 0.8267\n",
            "Epoch 3/100\n",
            "2379/2382 [============================>.] - ETA: 0s - loss: 1.3001 - auc: 0.7868WARNING:tensorflow:Early stopping conditioned on metric `val_AUC` which is not available. Available metrics are: loss,auc,val_loss,val_auc\n",
            "2382/2382 [==============================] - 18s 8ms/step - loss: 1.2997 - auc: 0.7868 - val_loss: 0.5493 - val_auc: 0.8319\n",
            "Epoch 4/100\n",
            "2375/2382 [============================>.] - ETA: 0s - loss: 0.8560 - auc: 0.8010WARNING:tensorflow:Early stopping conditioned on metric `val_AUC` which is not available. Available metrics are: loss,auc,val_loss,val_auc\n",
            "2382/2382 [==============================] - 18s 8ms/step - loss: 0.8550 - auc: 0.8011 - val_loss: 0.2836 - val_auc: 0.8368\n",
            "Epoch 5/100\n",
            "2380/2382 [============================>.] - ETA: 0s - loss: 0.5130 - auc: 0.8230WARNING:tensorflow:Early stopping conditioned on metric `val_AUC` which is not available. Available metrics are: loss,auc,val_loss,val_auc\n",
            "2382/2382 [==============================] - 18s 8ms/step - loss: 0.5130 - auc: 0.8230 - val_loss: 0.5604 - val_auc: 0.8428\n",
            "Epoch 6/100\n",
            "2375/2382 [============================>.] - ETA: 0s - loss: 0.4357 - auc: 0.8428WARNING:tensorflow:Early stopping conditioned on metric `val_AUC` which is not available. Available metrics are: loss,auc,val_loss,val_auc\n",
            "2382/2382 [==============================] - 18s 8ms/step - loss: 0.4357 - auc: 0.8428 - val_loss: 0.4836 - val_auc: 0.8547\n",
            "Epoch 7/100\n",
            "2379/2382 [============================>.] - ETA: 0s - loss: 0.4312 - auc: 0.8468WARNING:tensorflow:Early stopping conditioned on metric `val_AUC` which is not available. Available metrics are: loss,auc,val_loss,val_auc\n",
            "2382/2382 [==============================] - 18s 8ms/step - loss: 0.4311 - auc: 0.8468 - val_loss: 0.5131 - val_auc: 0.8539\n",
            "Epoch 8/100\n",
            "2382/2382 [==============================] - ETA: 0s - loss: 0.4286 - auc: 0.8486WARNING:tensorflow:Early stopping conditioned on metric `val_AUC` which is not available. Available metrics are: loss,auc,val_loss,val_auc\n",
            "2382/2382 [==============================] - 18s 8ms/step - loss: 0.4286 - auc: 0.8486 - val_loss: 0.4820 - val_auc: 0.8557\n",
            "Epoch 9/100\n",
            "2382/2382 [==============================] - ETA: 0s - loss: 0.4285 - auc: 0.8488WARNING:tensorflow:Early stopping conditioned on metric `val_AUC` which is not available. Available metrics are: loss,auc,val_loss,val_auc\n",
            "2382/2382 [==============================] - 18s 8ms/step - loss: 0.4285 - auc: 0.8488 - val_loss: 0.5125 - val_auc: 0.8560\n",
            "Epoch 10/100\n",
            "2381/2382 [============================>.] - ETA: 0s - loss: 0.4267 - auc: 0.8503WARNING:tensorflow:Early stopping conditioned on metric `val_AUC` which is not available. Available metrics are: loss,auc,val_loss,val_auc\n",
            "2382/2382 [==============================] - 18s 8ms/step - loss: 0.4268 - auc: 0.8502 - val_loss: 0.4139 - val_auc: 0.8544\n",
            "Epoch 11/100\n",
            "2382/2382 [==============================] - ETA: 0s - loss: 0.4267 - auc: 0.8509WARNING:tensorflow:Early stopping conditioned on metric `val_AUC` which is not available. Available metrics are: loss,auc,val_loss,val_auc\n",
            "2382/2382 [==============================] - 18s 8ms/step - loss: 0.4267 - auc: 0.8509 - val_loss: 0.4893 - val_auc: 0.8559\n",
            "Epoch 12/100\n",
            "2379/2382 [============================>.] - ETA: 0s - loss: 0.4264 - auc: 0.8517WARNING:tensorflow:Early stopping conditioned on metric `val_AUC` which is not available. Available metrics are: loss,auc,val_loss,val_auc\n",
            "2382/2382 [==============================] - 18s 8ms/step - loss: 0.4265 - auc: 0.8516 - val_loss: 0.5655 - val_auc: 0.8538\n",
            "Epoch 13/100\n",
            "2379/2382 [============================>.] - ETA: 0s - loss: 0.4245 - auc: 0.8525WARNING:tensorflow:Early stopping conditioned on metric `val_AUC` which is not available. Available metrics are: loss,auc,val_loss,val_auc\n",
            "2382/2382 [==============================] - 18s 8ms/step - loss: 0.4246 - auc: 0.8525 - val_loss: 0.4677 - val_auc: 0.8569\n",
            "Epoch 14/100\n",
            "2378/2382 [============================>.] - ETA: 0s - loss: 0.4247 - auc: 0.8523WARNING:tensorflow:Early stopping conditioned on metric `val_AUC` which is not available. Available metrics are: loss,auc,val_loss,val_auc\n",
            "2382/2382 [==============================] - 18s 8ms/step - loss: 0.4246 - auc: 0.8523 - val_loss: 0.4210 - val_auc: 0.8542\n",
            "Epoch 15/100\n",
            "2378/2382 [============================>.] - ETA: 0s - loss: 0.4238 - auc: 0.8534WARNING:tensorflow:Early stopping conditioned on metric `val_AUC` which is not available. Available metrics are: loss,auc,val_loss,val_auc\n",
            "2382/2382 [==============================] - 18s 8ms/step - loss: 0.4239 - auc: 0.8533 - val_loss: 0.4145 - val_auc: 0.8548\n",
            "Epoch 16/100\n",
            "2381/2382 [============================>.] - ETA: 0s - loss: 0.4243 - auc: 0.8527WARNING:tensorflow:Early stopping conditioned on metric `val_AUC` which is not available. Available metrics are: loss,auc,val_loss,val_auc\n",
            "2382/2382 [==============================] - 19s 8ms/step - loss: 0.4243 - auc: 0.8527 - val_loss: 0.4930 - val_auc: 0.8559\n",
            "Epoch 17/100\n",
            "2381/2382 [============================>.] - ETA: 0s - loss: 0.4232 - auc: 0.8539WARNING:tensorflow:Early stopping conditioned on metric `val_AUC` which is not available. Available metrics are: loss,auc,val_loss,val_auc\n",
            "2382/2382 [==============================] - 18s 8ms/step - loss: 0.4232 - auc: 0.8539 - val_loss: 0.4507 - val_auc: 0.8562\n",
            "Epoch 18/100\n",
            "2377/2382 [============================>.] - ETA: 0s - loss: 0.4232 - auc: 0.8537WARNING:tensorflow:Early stopping conditioned on metric `val_AUC` which is not available. Available metrics are: loss,auc,val_loss,val_auc\n",
            "2382/2382 [==============================] - 18s 8ms/step - loss: 0.4232 - auc: 0.8538 - val_loss: 0.5223 - val_auc: 0.8541\n",
            "Epoch 19/100\n",
            "2382/2382 [==============================] - ETA: 0s - loss: 0.4235 - auc: 0.8536WARNING:tensorflow:Early stopping conditioned on metric `val_AUC` which is not available. Available metrics are: loss,auc,val_loss,val_auc\n",
            "2382/2382 [==============================] - 18s 8ms/step - loss: 0.4235 - auc: 0.8536 - val_loss: 0.4929 - val_auc: 0.8565\n",
            "Epoch 20/100\n",
            "2377/2382 [============================>.] - ETA: 0s - loss: 0.4220 - auc: 0.8541WARNING:tensorflow:Early stopping conditioned on metric `val_AUC` which is not available. Available metrics are: loss,auc,val_loss,val_auc\n",
            "2382/2382 [==============================] - 18s 8ms/step - loss: 0.4221 - auc: 0.8541 - val_loss: 0.5369 - val_auc: 0.8530\n",
            "Epoch 21/100\n",
            "2381/2382 [============================>.] - ETA: 0s - loss: 0.4227 - auc: 0.8546WARNING:tensorflow:Early stopping conditioned on metric `val_AUC` which is not available. Available metrics are: loss,auc,val_loss,val_auc\n",
            "2382/2382 [==============================] - 18s 8ms/step - loss: 0.4227 - auc: 0.8545 - val_loss: 0.4781 - val_auc: 0.8574\n",
            "Epoch 22/100\n",
            "2376/2382 [============================>.] - ETA: 0s - loss: 0.4225 - auc: 0.8543WARNING:tensorflow:Early stopping conditioned on metric `val_AUC` which is not available. Available metrics are: loss,auc,val_loss,val_auc\n",
            "2382/2382 [==============================] - 18s 8ms/step - loss: 0.4225 - auc: 0.8543 - val_loss: 0.4285 - val_auc: 0.8573\n",
            "Epoch 23/100\n",
            "2377/2382 [============================>.] - ETA: 0s - loss: 0.4227 - auc: 0.8543WARNING:tensorflow:Early stopping conditioned on metric `val_AUC` which is not available. Available metrics are: loss,auc,val_loss,val_auc\n",
            "2382/2382 [==============================] - 18s 8ms/step - loss: 0.4226 - auc: 0.8544 - val_loss: 0.4324 - val_auc: 0.8570\n",
            "Epoch 24/100\n",
            "2382/2382 [==============================] - ETA: 0s - loss: 0.4217 - auc: 0.8548WARNING:tensorflow:Early stopping conditioned on metric `val_AUC` which is not available. Available metrics are: loss,auc,val_loss,val_auc\n",
            "2382/2382 [==============================] - 18s 8ms/step - loss: 0.4217 - auc: 0.8548 - val_loss: 0.4764 - val_auc: 0.8577\n",
            "Epoch 25/100\n",
            "2380/2382 [============================>.] - ETA: 0s - loss: 0.4218 - auc: 0.8551WARNING:tensorflow:Early stopping conditioned on metric `val_AUC` which is not available. Available metrics are: loss,auc,val_loss,val_auc\n",
            "2382/2382 [==============================] - 18s 8ms/step - loss: 0.4217 - auc: 0.8551 - val_loss: 0.4978 - val_auc: 0.8568\n",
            "Epoch 26/100\n",
            "2377/2382 [============================>.] - ETA: 0s - loss: 0.4223 - auc: 0.8545WARNING:tensorflow:Early stopping conditioned on metric `val_AUC` which is not available. Available metrics are: loss,auc,val_loss,val_auc\n",
            "2382/2382 [==============================] - 18s 8ms/step - loss: 0.4222 - auc: 0.8545 - val_loss: 0.4367 - val_auc: 0.8562\n",
            "Epoch 27/100\n",
            "2377/2382 [============================>.] - ETA: 0s - loss: 0.4221 - auc: 0.8547WARNING:tensorflow:Early stopping conditioned on metric `val_AUC` which is not available. Available metrics are: loss,auc,val_loss,val_auc\n",
            "2382/2382 [==============================] - 18s 8ms/step - loss: 0.4220 - auc: 0.8547 - val_loss: 0.4392 - val_auc: 0.8574\n",
            "Epoch 28/100\n",
            "2380/2382 [============================>.] - ETA: 0s - loss: 0.4214 - auc: 0.8553WARNING:tensorflow:Early stopping conditioned on metric `val_AUC` which is not available. Available metrics are: loss,auc,val_loss,val_auc\n",
            "2382/2382 [==============================] - 18s 8ms/step - loss: 0.4214 - auc: 0.8553 - val_loss: 0.4589 - val_auc: 0.8579\n",
            "Epoch 29/100\n",
            "2380/2382 [============================>.] - ETA: 0s - loss: 0.4218 - auc: 0.8554WARNING:tensorflow:Early stopping conditioned on metric `val_AUC` which is not available. Available metrics are: loss,auc,val_loss,val_auc\n",
            "2382/2382 [==============================] - 18s 8ms/step - loss: 0.4218 - auc: 0.8554 - val_loss: 0.4570 - val_auc: 0.8568\n",
            "Epoch 30/100\n",
            "2378/2382 [============================>.] - ETA: 0s - loss: 0.4218 - auc: 0.8546WARNING:tensorflow:Early stopping conditioned on metric `val_AUC` which is not available. Available metrics are: loss,auc,val_loss,val_auc\n",
            "2382/2382 [==============================] - 18s 8ms/step - loss: 0.4218 - auc: 0.8546 - val_loss: 0.4796 - val_auc: 0.8574\n",
            "Epoch 31/100\n",
            "2379/2382 [============================>.] - ETA: 0s - loss: 0.4212 - auc: 0.8554WARNING:tensorflow:Early stopping conditioned on metric `val_AUC` which is not available. Available metrics are: loss,auc,val_loss,val_auc\n",
            "2382/2382 [==============================] - 18s 8ms/step - loss: 0.4212 - auc: 0.8554 - val_loss: 0.4702 - val_auc: 0.8574\n",
            "Epoch 32/100\n",
            "2381/2382 [============================>.] - ETA: 0s - loss: 0.4210 - auc: 0.8558WARNING:tensorflow:Early stopping conditioned on metric `val_AUC` which is not available. Available metrics are: loss,auc,val_loss,val_auc\n",
            "2382/2382 [==============================] - 18s 8ms/step - loss: 0.4210 - auc: 0.8558 - val_loss: 0.4891 - val_auc: 0.8576\n",
            "Epoch 33/100\n",
            "2379/2382 [============================>.] - ETA: 0s - loss: 0.4217 - auc: 0.8547WARNING:tensorflow:Early stopping conditioned on metric `val_AUC` which is not available. Available metrics are: loss,auc,val_loss,val_auc\n",
            "2382/2382 [==============================] - 19s 8ms/step - loss: 0.4217 - auc: 0.8547 - val_loss: 0.4582 - val_auc: 0.8570\n",
            "Epoch 34/100\n",
            "2378/2382 [============================>.] - ETA: 0s - loss: 0.4218 - auc: 0.8552WARNING:tensorflow:Early stopping conditioned on metric `val_AUC` which is not available. Available metrics are: loss,auc,val_loss,val_auc\n",
            "2382/2382 [==============================] - 19s 8ms/step - loss: 0.4219 - auc: 0.8552 - val_loss: 0.5141 - val_auc: 0.8563\n",
            "Epoch 35/100\n",
            "2382/2382 [==============================] - ETA: 0s - loss: 0.4202 - auc: 0.8562WARNING:tensorflow:Early stopping conditioned on metric `val_AUC` which is not available. Available metrics are: loss,auc,val_loss,val_auc\n",
            "2382/2382 [==============================] - 18s 8ms/step - loss: 0.4202 - auc: 0.8562 - val_loss: 0.4908 - val_auc: 0.8575\n",
            "Epoch 36/100\n",
            "2380/2382 [============================>.] - ETA: 0s - loss: 0.4212 - auc: 0.8558WARNING:tensorflow:Early stopping conditioned on metric `val_AUC` which is not available. Available metrics are: loss,auc,val_loss,val_auc\n",
            "2382/2382 [==============================] - 18s 8ms/step - loss: 0.4212 - auc: 0.8558 - val_loss: 0.4870 - val_auc: 0.8579\n",
            "Epoch 37/100\n",
            "2381/2382 [============================>.] - ETA: 0s - loss: 0.4212 - auc: 0.8555WARNING:tensorflow:Early stopping conditioned on metric `val_AUC` which is not available. Available metrics are: loss,auc,val_loss,val_auc\n",
            "2382/2382 [==============================] - 18s 8ms/step - loss: 0.4212 - auc: 0.8555 - val_loss: 0.4943 - val_auc: 0.8579\n",
            "Epoch 38/100\n",
            "2381/2382 [============================>.] - ETA: 0s - loss: 0.4208 - auc: 0.8561WARNING:tensorflow:Early stopping conditioned on metric `val_AUC` which is not available. Available metrics are: loss,auc,val_loss,val_auc\n",
            "2382/2382 [==============================] - 18s 8ms/step - loss: 0.4208 - auc: 0.8561 - val_loss: 0.4119 - val_auc: 0.8557\n",
            "Epoch 39/100\n",
            "2381/2382 [============================>.] - ETA: 0s - loss: 0.4204 - auc: 0.8561WARNING:tensorflow:Early stopping conditioned on metric `val_AUC` which is not available. Available metrics are: loss,auc,val_loss,val_auc\n",
            "2382/2382 [==============================] - 18s 8ms/step - loss: 0.4204 - auc: 0.8562 - val_loss: 0.5191 - val_auc: 0.8571\n",
            "Epoch 40/100\n",
            "2377/2382 [============================>.] - ETA: 0s - loss: 0.4209 - auc: 0.8561WARNING:tensorflow:Early stopping conditioned on metric `val_AUC` which is not available. Available metrics are: loss,auc,val_loss,val_auc\n",
            "2382/2382 [==============================] - 18s 8ms/step - loss: 0.4210 - auc: 0.8560 - val_loss: 0.4790 - val_auc: 0.8575\n",
            "Epoch 41/100\n",
            "2380/2382 [============================>.] - ETA: 0s - loss: 0.4199 - auc: 0.8562WARNING:tensorflow:Early stopping conditioned on metric `val_AUC` which is not available. Available metrics are: loss,auc,val_loss,val_auc\n",
            "2382/2382 [==============================] - 18s 8ms/step - loss: 0.4199 - auc: 0.8562 - val_loss: 0.5603 - val_auc: 0.8547\n",
            "Epoch 42/100\n",
            "2381/2382 [============================>.] - ETA: 0s - loss: 0.4200 - auc: 0.8564WARNING:tensorflow:Early stopping conditioned on metric `val_AUC` which is not available. Available metrics are: loss,auc,val_loss,val_auc\n",
            "2382/2382 [==============================] - 18s 8ms/step - loss: 0.4200 - auc: 0.8564 - val_loss: 0.4852 - val_auc: 0.8576\n",
            "Epoch 43/100\n",
            "2376/2382 [============================>.] - ETA: 0s - loss: 0.4203 - auc: 0.8564WARNING:tensorflow:Early stopping conditioned on metric `val_AUC` which is not available. Available metrics are: loss,auc,val_loss,val_auc\n",
            "2382/2382 [==============================] - 18s 8ms/step - loss: 0.4204 - auc: 0.8564 - val_loss: 0.4977 - val_auc: 0.8577\n",
            "Epoch 44/100\n",
            "2380/2382 [============================>.] - ETA: 0s - loss: 0.4208 - auc: 0.8563WARNING:tensorflow:Early stopping conditioned on metric `val_AUC` which is not available. Available metrics are: loss,auc,val_loss,val_auc\n",
            "2382/2382 [==============================] - 18s 8ms/step - loss: 0.4208 - auc: 0.8563 - val_loss: 0.4581 - val_auc: 0.8581\n",
            "Epoch 45/100\n",
            "2381/2382 [============================>.] - ETA: 0s - loss: 0.4203 - auc: 0.8565WARNING:tensorflow:Early stopping conditioned on metric `val_AUC` which is not available. Available metrics are: loss,auc,val_loss,val_auc\n",
            "2382/2382 [==============================] - 18s 8ms/step - loss: 0.4203 - auc: 0.8565 - val_loss: 0.4752 - val_auc: 0.8578\n",
            "Epoch 46/100\n",
            "2377/2382 [============================>.] - ETA: 0s - loss: 0.4197 - auc: 0.8566WARNING:tensorflow:Early stopping conditioned on metric `val_AUC` which is not available. Available metrics are: loss,auc,val_loss,val_auc\n",
            "2382/2382 [==============================] - 18s 8ms/step - loss: 0.4197 - auc: 0.8565 - val_loss: 0.4382 - val_auc: 0.8565\n",
            "Epoch 47/100\n",
            "2380/2382 [============================>.] - ETA: 0s - loss: 0.4212 - auc: 0.8558WARNING:tensorflow:Early stopping conditioned on metric `val_AUC` which is not available. Available metrics are: loss,auc,val_loss,val_auc\n",
            "2382/2382 [==============================] - 18s 8ms/step - loss: 0.4211 - auc: 0.8558 - val_loss: 0.5618 - val_auc: 0.8527\n",
            "Epoch 48/100\n",
            "2382/2382 [==============================] - ETA: 0s - loss: 0.4197 - auc: 0.8567WARNING:tensorflow:Early stopping conditioned on metric `val_AUC` which is not available. Available metrics are: loss,auc,val_loss,val_auc\n",
            "2382/2382 [==============================] - 18s 8ms/step - loss: 0.4197 - auc: 0.8567 - val_loss: 0.4332 - val_auc: 0.8570\n",
            "Epoch 49/100\n",
            "2381/2382 [============================>.] - ETA: 0s - loss: 0.4201 - auc: 0.8565WARNING:tensorflow:Early stopping conditioned on metric `val_AUC` which is not available. Available metrics are: loss,auc,val_loss,val_auc\n",
            "2382/2382 [==============================] - 18s 8ms/step - loss: 0.4201 - auc: 0.8565 - val_loss: 0.4430 - val_auc: 0.8577\n",
            "Epoch 50/100\n",
            "2378/2382 [============================>.] - ETA: 0s - loss: 0.4197 - auc: 0.8568WARNING:tensorflow:Early stopping conditioned on metric `val_AUC` which is not available. Available metrics are: loss,auc,val_loss,val_auc\n",
            "2382/2382 [==============================] - 19s 8ms/step - loss: 0.4196 - auc: 0.8568 - val_loss: 0.5265 - val_auc: 0.8562\n",
            "Epoch 51/100\n",
            "2377/2382 [============================>.] - ETA: 0s - loss: 0.4190 - auc: 0.8570WARNING:tensorflow:Early stopping conditioned on metric `val_AUC` which is not available. Available metrics are: loss,auc,val_loss,val_auc\n",
            "2382/2382 [==============================] - 19s 8ms/step - loss: 0.4190 - auc: 0.8570 - val_loss: 0.4431 - val_auc: 0.8570\n",
            "Epoch 52/100\n",
            "2378/2382 [============================>.] - ETA: 0s - loss: 0.4198 - auc: 0.8570WARNING:tensorflow:Early stopping conditioned on metric `val_AUC` which is not available. Available metrics are: loss,auc,val_loss,val_auc\n",
            "2382/2382 [==============================] - 18s 8ms/step - loss: 0.4198 - auc: 0.8570 - val_loss: 0.5285 - val_auc: 0.8567\n",
            "Epoch 53/100\n",
            "2377/2382 [============================>.] - ETA: 0s - loss: 0.4205 - auc: 0.8561WARNING:tensorflow:Early stopping conditioned on metric `val_AUC` which is not available. Available metrics are: loss,auc,val_loss,val_auc\n",
            "2382/2382 [==============================] - 18s 8ms/step - loss: 0.4204 - auc: 0.8561 - val_loss: 0.4572 - val_auc: 0.8571\n",
            "Epoch 54/100\n",
            "2380/2382 [============================>.] - ETA: 0s - loss: 0.4198 - auc: 0.8566WARNING:tensorflow:Early stopping conditioned on metric `val_AUC` which is not available. Available metrics are: loss,auc,val_loss,val_auc\n",
            "2382/2382 [==============================] - 18s 8ms/step - loss: 0.4197 - auc: 0.8566 - val_loss: 0.4660 - val_auc: 0.8576\n",
            "Epoch 55/100\n",
            "2376/2382 [============================>.] - ETA: 0s - loss: 0.4198 - auc: 0.8568WARNING:tensorflow:Early stopping conditioned on metric `val_AUC` which is not available. Available metrics are: loss,auc,val_loss,val_auc\n",
            "2382/2382 [==============================] - 18s 8ms/step - loss: 0.4198 - auc: 0.8568 - val_loss: 0.4965 - val_auc: 0.8574\n",
            "Epoch 56/100\n",
            "2379/2382 [============================>.] - ETA: 0s - loss: 0.4193 - auc: 0.8573WARNING:tensorflow:Early stopping conditioned on metric `val_AUC` which is not available. Available metrics are: loss,auc,val_loss,val_auc\n",
            "2382/2382 [==============================] - 18s 8ms/step - loss: 0.4194 - auc: 0.8573 - val_loss: 0.5128 - val_auc: 0.8566\n",
            "Epoch 57/100\n",
            "2381/2382 [============================>.] - ETA: 0s - loss: 0.4200 - auc: 0.8562WARNING:tensorflow:Early stopping conditioned on metric `val_AUC` which is not available. Available metrics are: loss,auc,val_loss,val_auc\n",
            "2382/2382 [==============================] - 18s 8ms/step - loss: 0.4200 - auc: 0.8562 - val_loss: 0.4812 - val_auc: 0.8572\n",
            "Epoch 58/100\n",
            "2377/2382 [============================>.] - ETA: 0s - loss: 0.4195 - auc: 0.8568WARNING:tensorflow:Early stopping conditioned on metric `val_AUC` which is not available. Available metrics are: loss,auc,val_loss,val_auc\n",
            "2382/2382 [==============================] - 18s 8ms/step - loss: 0.4195 - auc: 0.8568 - val_loss: 0.5217 - val_auc: 0.8562\n",
            "Epoch 59/100\n",
            "2378/2382 [============================>.] - ETA: 0s - loss: 0.4202 - auc: 0.8564WARNING:tensorflow:Early stopping conditioned on metric `val_AUC` which is not available. Available metrics are: loss,auc,val_loss,val_auc\n",
            "2382/2382 [==============================] - 18s 8ms/step - loss: 0.4201 - auc: 0.8565 - val_loss: 0.5434 - val_auc: 0.8563\n",
            "Epoch 60/100\n",
            "2382/2382 [==============================] - ETA: 0s - loss: 0.4187 - auc: 0.8573WARNING:tensorflow:Early stopping conditioned on metric `val_AUC` which is not available. Available metrics are: loss,auc,val_loss,val_auc\n",
            "2382/2382 [==============================] - 18s 8ms/step - loss: 0.4187 - auc: 0.8573 - val_loss: 0.4702 - val_auc: 0.8561\n",
            "Epoch 61/100\n",
            "2380/2382 [============================>.] - ETA: 0s - loss: 0.4191 - auc: 0.8570WARNING:tensorflow:Early stopping conditioned on metric `val_AUC` which is not available. Available metrics are: loss,auc,val_loss,val_auc\n",
            "2382/2382 [==============================] - 18s 8ms/step - loss: 0.4191 - auc: 0.8570 - val_loss: 0.4473 - val_auc: 0.8572\n",
            "Epoch 62/100\n",
            "2382/2382 [==============================] - ETA: 0s - loss: 0.4193 - auc: 0.8572WARNING:tensorflow:Early stopping conditioned on metric `val_AUC` which is not available. Available metrics are: loss,auc,val_loss,val_auc\n",
            "2382/2382 [==============================] - 18s 8ms/step - loss: 0.4193 - auc: 0.8572 - val_loss: 0.4529 - val_auc: 0.8570\n",
            "Epoch 63/100\n",
            "2376/2382 [============================>.] - ETA: 0s - loss: 0.4192 - auc: 0.8571WARNING:tensorflow:Early stopping conditioned on metric `val_AUC` which is not available. Available metrics are: loss,auc,val_loss,val_auc\n",
            "2382/2382 [==============================] - 18s 8ms/step - loss: 0.4193 - auc: 0.8571 - val_loss: 0.4778 - val_auc: 0.8574\n",
            "Epoch 64/100\n",
            "2379/2382 [============================>.] - ETA: 0s - loss: 0.4191 - auc: 0.8568WARNING:tensorflow:Early stopping conditioned on metric `val_AUC` which is not available. Available metrics are: loss,auc,val_loss,val_auc\n",
            "2382/2382 [==============================] - 18s 8ms/step - loss: 0.4191 - auc: 0.8569 - val_loss: 0.4834 - val_auc: 0.8573\n",
            "Epoch 65/100\n",
            "2382/2382 [==============================] - ETA: 0s - loss: 0.4192 - auc: 0.8570WARNING:tensorflow:Early stopping conditioned on metric `val_AUC` which is not available. Available metrics are: loss,auc,val_loss,val_auc\n",
            "2382/2382 [==============================] - 18s 8ms/step - loss: 0.4192 - auc: 0.8570 - val_loss: 0.4372 - val_auc: 0.8564\n",
            "Epoch 66/100\n",
            "2380/2382 [============================>.] - ETA: 0s - loss: 0.4197 - auc: 0.8571WARNING:tensorflow:Early stopping conditioned on metric `val_AUC` which is not available. Available metrics are: loss,auc,val_loss,val_auc\n",
            "2382/2382 [==============================] - 18s 8ms/step - loss: 0.4198 - auc: 0.8571 - val_loss: 0.4935 - val_auc: 0.8571\n",
            "Epoch 67/100\n",
            "2380/2382 [============================>.] - ETA: 0s - loss: 0.4185 - auc: 0.8575WARNING:tensorflow:Early stopping conditioned on metric `val_AUC` which is not available. Available metrics are: loss,auc,val_loss,val_auc\n",
            "2382/2382 [==============================] - 19s 8ms/step - loss: 0.4185 - auc: 0.8575 - val_loss: 0.4345 - val_auc: 0.8572\n",
            "Epoch 68/100\n",
            "2381/2382 [============================>.] - ETA: 0s - loss: 0.4194 - auc: 0.8568WARNING:tensorflow:Early stopping conditioned on metric `val_AUC` which is not available. Available metrics are: loss,auc,val_loss,val_auc\n",
            "2382/2382 [==============================] - 18s 8ms/step - loss: 0.4194 - auc: 0.8568 - val_loss: 0.4589 - val_auc: 0.8570\n",
            "Epoch 69/100\n",
            "2377/2382 [============================>.] - ETA: 0s - loss: 0.4189 - auc: 0.8573WARNING:tensorflow:Early stopping conditioned on metric `val_AUC` which is not available. Available metrics are: loss,auc,val_loss,val_auc\n",
            "2382/2382 [==============================] - 18s 8ms/step - loss: 0.4188 - auc: 0.8573 - val_loss: 0.4815 - val_auc: 0.8569\n",
            "Epoch 70/100\n",
            "2381/2382 [============================>.] - ETA: 0s - loss: 0.4188 - auc: 0.8570WARNING:tensorflow:Early stopping conditioned on metric `val_AUC` which is not available. Available metrics are: loss,auc,val_loss,val_auc\n",
            "2382/2382 [==============================] - 18s 8ms/step - loss: 0.4188 - auc: 0.8571 - val_loss: 0.4418 - val_auc: 0.8564\n",
            "Epoch 71/100\n",
            "2376/2382 [============================>.] - ETA: 0s - loss: 0.4189 - auc: 0.8570WARNING:tensorflow:Early stopping conditioned on metric `val_AUC` which is not available. Available metrics are: loss,auc,val_loss,val_auc\n",
            "2382/2382 [==============================] - 18s 8ms/step - loss: 0.4189 - auc: 0.8570 - val_loss: 0.5083 - val_auc: 0.8547\n",
            "Epoch 72/100\n",
            "2380/2382 [============================>.] - ETA: 0s - loss: 0.4188 - auc: 0.8571WARNING:tensorflow:Early stopping conditioned on metric `val_AUC` which is not available. Available metrics are: loss,auc,val_loss,val_auc\n",
            "2382/2382 [==============================] - 18s 8ms/step - loss: 0.4189 - auc: 0.8571 - val_loss: 0.4688 - val_auc: 0.8571\n",
            "Epoch 73/100\n",
            "2376/2382 [============================>.] - ETA: 0s - loss: 0.4183 - auc: 0.8574WARNING:tensorflow:Early stopping conditioned on metric `val_AUC` which is not available. Available metrics are: loss,auc,val_loss,val_auc\n",
            "2382/2382 [==============================] - 18s 8ms/step - loss: 0.4183 - auc: 0.8574 - val_loss: 0.4800 - val_auc: 0.8571\n",
            "Epoch 74/100\n",
            "2381/2382 [============================>.] - ETA: 0s - loss: 0.4194 - auc: 0.8570WARNING:tensorflow:Early stopping conditioned on metric `val_AUC` which is not available. Available metrics are: loss,auc,val_loss,val_auc\n",
            "2382/2382 [==============================] - 18s 8ms/step - loss: 0.4194 - auc: 0.8570 - val_loss: 0.4828 - val_auc: 0.8572\n",
            "Epoch 75/100\n",
            "2381/2382 [============================>.] - ETA: 0s - loss: 0.4180 - auc: 0.8577WARNING:tensorflow:Early stopping conditioned on metric `val_AUC` which is not available. Available metrics are: loss,auc,val_loss,val_auc\n",
            "2382/2382 [==============================] - 18s 8ms/step - loss: 0.4180 - auc: 0.8577 - val_loss: 0.4854 - val_auc: 0.8577\n",
            "Epoch 76/100\n",
            "2379/2382 [============================>.] - ETA: 0s - loss: 0.4190 - auc: 0.8568WARNING:tensorflow:Early stopping conditioned on metric `val_AUC` which is not available. Available metrics are: loss,auc,val_loss,val_auc\n",
            "2382/2382 [==============================] - 18s 8ms/step - loss: 0.4190 - auc: 0.8569 - val_loss: 0.4728 - val_auc: 0.8567\n",
            "Epoch 77/100\n",
            "2378/2382 [============================>.] - ETA: 0s - loss: 0.4191 - auc: 0.8572WARNING:tensorflow:Early stopping conditioned on metric `val_AUC` which is not available. Available metrics are: loss,auc,val_loss,val_auc\n",
            "2382/2382 [==============================] - 18s 8ms/step - loss: 0.4191 - auc: 0.8572 - val_loss: 0.4497 - val_auc: 0.8575\n",
            "Epoch 78/100\n",
            "2381/2382 [============================>.] - ETA: 0s - loss: 0.4183 - auc: 0.8575WARNING:tensorflow:Early stopping conditioned on metric `val_AUC` which is not available. Available metrics are: loss,auc,val_loss,val_auc\n",
            "2382/2382 [==============================] - 18s 8ms/step - loss: 0.4183 - auc: 0.8575 - val_loss: 0.4558 - val_auc: 0.8573\n",
            "Epoch 79/100\n",
            "2378/2382 [============================>.] - ETA: 0s - loss: 0.4180 - auc: 0.8578WARNING:tensorflow:Early stopping conditioned on metric `val_AUC` which is not available. Available metrics are: loss,auc,val_loss,val_auc\n",
            "2382/2382 [==============================] - 18s 8ms/step - loss: 0.4181 - auc: 0.8578 - val_loss: 0.5192 - val_auc: 0.8556\n",
            "Epoch 80/100\n",
            "2381/2382 [============================>.] - ETA: 0s - loss: 0.4184 - auc: 0.8577WARNING:tensorflow:Early stopping conditioned on metric `val_AUC` which is not available. Available metrics are: loss,auc,val_loss,val_auc\n",
            "2382/2382 [==============================] - 18s 8ms/step - loss: 0.4184 - auc: 0.8577 - val_loss: 0.4336 - val_auc: 0.8557\n",
            "Epoch 81/100\n",
            "2378/2382 [============================>.] - ETA: 0s - loss: 0.4183 - auc: 0.8578WARNING:tensorflow:Early stopping conditioned on metric `val_AUC` which is not available. Available metrics are: loss,auc,val_loss,val_auc\n",
            "2382/2382 [==============================] - 18s 8ms/step - loss: 0.4184 - auc: 0.8577 - val_loss: 0.4593 - val_auc: 0.8568\n",
            "Epoch 82/100\n",
            "2381/2382 [============================>.] - ETA: 0s - loss: 0.4185 - auc: 0.8573WARNING:tensorflow:Early stopping conditioned on metric `val_AUC` which is not available. Available metrics are: loss,auc,val_loss,val_auc\n",
            "2382/2382 [==============================] - 18s 8ms/step - loss: 0.4185 - auc: 0.8574 - val_loss: 0.5100 - val_auc: 0.8562\n",
            "Epoch 83/100\n",
            "2380/2382 [============================>.] - ETA: 0s - loss: 0.4180 - auc: 0.8577WARNING:tensorflow:Early stopping conditioned on metric `val_AUC` which is not available. Available metrics are: loss,auc,val_loss,val_auc\n",
            "2382/2382 [==============================] - 18s 8ms/step - loss: 0.4180 - auc: 0.8577 - val_loss: 0.4824 - val_auc: 0.8572\n",
            "Epoch 84/100\n",
            "2382/2382 [==============================] - ETA: 0s - loss: 0.4187 - auc: 0.8578WARNING:tensorflow:Early stopping conditioned on metric `val_AUC` which is not available. Available metrics are: loss,auc,val_loss,val_auc\n",
            "2382/2382 [==============================] - 19s 8ms/step - loss: 0.4187 - auc: 0.8578 - val_loss: 0.4291 - val_auc: 0.8571\n",
            "Epoch 85/100\n",
            "2381/2382 [============================>.] - ETA: 0s - loss: 0.4180 - auc: 0.8580WARNING:tensorflow:Early stopping conditioned on metric `val_AUC` which is not available. Available metrics are: loss,auc,val_loss,val_auc\n",
            "2382/2382 [==============================] - 19s 8ms/step - loss: 0.4180 - auc: 0.8580 - val_loss: 0.4903 - val_auc: 0.8569\n",
            "Epoch 86/100\n",
            "2381/2382 [============================>.] - ETA: 0s - loss: 0.4177 - auc: 0.8577WARNING:tensorflow:Early stopping conditioned on metric `val_AUC` which is not available. Available metrics are: loss,auc,val_loss,val_auc\n",
            "2382/2382 [==============================] - 18s 8ms/step - loss: 0.4176 - auc: 0.8577 - val_loss: 0.4576 - val_auc: 0.8577\n",
            "Epoch 87/100\n",
            "2381/2382 [============================>.] - ETA: 0s - loss: 0.4180 - auc: 0.8577WARNING:tensorflow:Early stopping conditioned on metric `val_AUC` which is not available. Available metrics are: loss,auc,val_loss,val_auc\n",
            "2382/2382 [==============================] - 18s 8ms/step - loss: 0.4180 - auc: 0.8576 - val_loss: 0.4752 - val_auc: 0.8570\n",
            "Epoch 88/100\n",
            "2381/2382 [============================>.] - ETA: 0s - loss: 0.4173 - auc: 0.8583WARNING:tensorflow:Early stopping conditioned on metric `val_AUC` which is not available. Available metrics are: loss,auc,val_loss,val_auc\n",
            "2382/2382 [==============================] - 18s 8ms/step - loss: 0.4173 - auc: 0.8583 - val_loss: 0.4565 - val_auc: 0.8568\n",
            "Epoch 89/100\n",
            "2376/2382 [============================>.] - ETA: 0s - loss: 0.4176 - auc: 0.8580WARNING:tensorflow:Early stopping conditioned on metric `val_AUC` which is not available. Available metrics are: loss,auc,val_loss,val_auc\n",
            "2382/2382 [==============================] - 18s 8ms/step - loss: 0.4175 - auc: 0.8581 - val_loss: 0.4811 - val_auc: 0.8567\n",
            "Epoch 90/100\n",
            "2381/2382 [============================>.] - ETA: 0s - loss: 0.4183 - auc: 0.8577WARNING:tensorflow:Early stopping conditioned on metric `val_AUC` which is not available. Available metrics are: loss,auc,val_loss,val_auc\n",
            "2382/2382 [==============================] - 18s 8ms/step - loss: 0.4183 - auc: 0.8577 - val_loss: 0.4667 - val_auc: 0.8576\n",
            "Epoch 91/100\n",
            "2381/2382 [============================>.] - ETA: 0s - loss: 0.4183 - auc: 0.8577WARNING:tensorflow:Early stopping conditioned on metric `val_AUC` which is not available. Available metrics are: loss,auc,val_loss,val_auc\n",
            "2382/2382 [==============================] - 18s 8ms/step - loss: 0.4182 - auc: 0.8577 - val_loss: 0.4693 - val_auc: 0.8566\n",
            "Epoch 92/100\n",
            "2380/2382 [============================>.] - ETA: 0s - loss: 0.4176 - auc: 0.8581WARNING:tensorflow:Early stopping conditioned on metric `val_AUC` which is not available. Available metrics are: loss,auc,val_loss,val_auc\n",
            "2382/2382 [==============================] - 18s 8ms/step - loss: 0.4176 - auc: 0.8581 - val_loss: 0.4769 - val_auc: 0.8573\n",
            "Epoch 93/100\n",
            "2378/2382 [============================>.] - ETA: 0s - loss: 0.4179 - auc: 0.8579WARNING:tensorflow:Early stopping conditioned on metric `val_AUC` which is not available. Available metrics are: loss,auc,val_loss,val_auc\n",
            "2382/2382 [==============================] - 18s 8ms/step - loss: 0.4180 - auc: 0.8579 - val_loss: 0.4855 - val_auc: 0.8572\n",
            "Epoch 94/100\n",
            "2382/2382 [==============================] - ETA: 0s - loss: 0.4176 - auc: 0.8583WARNING:tensorflow:Early stopping conditioned on metric `val_AUC` which is not available. Available metrics are: loss,auc,val_loss,val_auc\n",
            "2382/2382 [==============================] - 18s 8ms/step - loss: 0.4176 - auc: 0.8583 - val_loss: 0.5450 - val_auc: 0.8533\n",
            "Epoch 95/100\n",
            "2377/2382 [============================>.] - ETA: 0s - loss: 0.4173 - auc: 0.8581WARNING:tensorflow:Early stopping conditioned on metric `val_AUC` which is not available. Available metrics are: loss,auc,val_loss,val_auc\n",
            "2382/2382 [==============================] - 18s 8ms/step - loss: 0.4174 - auc: 0.8581 - val_loss: 0.5165 - val_auc: 0.8558\n",
            "Epoch 96/100\n",
            "2380/2382 [============================>.] - ETA: 0s - loss: 0.4174 - auc: 0.8585WARNING:tensorflow:Early stopping conditioned on metric `val_AUC` which is not available. Available metrics are: loss,auc,val_loss,val_auc\n",
            "2382/2382 [==============================] - 18s 8ms/step - loss: 0.4174 - auc: 0.8585 - val_loss: 0.4739 - val_auc: 0.8574\n",
            "Epoch 97/100\n",
            "2379/2382 [============================>.] - ETA: 0s - loss: 0.4172 - auc: 0.8582WARNING:tensorflow:Early stopping conditioned on metric `val_AUC` which is not available. Available metrics are: loss,auc,val_loss,val_auc\n",
            "2382/2382 [==============================] - 18s 8ms/step - loss: 0.4171 - auc: 0.8582 - val_loss: 0.4231 - val_auc: 0.8534\n",
            "Epoch 98/100\n",
            "2380/2382 [============================>.] - ETA: 0s - loss: 0.4171 - auc: 0.8583WARNING:tensorflow:Early stopping conditioned on metric `val_AUC` which is not available. Available metrics are: loss,auc,val_loss,val_auc\n",
            "2382/2382 [==============================] - 18s 8ms/step - loss: 0.4171 - auc: 0.8583 - val_loss: 0.5235 - val_auc: 0.8541\n",
            "Epoch 99/100\n",
            "2382/2382 [==============================] - ETA: 0s - loss: 0.4173 - auc: 0.8584WARNING:tensorflow:Early stopping conditioned on metric `val_AUC` which is not available. Available metrics are: loss,auc,val_loss,val_auc\n",
            "2382/2382 [==============================] - 18s 8ms/step - loss: 0.4173 - auc: 0.8584 - val_loss: 0.4667 - val_auc: 0.8574\n",
            "Epoch 100/100\n",
            "2380/2382 [============================>.] - ETA: 0s - loss: 0.4166 - auc: 0.8589WARNING:tensorflow:Early stopping conditioned on metric `val_AUC` which is not available. Available metrics are: loss,auc,val_loss,val_auc\n",
            "2382/2382 [==============================] - 18s 8ms/step - loss: 0.4166 - auc: 0.8589 - val_loss: 0.4907 - val_auc: 0.8568\n",
            "Model has been saved to:dt_output/dt_20200916 210438_linear_dnn_nets/linear+dnn_nets.h5\n"
          ],
          "name": "stdout"
        }
      ]
    },
    {
      "cell_type": "code",
      "metadata": {
        "id": "n7mXwZnKayoa",
        "colab_type": "code",
        "colab": {}
      },
      "source": [
        "X_test = tdf[tdf.columns[~(tdf.columns.isin(['id', target_col[0]]))].tolist()]"
      ],
      "execution_count": 12,
      "outputs": []
    },
    {
      "cell_type": "code",
      "metadata": {
        "id": "nZ-gw_5ebzGg",
        "colab_type": "code",
        "colab": {
          "base_uri": "https://localhost:8080/",
          "height": 34
        },
        "outputId": "66b25d97-f288-4560-bc2b-e08bf3b00494"
      },
      "source": [
        "X.shape, X_test.shape"
      ],
      "execution_count": 13,
      "outputs": [
        {
          "output_type": "execute_result",
          "data": {
            "text/plain": [
              "((381109, 10), (127037, 10))"
            ]
          },
          "metadata": {
            "tags": []
          },
          "execution_count": 13
        }
      ]
    },
    {
      "cell_type": "code",
      "metadata": {
        "id": "Ts-fxhJccAIK",
        "colab_type": "code",
        "colab": {}
      },
      "source": [
        ""
      ],
      "execution_count": 13,
      "outputs": []
    },
    {
      "cell_type": "code",
      "metadata": {
        "id": "XWEos6NocBZ9",
        "colab_type": "code",
        "colab": {
          "base_uri": "https://localhost:8080/",
          "height": 105
        },
        "outputId": "0afe925a-158a-43e8-e2ba-fc5b10309116"
      },
      "source": [
        "preds = dt.predict(X_test)"
      ],
      "execution_count": 14,
      "outputs": [
        {
          "output_type": "stream",
          "text": [
            "transform_X cost:11.469396829605103\n",
            "predict_proba cost:13.105039119720459\n"
          ],
          "name": "stdout"
        },
        {
          "output_type": "stream",
          "text": [
            "/usr/local/lib/python3.6/dist-packages/sklearn/preprocessing/_label.py:289: DataConversionWarning: A column-vector y was passed when a 1d array was expected. Please change the shape of y to (n_samples, ), for example using ravel().\n",
            "  y = column_or_1d(y, warn=True)\n"
          ],
          "name": "stderr"
        }
      ]
    },
    {
      "cell_type": "code",
      "metadata": {
        "id": "AQRIOPqqdGE9",
        "colab_type": "code",
        "colab": {
          "base_uri": "https://localhost:8080/",
          "height": 34
        },
        "outputId": "9bbe40b8-bb01-4d19-acef-f0e4a22d5554"
      },
      "source": [
        "sum([1 for i in y if i == 1]) / len(y), len(y)"
      ],
      "execution_count": 15,
      "outputs": [
        {
          "output_type": "execute_result",
          "data": {
            "text/plain": [
              "(0.12256336113815208, 381109)"
            ]
          },
          "metadata": {
            "tags": []
          },
          "execution_count": 15
        }
      ]
    },
    {
      "cell_type": "code",
      "metadata": {
        "id": "dEZxrRhtdsRQ",
        "colab_type": "code",
        "colab": {
          "base_uri": "https://localhost:8080/",
          "height": 34
        },
        "outputId": "1450833a-9a96-47d9-9805-b30c943c5652"
      },
      "source": [
        "sum([1 for i in preds if i == 1]) / len(preds), len(preds)"
      ],
      "execution_count": 16,
      "outputs": [
        {
          "output_type": "execute_result",
          "data": {
            "text/plain": [
              "(0.40761352991648103, 127037)"
            ]
          },
          "metadata": {
            "tags": []
          },
          "execution_count": 16
        }
      ]
    },
    {
      "cell_type": "code",
      "metadata": {
        "id": "3pbxRMrGduG8",
        "colab_type": "code",
        "colab": {}
      },
      "source": [
        "result = pd.DataFrame({'id': tdf['id'], 'Response': preds.ravel()})"
      ],
      "execution_count": 17,
      "outputs": []
    },
    {
      "cell_type": "code",
      "metadata": {
        "id": "9lsfW4rgeRwp",
        "colab_type": "code",
        "colab": {}
      },
      "source": [
        ""
      ],
      "execution_count": 17,
      "outputs": []
    },
    {
      "cell_type": "code",
      "metadata": {
        "id": "XEHHR3aegaNu",
        "colab_type": "code",
        "colab": {
          "base_uri": "https://localhost:8080/",
          "height": 34
        },
        "outputId": "00fba003-5c59-433d-ce0c-1eed5d53bd4d"
      },
      "source": [
        "result.to_csv(filename, index=False)\n",
        "FileLink(filename)"
      ],
      "execution_count": 18,
      "outputs": [
        {
          "output_type": "execute_result",
          "data": {
            "text/html": [
              "<a href='result.csv' target='_blank'>result.csv</a><br>"
            ],
            "text/plain": [
              "/content/result.csv"
            ]
          },
          "metadata": {
            "tags": []
          },
          "execution_count": 18
        }
      ]
    },
    {
      "cell_type": "code",
      "metadata": {
        "id": "LQk9_o_kgcYO",
        "colab_type": "code",
        "colab": {
          "base_uri": "https://localhost:8080/",
          "height": 17
        },
        "outputId": "bfabaa98-d5e4-428f-dc28-6bd60b9e328e"
      },
      "source": [
        "from google.colab import files\n",
        "files.download(filename)\n"
      ],
      "execution_count": 19,
      "outputs": [
        {
          "output_type": "display_data",
          "data": {
            "application/javascript": [
              "\n",
              "    async function download(id, filename, size) {\n",
              "      if (!google.colab.kernel.accessAllowed) {\n",
              "        return;\n",
              "      }\n",
              "      const div = document.createElement('div');\n",
              "      const label = document.createElement('label');\n",
              "      label.textContent = `Downloading \"${filename}\": `;\n",
              "      div.appendChild(label);\n",
              "      const progress = document.createElement('progress');\n",
              "      progress.max = size;\n",
              "      div.appendChild(progress);\n",
              "      document.body.appendChild(div);\n",
              "\n",
              "      const buffers = [];\n",
              "      let downloaded = 0;\n",
              "\n",
              "      const channel = await google.colab.kernel.comms.open(id);\n",
              "      // Send a message to notify the kernel that we're ready.\n",
              "      channel.send({})\n",
              "\n",
              "      for await (const message of channel.messages) {\n",
              "        // Send a message to notify the kernel that we're ready.\n",
              "        channel.send({})\n",
              "        if (message.buffers) {\n",
              "          for (const buffer of message.buffers) {\n",
              "            buffers.push(buffer);\n",
              "            downloaded += buffer.byteLength;\n",
              "            progress.value = downloaded;\n",
              "          }\n",
              "        }\n",
              "      }\n",
              "      const blob = new Blob(buffers, {type: 'application/binary'});\n",
              "      const a = document.createElement('a');\n",
              "      a.href = window.URL.createObjectURL(blob);\n",
              "      a.download = filename;\n",
              "      div.appendChild(a);\n",
              "      a.click();\n",
              "      div.remove();\n",
              "    }\n",
              "  "
            ],
            "text/plain": [
              "<IPython.core.display.Javascript object>"
            ]
          },
          "metadata": {
            "tags": []
          }
        },
        {
          "output_type": "display_data",
          "data": {
            "application/javascript": [
              "download(\"download_7f97b36e-91cf-433b-94d0-db6f28f44d4e\", \"result.csv\", 1143345)"
            ],
            "text/plain": [
              "<IPython.core.display.Javascript object>"
            ]
          },
          "metadata": {
            "tags": []
          }
        }
      ]
    },
    {
      "cell_type": "code",
      "metadata": {
        "id": "LRV-TJM8grHo",
        "colab_type": "code",
        "colab": {}
      },
      "source": [
        ""
      ],
      "execution_count": 19,
      "outputs": []
    }
  ]
}
