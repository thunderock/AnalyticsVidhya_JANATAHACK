{
 "cells": [
  {
   "cell_type": "code",
   "execution_count": 1,
   "metadata": {},
   "outputs": [],
   "source": [
    "import numpy as np\n",
    "import pandas as pd\n",
    "import os\n",
    "%matplotlib inline\n",
    "import matplotlib.pyplot as plt \n",
    "import seaborn as sns\n",
    "color = sns.color_palette()\n",
    "sns.set_style('darkgrid')\n",
    "from tqdm import tqdm\n",
    "tqdm.pandas()\n",
    "from catboost import CatBoostClassifier\n",
    "\n",
    "from sklearn.preprocessing import StandardScaler, LabelEncoder\n",
    "from sklearn.model_selection import train_test_split, KFold, StratifiedKFold, cross_val_score, RepeatedStratifiedKFold\n",
    "from sklearn import metrics\n",
    "from lightgbm import LGBMClassifier\n",
    "from IPython.display import FileLink"
   ]
  },
  {
   "cell_type": "code",
   "execution_count": 2,
   "metadata": {},
   "outputs": [],
   "source": [
    "train_file = 'train.csv'\n",
    "test_file = 'test.csv'\n",
    "filename = 'result.csv'"
   ]
  },
  {
   "cell_type": "code",
   "execution_count": 3,
   "metadata": {},
   "outputs": [],
   "source": [
    "df, tdf = pd.read_csv(train_file), pd.read_csv(test_file)"
   ]
  },
  {
   "cell_type": "code",
   "execution_count": 4,
   "metadata": {},
   "outputs": [
    {
     "data": {
      "text/plain": [
       "Index(['case_id', 'Hospital_code', 'Hospital_type_code', 'City_Code_Hospital',\n",
       "       'Hospital_region_code', 'Available Extra Rooms in Hospital',\n",
       "       'Department', 'Ward_Type', 'Ward_Facility_Code', 'Bed Grade',\n",
       "       'patientid', 'City_Code_Patient', 'Type of Admission',\n",
       "       'Severity of Illness', 'Visitors with Patient', 'Age',\n",
       "       'Admission_Deposit', 'Stay'],\n",
       "      dtype='object')"
      ]
     },
     "execution_count": 4,
     "metadata": {},
     "output_type": "execute_result"
    }
   ],
   "source": [
    "df.columns"
   ]
  },
  {
   "cell_type": "code",
   "execution_count": 5,
   "metadata": {},
   "outputs": [
    {
     "name": "stdout",
     "output_type": "stream",
     "text": [
      "2049      0.000003\n",
      "19875     0.000003\n",
      "17826     0.000003\n",
      "23969     0.000003\n",
      "21920     0.000003\n",
      "            ...   \n",
      "19036     0.000003\n",
      "29275     0.000003\n",
      "31322     0.000003\n",
      "107105    0.000003\n",
      "2047      0.000003\n",
      "Name: case_id, Length: 318438, dtype: float64\n",
      "318438\n",
      "=========++++++++\n",
      "4     0.003894\n",
      "7     0.004101\n",
      "20    0.004412\n",
      "18    0.011399\n",
      "8     0.011503\n",
      "16    0.011528\n",
      "31    0.012458\n",
      "22    0.013431\n",
      "30    0.015708\n",
      "2     0.016022\n",
      "13    0.016443\n",
      "1     0.016484\n",
      "5     0.016521\n",
      "17    0.017275\n",
      "3     0.022347\n",
      "24    0.025098\n",
      "21    0.025594\n",
      "15    0.029070\n",
      "10    0.029629\n",
      "25    0.030882\n",
      "32    0.033611\n",
      "12    0.035476\n",
      "29    0.035520\n",
      "9     0.036145\n",
      "27    0.044731\n",
      "28    0.053816\n",
      "14    0.054416\n",
      "11    0.054416\n",
      "6     0.064141\n",
      "19    0.066635\n",
      "23    0.083426\n",
      "26    0.103870\n",
      "Name: Hospital_code, dtype: float64\n",
      "32\n",
      "=========++++++++\n",
      "g    0.013431\n",
      "f    0.033611\n",
      "d    0.064028\n",
      "e    0.077786\n",
      "c    0.144229\n",
      "b    0.216513\n",
      "a    0.450402\n",
      "Name: Hospital_type_code, dtype: float64\n",
      "7\n",
      "=========++++++++\n",
      "13    0.011399\n",
      "10    0.016484\n",
      "4     0.043516\n",
      "11    0.053816\n",
      "9     0.082518\n",
      "5     0.097680\n",
      "3     0.099137\n",
      "7     0.111365\n",
      "6     0.147567\n",
      "2     0.162697\n",
      "1     0.173820\n",
      "Name: City_Code_Hospital, dtype: float64\n",
      "11\n",
      "=========++++++++\n",
      "Z    0.196817\n",
      "Y    0.384464\n",
      "X    0.418719\n",
      "Name: Hospital_region_code, dtype: float64\n",
      "3\n",
      "=========++++++++\n",
      "24    0.000003\n",
      "14    0.000003\n",
      "20    0.000006\n",
      "13    0.000006\n",
      "21    0.000009\n",
      "12    0.000041\n",
      "0     0.000047\n",
      "11    0.000053\n",
      "10    0.000210\n",
      "9     0.000685\n",
      "8     0.003225\n",
      "7     0.009032\n",
      "1     0.017529\n",
      "6     0.024451\n",
      "5     0.060571\n",
      "3     0.287403\n",
      "4     0.287996\n",
      "2     0.308729\n",
      "Name: Available Extra Rooms in Hospital, dtype: float64\n",
      "18\n",
      "=========++++++++\n",
      "surgery               0.003772\n",
      "TB & Chest disease    0.030103\n",
      "radiotherapy          0.089550\n",
      "anesthesia            0.093108\n",
      "gynecology            0.783468\n",
      "Name: Department, dtype: float64\n",
      "5\n",
      "=========++++++++\n",
      "U    0.000028\n",
      "T    0.004638\n",
      "P    0.015846\n",
      "S    0.244299\n",
      "Q    0.333393\n",
      "R    0.401796\n",
      "Name: Ward_Type, dtype: float64\n",
      "6\n",
      "=========++++++++\n",
      "A    0.087634\n",
      "B    0.110401\n",
      "C    0.111365\n",
      "D    0.162697\n",
      "E    0.173820\n",
      "F    0.354081\n",
      "Name: Ward_Facility_Code, dtype: float64\n",
      "6\n",
      "=========++++++++\n",
      "NaN    0.000355\n",
      "1.0    0.083234\n",
      "4.0    0.180776\n",
      "3.0    0.347267\n",
      "2.0    0.388368\n",
      "Name: Bed Grade, dtype: float64\n",
      "4\n",
      "=========++++++++\n",
      "58524     0.000003\n",
      "97969     0.000003\n",
      "89781     0.000003\n",
      "85687     0.000003\n",
      "63360     0.000003\n",
      "            ...   \n",
      "33491     0.000107\n",
      "101359    0.000113\n",
      "38525     0.000122\n",
      "91292     0.000135\n",
      "66714     0.000157\n",
      "Name: patientid, Length: 92017, dtype: float64\n",
      "92017\n",
      "=========++++++++\n",
      "38.0    0.000019\n",
      "36.0    0.000038\n",
      "35.0    0.000050\n",
      "34.0    0.000144\n",
      "32.0    0.000163\n",
      "37.0    0.000179\n",
      "31.0    0.000185\n",
      "33.0    0.000245\n",
      "29.0    0.000308\n",
      "30.0    0.000418\n",
      "24.0    0.001131\n",
      "22.0    0.001272\n",
      "28.0    0.001636\n",
      "11.0    0.002066\n",
      "27.0    0.002421\n",
      "25.0    0.002506\n",
      "26.0    0.003213\n",
      "19.0    0.003228\n",
      "18.0    0.004409\n",
      "20.0    0.004425\n",
      "21.0    0.005031\n",
      "13.0    0.005103\n",
      "16.0    0.007078\n",
      "14.0    0.009192\n",
      "23.0    0.011613\n",
      "3.0     0.011845\n",
      "NaN     0.014232\n",
      "12.0    0.017733\n",
      "6.0     0.018858\n",
      "10.0    0.025669\n",
      "15.0    0.028106\n",
      "9.0     0.037040\n",
      "4.0     0.048298\n",
      "5.0     0.063055\n",
      "7.0     0.074762\n",
      "1.0     0.082832\n",
      "2.0     0.122061\n",
      "8.0     0.389435\n",
      "Name: City_Code_Patient, dtype: float64\n",
      "37\n",
      "=========++++++++\n",
      "Urgent       0.152309\n",
      "Emergency    0.369541\n",
      "Trauma       0.478150\n",
      "Name: Type of Admission, dtype: float64\n",
      "3\n",
      "=========++++++++\n",
      "Extreme     0.178129\n",
      "Minor       0.269666\n",
      "Moderate    0.552205\n",
      "Name: Severity of Illness, dtype: float64\n",
      "3\n",
      "=========++++++++\n",
      "32    0.000028\n",
      "30    0.000028\n",
      "23    0.000031\n",
      "21    0.000035\n",
      "25    0.000038\n",
      "19    0.000038\n",
      "22    0.000060\n",
      "17    0.000063\n",
      "0     0.000069\n",
      "18    0.000192\n",
      "20    0.000195\n",
      "24    0.000245\n",
      "13    0.000333\n",
      "15    0.000609\n",
      "14    0.000650\n",
      "16    0.000898\n",
      "11    0.001027\n",
      "12    0.003040\n",
      "10    0.003715\n",
      "1     0.003790\n",
      "9     0.004265\n",
      "7     0.007863\n",
      "8     0.015300\n",
      "5     0.028951\n",
      "6     0.059227\n",
      "3     0.185845\n",
      "4     0.248793\n",
      "2     0.434675\n",
      "Name: Visitors with Patient, dtype: float64\n",
      "28\n",
      "=========++++++++\n",
      "91-100    0.004089\n",
      "0-10      0.019640\n",
      "81-90     0.024777\n",
      "11-20     0.052657\n",
      "61-70     0.105788\n",
      "71-80     0.112399\n",
      "21-30     0.128260\n",
      "51-60     0.152350\n",
      "31-40     0.199847\n",
      "41-50     0.200193\n",
      "Name: Age, dtype: float64\n",
      "10\n",
      "=========++++++++\n",
      "7881.0    0.000003\n",
      "2109.0    0.000003\n",
      "1855.0    0.000003\n",
      "8724.0    0.000003\n",
      "9571.0    0.000003\n",
      "            ...   \n",
      "4970.0    0.000898\n",
      "4789.0    0.000948\n",
      "4624.0    0.001099\n",
      "4277.0    0.001184\n",
      "4469.0    0.001225\n",
      "Name: Admission_Deposit, Length: 7300, dtype: float64\n",
      "7300\n",
      "=========++++++++\n",
      "61-70                 0.008617\n",
      "91-100                0.008683\n",
      "81-90                 0.015193\n",
      "More than 100 Days    0.020987\n",
      "71-80                 0.032201\n",
      "41-50                 0.036877\n",
      "0-10                  0.074124\n",
      "51-60                 0.109968\n",
      "31-40                 0.173217\n",
      "11-20                 0.245382\n",
      "21-30                 0.274751\n",
      "Name: Stay, dtype: float64\n",
      "11\n",
      "=========++++++++\n"
     ]
    }
   ],
   "source": [
    "for col in df.columns:\n",
    "    print(df[col].value_counts(normalize=True, dropna=False, ascending=True))\n",
    "    print(df[col].nunique())\n",
    "    print(\"=========++++++++\")\n"
   ]
  },
  {
   "cell_type": "code",
   "execution_count": 6,
   "metadata": {},
   "outputs": [
    {
     "data": {
      "image/png": "[encoded data removed]",
      "text/plain": [
       "<Figure size 4320x720 with 1 Axes>"
      ]
     },
     "metadata": {
      "needs_background": "light"
     },
     "output_type": "display_data"
    },
    {
     "data": {
      "image/png": "[encoded data removed]",
      "text/plain": [
       "<Figure size 4320x720 with 1 Axes>"
      ]
     },
     "metadata": {
      "needs_background": "light"
     },
     "output_type": "display_data"
    },
    {
     "data": {
      "image/png": "[encoded data removed]",
      "text/plain": [
       "<Figure size 4320x720 with 1 Axes>"
      ]
     },
     "metadata": {
      "needs_background": "light"
     },
     "output_type": "display_data"
    },
    {
     "data": {
      "image/png": "[encoded data removed]",
      "text/plain": [
       "<Figure size 4320x720 with 1 Axes>"
      ]
     },
     "metadata": {
      "needs_background": "light"
     },
     "output_type": "display_data"
    },
    {
     "data": {
      "image/png": "[encoded data removed]",
      "text/plain": [
       "<Figure size 4320x720 with 1 Axes>"
      ]
     },
     "metadata": {
      "needs_background": "light"
     },
     "output_type": "display_data"
    },
    {
     "data": {
      "image/png": "[encoded data removed]",
      "text/plain": [
       "<Figure size 4320x720 with 1 Axes>"
      ]
     },
     "metadata": {
      "needs_background": "light"
     },
     "output_type": "display_data"
    },
    {
     "data": {
      "image/png": "[encoded data removed]",
      "text/plain": [
       "<Figure size 4320x720 with 1 Axes>"
      ]
     },
     "metadata": {
      "needs_background": "light"
     },
     "output_type": "display_data"
    },
    {
     "data": {
      "image/png": "[encoded data removed]",
      "text/plain": [
       "<Figure size 4320x720 with 1 Axes>"
      ]
     },
     "metadata": {
      "needs_background": "light"
     },
     "output_type": "display_data"
    },
    {
     "data": {
      "image/png": "[encoded data removed]",
      "text/plain": [
       "<Figure size 4320x720 with 1 Axes>"
      ]
     },
     "metadata": {
      "needs_background": "light"
     },
     "output_type": "display_data"
    },
    {
     "data": {
      "image/png": "[encoded data removed]",
      "text/plain": [
       "<Figure size 4320x720 with 1 Axes>"
      ]
     },
     "metadata": {
      "needs_background": "light"
     },
     "output_type": "display_data"
    },
    {
     "data": {
      "image/png": "[encoded data removed]",
      "text/plain": [
       "<Figure size 4320x720 with 1 Axes>"
      ]
     },
     "metadata": {
      "needs_background": "light"
     },
     "output_type": "display_data"
    },
    {
     "data": {
      "image/png": "[encoded data removed]",
      "text/plain": [
       "<Figure size 4320x720 with 1 Axes>"
      ]
     },
     "metadata": {
      "needs_background": "light"
     },
     "output_type": "display_data"
    },
    {
     "data": {
      "image/png": "[encoded data removed]",
      "text/plain": [
       "<Figure size 4320x720 with 1 Axes>"
      ]
     },
     "metadata": {
      "needs_background": "light"
     },
     "output_type": "display_data"
    },
    {
     "data": {
      "image/png": "[encoded data removed]",
      "text/plain": [
       "<Figure size 4320x720 with 1 Axes>"
      ]
     },
     "metadata": {
      "needs_background": "light"
     },
     "output_type": "display_data"
    },
    {
     "data": {
      "image/png": "[encoded data removed]",
      "text/plain": [
       "<Figure size 4320x720 with 1 Axes>"
      ]
     },
     "metadata": {
      "needs_background": "light"
     },
     "output_type": "display_data"
    }
   ],
   "source": [
    "i = 1\n",
    "for column in df.columns[~(df.columns.isin(['case_id', 'patientid', 'Admission_Deposit']))].tolist():\n",
    "    plt.figure(figsize = (60, 10))\n",
    "    plt.subplot(4, 4, i)\n",
    "    sns.barplot(x = df[column].value_counts().index, y = df[column].value_counts())\n",
    "    i += 1\n",
    "    plt.show()"
   ]
  },
  {
   "cell_type": "code",
   "execution_count": 7,
   "metadata": {},
   "outputs": [
    {
     "data": {
      "text/plain": [
       "(1, 1, 16, 18)"
      ]
     },
     "execution_count": 7,
     "metadata": {},
     "output_type": "execute_result"
    }
   ],
   "source": [
    "reg_cols = ['Admission_Deposit']\n",
    "useless_cols = ['case_id', ]\n",
    "cat_cols = ['Hospital_code', 'Hospital_type_code', 'City_Code_Hospital', 'Hospital_region_code', 'Available Extra Rooms in Hospital','Department', \n",
    "            'Ward_Type', 'Ward_Facility_Code', 'Bed Grade', 'patientid' , 'City_Code_Patient', 'Type of Admission' , 'Severity of Illness', \n",
    "            'Visitors with Patient', 'Age', 'Stay']\n",
    "len(reg_cols), len(useless_cols), len(cat_cols), len(df.columns)"
   ]
  },
  {
   "cell_type": "code",
   "execution_count": 8,
   "metadata": {},
   "outputs": [
    {
     "name": "stderr",
     "output_type": "stream",
     "text": [
      "100%|██████████| 16/16 [00:00<00:00, 24.07it/s]\n"
     ]
    }
   ],
   "source": [
    "target_encoder = LabelEncoder()\n",
    "encoder_cols = {\n",
    "    'Hospital_code':1,\n",
    "    'Hospital_type_code':1,\n",
    "    'City_Code_Hospital':1,\n",
    "    'Hospital_region_code':1,\n",
    "    'Available Extra Rooms in Hospital':1,\n",
    "    'Department':1,\n",
    "    'Ward_Type':1,\n",
    "    'Ward_Facility_Code':1,\n",
    "    'Bed Grade':1,\n",
    "    'Type of Admission': 1,\n",
    "    'Severity of Illness': 1,\n",
    "    \n",
    "    'Age': 1\n",
    "}\n",
    "\n",
    "def label_encoding(dframe, col, test=False):\n",
    "    if col not in dframe.columns: return\n",
    "    if col == 'Stay':\n",
    "        if not test:\n",
    "            dframe[col] = target_encoder.fit_transform(dframe[col])\n",
    "        else:\n",
    "            dframe[col] = target_encoder.transform(dframe[col])\n",
    "    elif col in encoder_cols:\n",
    "        if not test:\n",
    "            encoder_cols[col] = LabelEncoder()\n",
    "            dframe[col] = encoder_cols[col].fit_transform(dframe[col])\n",
    "        else:\n",
    "            dframe[col] = encoder_cols[col].transform(dframe[col])\n",
    "    else:    \n",
    "        label_encoder = LabelEncoder()\n",
    "        dframe[col] = label_encoder.fit_transform(dframe[col])\n",
    "\n",
    "df['Bed Grade'].fillna(-1, inplace=True)\n",
    "tdf['Bed Grade'].fillna(-1, inplace=True)\n",
    "\n",
    "df['City_Code_Patient'].fillna(0, inplace=True)\n",
    "tdf['City_Code_Patient'].fillna(0, inplace=True)\n",
    "\n",
    "df.fillna('NaN', inplace=True)\n",
    "tdf.fillna('NaN', inplace=True)\n",
    "for col in tqdm(cat_cols):\n",
    "    label_encoding(df, col)\n",
    "    label_encoding(tdf, col, True)\n",
    "    "
   ]
  },
  {
   "cell_type": "code",
   "execution_count": null,
   "metadata": {},
   "outputs": [],
   "source": []
  },
  {
   "cell_type": "code",
   "execution_count": 9,
   "metadata": {},
   "outputs": [],
   "source": [
    "def create_feature_for_patient_id(dframe, patientid=\"patientid\", caseid=\"case_id\"): \n",
    "    cnt = {} \n",
    "    for index, row in tqdm(dframe.iterrows()): \n",
    "        p = row[patientid]\n",
    "        if p in cnt: \n",
    "            cnt[p] += 1 \n",
    "        else: \n",
    "            cnt[p] = 1 \n",
    "    current_cnt = {} \n",
    "    s = [] \n",
    "    for index, row in tqdm(dframe.iterrows()): \n",
    "        p = row[patientid]\n",
    "        if p in current_cnt: current_cnt[p] += 1 \n",
    "        else: current_cnt[p] = 1\n",
    "        s.append(current_cnt[p] / cnt[p]) \n",
    "    return pd.Series(s)"
   ]
  },
  {
   "cell_type": "code",
   "execution_count": 10,
   "metadata": {},
   "outputs": [
    {
     "name": "stderr",
     "output_type": "stream",
     "text": [
      "318438it [00:21, 15060.26it/s]\n",
      "318438it [00:21, 15039.30it/s]\n",
      "137057it [00:08, 15247.69it/s]\n",
      "137057it [00:09, 15014.33it/s]\n"
     ]
    }
   ],
   "source": [
    "df['patient_city_code_f'] = create_feature_for_patient_id(df, patientid='City_Code_Patient')\n",
    "tdf['patient_city_code_f'] = create_feature_for_patient_id(tdf, patientid='City_Code_Patient')"
   ]
  },
  {
   "cell_type": "code",
   "execution_count": 11,
   "metadata": {},
   "outputs": [
    {
     "name": "stderr",
     "output_type": "stream",
     "text": [
      "318438it [00:21, 15134.42it/s]\n",
      "318438it [00:21, 14727.71it/s]\n",
      "137057it [00:09, 14361.17it/s]\n",
      "137057it [00:09, 14196.76it/s]\n"
     ]
    }
   ],
   "source": [
    "df['patientid_f'] = create_feature_for_patient_id(df)\n",
    "tdf['patientid_f'] = create_feature_for_patient_id(tdf)"
   ]
  },
  {
   "cell_type": "code",
   "execution_count": 12,
   "metadata": {},
   "outputs": [
    {
     "name": "stdout",
     "output_type": "stream",
     "text": [
      "2049      0.000003\n",
      "19875     0.000003\n",
      "17826     0.000003\n",
      "23969     0.000003\n",
      "21920     0.000003\n",
      "            ...   \n",
      "19036     0.000003\n",
      "29275     0.000003\n",
      "31322     0.000003\n",
      "107105    0.000003\n",
      "2047      0.000003\n",
      "Name: case_id, Length: 318438, dtype: float64\n",
      "318438\n",
      "=========++++++++\n",
      "3     0.003894\n",
      "6     0.004101\n",
      "19    0.004412\n",
      "17    0.011399\n",
      "7     0.011503\n",
      "15    0.011528\n",
      "30    0.012458\n",
      "21    0.013431\n",
      "29    0.015708\n",
      "1     0.016022\n",
      "12    0.016443\n",
      "0     0.016484\n",
      "4     0.016521\n",
      "16    0.017275\n",
      "2     0.022347\n",
      "23    0.025098\n",
      "20    0.025594\n",
      "14    0.029070\n",
      "9     0.029629\n",
      "24    0.030882\n",
      "31    0.033611\n",
      "11    0.035476\n",
      "28    0.035520\n",
      "8     0.036145\n",
      "26    0.044731\n",
      "27    0.053816\n",
      "13    0.054416\n",
      "10    0.054416\n",
      "5     0.064141\n",
      "18    0.066635\n",
      "22    0.083426\n",
      "25    0.103870\n",
      "Name: Hospital_code, dtype: float64\n",
      "32\n",
      "=========++++++++\n",
      "6    0.013431\n",
      "5    0.033611\n",
      "3    0.064028\n",
      "4    0.077786\n",
      "2    0.144229\n",
      "1    0.216513\n",
      "0    0.450402\n",
      "Name: Hospital_type_code, dtype: float64\n",
      "7\n",
      "=========++++++++\n",
      "10    0.011399\n",
      "8     0.016484\n",
      "3     0.043516\n",
      "9     0.053816\n",
      "7     0.082518\n",
      "4     0.097680\n",
      "2     0.099137\n",
      "6     0.111365\n",
      "5     0.147567\n",
      "1     0.162697\n",
      "0     0.173820\n",
      "Name: City_Code_Hospital, dtype: float64\n",
      "11\n",
      "=========++++++++\n",
      "2    0.196817\n",
      "1    0.384464\n",
      "0    0.418719\n",
      "Name: Hospital_region_code, dtype: float64\n",
      "3\n",
      "=========++++++++\n",
      "17    0.000003\n",
      "14    0.000003\n",
      "15    0.000006\n",
      "13    0.000006\n",
      "16    0.000009\n",
      "12    0.000041\n",
      "0     0.000047\n",
      "11    0.000053\n",
      "10    0.000210\n",
      "9     0.000685\n",
      "8     0.003225\n",
      "7     0.009032\n",
      "1     0.017529\n",
      "6     0.024451\n",
      "5     0.060571\n",
      "3     0.287403\n",
      "4     0.287996\n",
      "2     0.308729\n",
      "Name: Available Extra Rooms in Hospital, dtype: float64\n",
      "18\n",
      "=========++++++++\n",
      "4    0.003772\n",
      "0    0.030103\n",
      "3    0.089550\n",
      "1    0.093108\n",
      "2    0.783468\n",
      "Name: Department, dtype: float64\n",
      "5\n",
      "=========++++++++\n",
      "5    0.000028\n",
      "4    0.004638\n",
      "0    0.015846\n",
      "3    0.244299\n",
      "1    0.333393\n",
      "2    0.401796\n",
      "Name: Ward_Type, dtype: float64\n",
      "6\n",
      "=========++++++++\n",
      "0    0.087634\n",
      "1    0.110401\n",
      "2    0.111365\n",
      "3    0.162697\n",
      "4    0.173820\n",
      "5    0.354081\n",
      "Name: Ward_Facility_Code, dtype: float64\n",
      "6\n",
      "=========++++++++\n",
      "0    0.000355\n",
      "1    0.083234\n",
      "4    0.180776\n",
      "3    0.347267\n",
      "2    0.388368\n",
      "Name: Bed Grade, dtype: float64\n",
      "5\n",
      "=========++++++++\n",
      "10149    0.000003\n",
      "4915     0.000003\n",
      "11510    0.000003\n",
      "62255    0.000003\n",
      "46183    0.000003\n",
      "           ...   \n",
      "23435    0.000107\n",
      "70977    0.000113\n",
      "26949    0.000122\n",
      "63967    0.000135\n",
      "46724    0.000157\n",
      "Name: patientid, Length: 92017, dtype: float64\n",
      "92017\n",
      "=========++++++++\n",
      "37    0.000019\n",
      "35    0.000038\n",
      "34    0.000050\n",
      "33    0.000144\n",
      "31    0.000163\n",
      "36    0.000179\n",
      "30    0.000185\n",
      "32    0.000245\n",
      "28    0.000308\n",
      "29    0.000418\n",
      "23    0.001131\n",
      "21    0.001272\n",
      "27    0.001636\n",
      "11    0.002066\n",
      "26    0.002421\n",
      "24    0.002506\n",
      "25    0.003213\n",
      "18    0.003228\n",
      "17    0.004409\n",
      "19    0.004425\n",
      "20    0.005031\n",
      "13    0.005103\n",
      "16    0.007078\n",
      "14    0.009192\n",
      "22    0.011613\n",
      "3     0.011845\n",
      "0     0.014232\n",
      "12    0.017733\n",
      "6     0.018858\n",
      "10    0.025669\n",
      "15    0.028106\n",
      "9     0.037040\n",
      "4     0.048298\n",
      "5     0.063055\n",
      "7     0.074762\n",
      "1     0.082832\n",
      "2     0.122061\n",
      "8     0.389435\n",
      "Name: City_Code_Patient, dtype: float64\n",
      "38\n",
      "=========++++++++\n",
      "2    0.152309\n",
      "0    0.369541\n",
      "1    0.478150\n",
      "Name: Type of Admission, dtype: float64\n",
      "3\n",
      "=========++++++++\n",
      "0    0.178129\n",
      "1    0.269666\n",
      "2    0.552205\n",
      "Name: Severity of Illness, dtype: float64\n",
      "3\n",
      "=========++++++++\n",
      "27    0.000028\n",
      "26    0.000028\n",
      "23    0.000031\n",
      "21    0.000035\n",
      "25    0.000038\n",
      "19    0.000038\n",
      "22    0.000060\n",
      "17    0.000063\n",
      "0     0.000069\n",
      "18    0.000192\n",
      "20    0.000195\n",
      "24    0.000245\n",
      "13    0.000333\n",
      "15    0.000609\n",
      "14    0.000650\n",
      "16    0.000898\n",
      "11    0.001027\n",
      "12    0.003040\n",
      "10    0.003715\n",
      "1     0.003790\n",
      "9     0.004265\n",
      "7     0.007863\n",
      "8     0.015300\n",
      "5     0.028951\n",
      "6     0.059227\n",
      "3     0.185845\n",
      "4     0.248793\n",
      "2     0.434675\n",
      "Name: Visitors with Patient, dtype: float64\n",
      "28\n",
      "=========++++++++\n",
      "9    0.004089\n",
      "0    0.019640\n",
      "8    0.024777\n",
      "1    0.052657\n",
      "6    0.105788\n",
      "7    0.112399\n",
      "2    0.128260\n",
      "5    0.152350\n",
      "3    0.199847\n",
      "4    0.200193\n",
      "Name: Age, dtype: float64\n",
      "10\n",
      "=========++++++++\n",
      "7881.0    0.000003\n",
      "2109.0    0.000003\n",
      "1855.0    0.000003\n",
      "8724.0    0.000003\n",
      "9571.0    0.000003\n",
      "            ...   \n",
      "4970.0    0.000898\n",
      "4789.0    0.000948\n",
      "4624.0    0.001099\n",
      "4277.0    0.001184\n",
      "4469.0    0.001225\n",
      "Name: Admission_Deposit, Length: 7300, dtype: float64\n",
      "7300\n",
      "=========++++++++\n",
      "6     0.008617\n",
      "9     0.008683\n",
      "8     0.015193\n",
      "10    0.020987\n",
      "7     0.032201\n",
      "4     0.036877\n",
      "0     0.074124\n",
      "5     0.109968\n",
      "3     0.173217\n",
      "1     0.245382\n",
      "2     0.274751\n",
      "Name: Stay, dtype: float64\n",
      "11\n",
      "=========++++++++\n",
      "0.422599    0.000003\n",
      "0.263166    0.000003\n",
      "0.194152    0.000003\n",
      "0.563697    0.000003\n",
      "0.799163    0.000003\n",
      "              ...   \n",
      "0.750000    0.000028\n",
      "0.666667    0.000041\n",
      "0.333333    0.000041\n",
      "0.500000    0.000063\n",
      "1.000000    0.000119\n",
      "Name: patient_city_code_f, Length: 316894, dtype: float64\n",
      "316894\n",
      "=========++++++++\n",
      "0.305556    0.000003\n",
      "0.806452    0.000003\n",
      "0.548387    0.000003\n",
      "0.604651    0.000003\n",
      "0.406250    0.000003\n",
      "              ...   \n",
      "0.750000    0.047074\n",
      "0.666667    0.074435\n",
      "0.333333    0.074435\n",
      "0.500000    0.127752\n",
      "1.000000    0.288964\n",
      "Name: patientid_f, Length: 438, dtype: float64\n",
      "438\n",
      "=========++++++++\n"
     ]
    }
   ],
   "source": [
    "for col in df.columns:\n",
    "    print(df[col].value_counts(normalize=True, dropna=False, ascending=True))\n",
    "    print(df[col].nunique())\n",
    "    print(\"=========++++++++\")"
   ]
  },
  {
   "cell_type": "code",
   "execution_count": 13,
   "metadata": {},
   "outputs": [
    {
     "name": "stdout",
     "output_type": "stream",
     "text": [
      "Hospital_code\n",
      "Hospital_type_code\n",
      "City_Code_Hospital\n",
      "Hospital_region_code\n",
      "Available Extra Rooms in Hospital\n",
      "Department\n",
      "Ward_Type\n",
      "Ward_Facility_Code\n",
      "Bed Grade\n",
      "patientid\n",
      "City_Code_Patient\n",
      "Type of Admission\n",
      "Severity of Illness\n",
      "Visitors with Patient\n",
      "Age\n"
     ]
    }
   ],
   "source": [
    "for col in df.columns:\n",
    "    if col in cat_cols and col in tdf.columns and tdf[col].nunique() == tdf[col].nunique():\n",
    "        print(col)\n",
    "        "
   ]
  },
  {
   "cell_type": "code",
   "execution_count": 14,
   "metadata": {},
   "outputs": [
    {
     "name": "stderr",
     "output_type": "stream",
     "text": [
      "100%|██████████| 18/18 [00:02<00:00,  7.21it/s]\n"
     ]
    }
   ],
   "source": [
    "ss = StandardScaler()\n",
    "for col in tqdm(df.columns[~(df.columns.isin(['case_id', 'Stay']))].tolist()):\n",
    "    df[[col]] = ss.fit_transform(df[[col]])\n",
    "    tdf[[col]] = ss.fit_transform(tdf[[col]])"
   ]
  },
  {
   "cell_type": "code",
   "execution_count": 15,
   "metadata": {},
   "outputs": [],
   "source": [
    "X = df[df.columns[~(df.columns.isin(['case_id', 'Stay']))].tolist()].values\n",
    "y = df['Stay'].values"
   ]
  },
  {
   "cell_type": "code",
   "execution_count": 16,
   "metadata": {},
   "outputs": [
    {
     "data": {
      "text/plain": [
       "<catboost.core.CatBoostClassifier at 0x7fc6cd1a6ef0>"
      ]
     },
     "execution_count": 16,
     "metadata": {},
     "output_type": "execute_result"
    }
   ],
   "source": [
    "grid = {'learning_rate': [0.1],\n",
    "        'max_depth': [6, 8, 10],\n",
    "        'n_estimators': [500]}\n",
    "\n",
    "model = CatBoostClassifier(random_state = 22, # task_type=\"GPU\", devices='0:1', \n",
    "                           max_depth=8, n_estimators= 500, learning_rate=0.1, verbose=False)\n",
    "\n",
    "model.fit(X, y)\n"
   ]
  },
  {
   "cell_type": "code",
   "execution_count": 17,
   "metadata": {},
   "outputs": [],
   "source": [
    "# grid_search_result = model.grid_search(grid, X=X, y=y, cv=6, shuffle=True, stratified=True, verbose=True, plot=True, refit=True)"
   ]
  },
  {
   "cell_type": "code",
   "execution_count": 18,
   "metadata": {},
   "outputs": [],
   "source": [
    "predictions = model.predict(tdf[tdf.columns[~(tdf.columns.isin(['case_id']))].tolist()].values)\n",
    "result = pd.DataFrame({'case_id': tdf['case_id'], 'Stay': predictions.ravel()})"
   ]
  },
  {
   "cell_type": "code",
   "execution_count": 19,
   "metadata": {},
   "outputs": [],
   "source": [
    "result['Stay'] = target_encoder.inverse_transform(result['Stay'])"
   ]
  },
  {
   "cell_type": "code",
   "execution_count": 20,
   "metadata": {},
   "outputs": [
    {
     "data": {
      "text/html": [
       "<a href='result.csv' target='_blank'>result.csv</a><br>"
      ],
      "text/plain": [
       "/Users/ashutosh.tiwari1/personal/AnalyticsVidhya_JANATAHACK/result.csv"
      ]
     },
     "execution_count": 20,
     "metadata": {},
     "output_type": "execute_result"
    }
   ],
   "source": [
    "result.to_csv(filename, index=False)\n",
    "FileLink(filename)"
   ]
  },
  {
   "cell_type": "code",
   "execution_count": 21,
   "metadata": {},
   "outputs": [],
   "source": [
    "# grid_search_result['params']"
   ]
  },
  {
   "cell_type": "code",
   "execution_count": null,
   "metadata": {},
   "outputs": [],
   "source": []
  },
  {
   "cell_type": "code",
   "execution_count": null,
   "metadata": {},
   "outputs": [],
   "source": []
  },
  {
   "cell_type": "code",
   "execution_count": 22,
   "metadata": {},
   "outputs": [
    {
     "name": "stdout",
     "output_type": "stream",
     "text": [
      "Hospital_code 5.112912370270491\n",
      "Hospital_type_code 2.9364130365116172\n",
      "City_Code_Hospital 4.248094019866339\n",
      "Hospital_region_code 1.5876203484127487\n",
      "Available Extra Rooms in Hospital 4.329465955185728\n",
      "Department 2.065176135695708\n",
      "Ward_Type 10.055718903027257\n",
      "Ward_Facility_Code 2.711057137469297\n",
      "Bed Grade 4.743582366922878\n",
      "patientid 4.552436837964238\n",
      "City_Code_Patient 6.339924204593967\n",
      "Type of Admission 5.034268164631842\n",
      "Severity of Illness 3.4217315860657878\n",
      "Visitors with Patient 21.42052577778124\n",
      "Age 4.785633888867217\n",
      "Admission_Deposit 6.4407515575211365\n",
      "patient_city_code_f 5.703724214888973\n",
      "patientid_f 4.5109634943235415\n"
     ]
    }
   ],
   "source": [
    "for i, j in zip(df[df.columns[~(df.columns.isin(['case_id', 'Stay']))].tolist()].columns, model.feature_importances_):\n",
    "    print(i, j)"
   ]
  },
  {
   "cell_type": "code",
   "execution_count": null,
   "metadata": {},
   "outputs": [],
   "source": []
  },
  {
   "cell_type": "code",
   "execution_count": null,
   "metadata": {},
   "outputs": [],
   "source": []
  }
 ],
 "metadata": {
  "kernelspec": {
   "display_name": "Python 3",
   "language": "python",
   "name": "python3"
  },
  "language_info": {
   "codemirror_mode": {
    "name": "ipython",
    "version": 3
   },
   "file_extension": ".py",
   "mimetype": "text/x-python",
   "name": "python",
   "nbconvert_exporter": "python",
   "pygments_lexer": "ipython3",
   "version": "3.6.8"
  }
 },
 "nbformat": 4,
 "nbformat_minor": 4
}
