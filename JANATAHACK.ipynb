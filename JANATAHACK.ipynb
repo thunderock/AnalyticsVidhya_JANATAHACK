{
 "cells": [
  {
   "cell_type": "code",
   "execution_count": 1,
   "metadata": {
    "colab": {
     "base_uri": "https://localhost:8080/",
     "height": 72
    },
    "colab_type": "code",
    "id": "7loZVLwmCXzB",
    "outputId": "e892849a-b89c-447e-c7ad-97399867db59"
   },
   "outputs": [
    {
     "name": "stderr",
     "output_type": "stream",
     "text": [
      "/usr/local/lib/python3.6/dist-packages/statsmodels/tools/_testing.py:19: FutureWarning: pandas.util.testing is deprecated. Use the functions in the public API at pandas.testing instead.\n",
      "  import pandas.util.testing as tm\n"
     ]
    }
   ],
   "source": [
    "import tensorflow as tf\n",
    "from tensorflow.keras.layers import *\n",
    "from tensorflow.keras.preprocessing.sequence import pad_sequences\n",
    "from tensorflow.keras import Model\n",
    "import tensorflow as tf\n",
    "import tensorflow.keras.backend as K\n",
    "from tensorflow.keras.metrics import Metric\n",
    "from tensorflow.python.keras.utils import metrics_utils\n",
    "from tensorflow.python.ops import init_ops, math_ops\n",
    "from tensorflow.python.keras.utils.generic_utils import to_list\n",
    "import tensorflow_hub as hub\n",
    "import numpy as np\n",
    "import pandas as pd\n",
    "from sklearn.metrics import f1_score  \n",
    "import seaborn as sns\n",
    "import codecs\n",
    "import warnings \n",
    "warnings.filterwarnings(\"ignore\") \n",
    "from sklearn.model_selection import train_test_split\n",
    "from tqdm import tqdm\n",
    "from tensorflow.keras.utils import to_categorical\n",
    "from sklearn.linear_model import LogisticRegression\n",
    "from sklearn.neighbors import KNeighborsClassifier\n",
    "from sklearn.svm import SVC\n",
    "from sklearn.tree import DecisionTreeClassifier\n",
    "from sklearn.naive_bayes import MultinomialNB\n",
    "from sklearn.pipeline import Pipeline\n",
    "from sklearn.multiclass import OneVsRestClassifier\n",
    "from sklearn.feature_extraction.text import TfidfVectorizer, CountVectorizer\n",
    "from scipy.sparse import coo_matrix, hstack, vstack\n",
    "\n",
    "import re\n",
    "from nltk.corpus import stopwords\n",
    "stop_words = set(stopwords.words('english'))"
   ]
  },
  {
   "cell_type": "code",
   "execution_count": 2,
   "metadata": {
    "colab": {},
    "colab_type": "code",
    "id": "OURdAoIICdwd"
   },
   "outputs": [],
   "source": [
    "# from google.colab import files\n",
    "# uploaded = files.upload()\n",
    "# # # !mv 'train (1).csv'  train.csv\n",
    "# import nltk\n",
    "# nltk.download('stopwords')\n"
   ]
  },
  {
   "cell_type": "code",
   "execution_count": 2,
   "metadata": {
    "colab": {},
    "colab_type": "code",
    "id": "Anw15X464aCc"
   },
   "outputs": [],
   "source": []
  },
  {
   "cell_type": "code",
   "execution_count": 3,
   "metadata": {
    "colab": {},
    "colab_type": "code",
    "id": "CDr8mRvgCXzF"
   },
   "outputs": [],
   "source": [
    "df = pd.read_csv(\"train.csv\")"
   ]
  },
  {
   "cell_type": "code",
   "execution_count": 4,
   "metadata": {
    "colab": {},
    "colab_type": "code",
    "id": "b3vbl5JGCXzI"
   },
   "outputs": [],
   "source": [
    "df.set_index(\"ID\", inplace=True)\n"
   ]
  },
  {
   "cell_type": "code",
   "execution_count": 5,
   "metadata": {
    "colab": {},
    "colab_type": "code",
    "id": "fstuWmtkCXzK"
   },
   "outputs": [],
   "source": [
    "def data_text_preprocess(total_text, ind, col):\n",
    "    # Remove int values from text data as that might not be imp\n",
    "    if type(total_text) is not int:\n",
    "        string = \"\"\n",
    "        # replacing all special char with space\n",
    "        total_text = re.sub('[^a-zA-Z0-9\\n]', ' ', str(total_text))\n",
    "        # replacing multiple spaces with single space\n",
    "        total_text = re.sub('\\s+',' ', str(total_text))\n",
    "        # bring whole text to same lower-case scale.\n",
    "#         total_text = total_text.lower()\n",
    "        \n",
    "        for word in total_text.split():\n",
    "        # if the word is a not a stop word then retain that word from text\n",
    "            if not word in stop_words:\n",
    "                string += word + \" \"\n",
    "        \n",
    "        df[col][ind] = string"
   ]
  },
  {
   "cell_type": "code",
   "execution_count": 6,
   "metadata": {
    "colab": {
     "base_uri": "https://localhost:8080/",
     "height": 474
    },
    "colab_type": "code",
    "id": "Y02SXJhbCXzN",
    "outputId": "69b69610-8955-4dcd-f179-38584938e2ff"
   },
   "outputs": [
    {
     "data": {
      "text/html": [
       "<div>\n",
       "<style scoped>\n",
       "    .dataframe tbody tr th:only-of-type {\n",
       "        vertical-align: middle;\n",
       "    }\n",
       "\n",
       "    .dataframe tbody tr th {\n",
       "        vertical-align: top;\n",
       "    }\n",
       "\n",
       "    .dataframe thead th {\n",
       "        text-align: right;\n",
       "    }\n",
       "</style>\n",
       "<table border=\"1\" class=\"dataframe\">\n",
       "  <thead>\n",
       "    <tr style=\"text-align: right;\">\n",
       "      <th></th>\n",
       "      <th>TITLE</th>\n",
       "      <th>ABSTRACT</th>\n",
       "      <th>Computer Science</th>\n",
       "      <th>Physics</th>\n",
       "      <th>Mathematics</th>\n",
       "      <th>Statistics</th>\n",
       "      <th>Quantitative Biology</th>\n",
       "      <th>Quantitative Finance</th>\n",
       "    </tr>\n",
       "    <tr>\n",
       "      <th>ID</th>\n",
       "      <th></th>\n",
       "      <th></th>\n",
       "      <th></th>\n",
       "      <th></th>\n",
       "      <th></th>\n",
       "      <th></th>\n",
       "      <th></th>\n",
       "      <th></th>\n",
       "    </tr>\n",
       "  </thead>\n",
       "  <tbody>\n",
       "    <tr>\n",
       "      <th>1</th>\n",
       "      <td>Reconstructing Subject Specific Effect Maps</td>\n",
       "      <td>Predictive models allow subject specific infer...</td>\n",
       "      <td>1</td>\n",
       "      <td>0</td>\n",
       "      <td>0</td>\n",
       "      <td>0</td>\n",
       "      <td>0</td>\n",
       "      <td>0</td>\n",
       "    </tr>\n",
       "    <tr>\n",
       "      <th>2</th>\n",
       "      <td>Rotation Invariance Neural Network</td>\n",
       "      <td>Rotation invariance translation invariance gre...</td>\n",
       "      <td>1</td>\n",
       "      <td>0</td>\n",
       "      <td>0</td>\n",
       "      <td>0</td>\n",
       "      <td>0</td>\n",
       "      <td>0</td>\n",
       "    </tr>\n",
       "    <tr>\n",
       "      <th>3</th>\n",
       "      <td>Spherical polyharmonics Poisson kernels polyha...</td>\n",
       "      <td>We introduce develop notion spherical polyharm...</td>\n",
       "      <td>0</td>\n",
       "      <td>0</td>\n",
       "      <td>1</td>\n",
       "      <td>0</td>\n",
       "      <td>0</td>\n",
       "      <td>0</td>\n",
       "    </tr>\n",
       "    <tr>\n",
       "      <th>4</th>\n",
       "      <td>A finite element approximation stochastic Maxw...</td>\n",
       "      <td>The stochastic Landau Lifshitz Gilbert LLG equ...</td>\n",
       "      <td>0</td>\n",
       "      <td>0</td>\n",
       "      <td>1</td>\n",
       "      <td>0</td>\n",
       "      <td>0</td>\n",
       "      <td>0</td>\n",
       "    </tr>\n",
       "    <tr>\n",
       "      <th>5</th>\n",
       "      <td>Comparative study Discrete Wavelet Transforms ...</td>\n",
       "      <td>Fourier transform infra red FTIR spectra sampl...</td>\n",
       "      <td>1</td>\n",
       "      <td>0</td>\n",
       "      <td>0</td>\n",
       "      <td>1</td>\n",
       "      <td>0</td>\n",
       "      <td>0</td>\n",
       "    </tr>\n",
       "    <tr>\n",
       "      <th>6</th>\n",
       "      <td>On maximizing fundamental frequency complement...</td>\n",
       "      <td>Let Omega subset mathbb R n bounded domain sat...</td>\n",
       "      <td>0</td>\n",
       "      <td>0</td>\n",
       "      <td>1</td>\n",
       "      <td>0</td>\n",
       "      <td>0</td>\n",
       "      <td>0</td>\n",
       "    </tr>\n",
       "    <tr>\n",
       "      <th>7</th>\n",
       "      <td>On rotation period shape hyperbolic asteroid 1...</td>\n",
       "      <td>We observed newly discovered hyperbolic minor ...</td>\n",
       "      <td>0</td>\n",
       "      <td>1</td>\n",
       "      <td>0</td>\n",
       "      <td>0</td>\n",
       "      <td>0</td>\n",
       "      <td>0</td>\n",
       "    </tr>\n",
       "    <tr>\n",
       "      <th>8</th>\n",
       "      <td>Adverse effects polymer coating heat transport...</td>\n",
       "      <td>The ability metallic nanoparticles supply heat...</td>\n",
       "      <td>0</td>\n",
       "      <td>1</td>\n",
       "      <td>0</td>\n",
       "      <td>0</td>\n",
       "      <td>0</td>\n",
       "      <td>0</td>\n",
       "    </tr>\n",
       "    <tr>\n",
       "      <th>9</th>\n",
       "      <td>SPH calculations Mars scale collisions role Eq...</td>\n",
       "      <td>We model large scale approx 2000km impacts Mar...</td>\n",
       "      <td>0</td>\n",
       "      <td>1</td>\n",
       "      <td>0</td>\n",
       "      <td>0</td>\n",
       "      <td>0</td>\n",
       "      <td>0</td>\n",
       "    </tr>\n",
       "    <tr>\n",
       "      <th>10</th>\n",
       "      <td>mathcal R 0 fails predict outbreak potential p...</td>\n",
       "      <td>Time varying susceptibility host individual le...</td>\n",
       "      <td>0</td>\n",
       "      <td>0</td>\n",
       "      <td>0</td>\n",
       "      <td>0</td>\n",
       "      <td>1</td>\n",
       "      <td>0</td>\n",
       "    </tr>\n",
       "  </tbody>\n",
       "</table>\n",
       "</div>"
      ],
      "text/plain": [
       "                                                TITLE  ... Quantitative Finance\n",
       "ID                                                     ...                     \n",
       "1        Reconstructing Subject Specific Effect Maps   ...                    0\n",
       "2                 Rotation Invariance Neural Network   ...                    0\n",
       "3   Spherical polyharmonics Poisson kernels polyha...  ...                    0\n",
       "4   A finite element approximation stochastic Maxw...  ...                    0\n",
       "5   Comparative study Discrete Wavelet Transforms ...  ...                    0\n",
       "6   On maximizing fundamental frequency complement...  ...                    0\n",
       "7   On rotation period shape hyperbolic asteroid 1...  ...                    0\n",
       "8   Adverse effects polymer coating heat transport...  ...                    0\n",
       "9   SPH calculations Mars scale collisions role Eq...  ...                    0\n",
       "10  mathcal R 0 fails predict outbreak potential p...  ...                    0\n",
       "\n",
       "[10 rows x 8 columns]"
      ]
     },
     "execution_count": 6,
     "metadata": {
      "tags": []
     },
     "output_type": "execute_result"
    }
   ],
   "source": [
    "for index, row in df.iterrows():\n",
    "    if type(row['ABSTRACT']) is str:\n",
    "        data_text_preprocess(row['ABSTRACT'], index, 'ABSTRACT')\n",
    "    if type(row['TITLE']) is str:\n",
    "        data_text_preprocess(row['TITLE'], index, 'TITLE')\n",
    "df.head(10)"
   ]
  },
  {
   "cell_type": "code",
   "execution_count": 7,
   "metadata": {
    "colab": {},
    "colab_type": "code",
    "id": "B-TX-xEgCXzR"
   },
   "outputs": [],
   "source": [
    "\n",
    "train, test = train_test_split(df, random_state=42, test_size=0.00001, shuffle=True)\n",
    "# train.shape, test.shape\n",
    "# test = pd.read_csv(\"cleaned_test_data.csv\")"
   ]
  },
  {
   "cell_type": "code",
   "execution_count": 8,
   "metadata": {
    "colab": {
     "base_uri": "https://localhost:8080/",
     "height": 34
    },
    "colab_type": "code",
    "id": "B0AQGB91CXzT",
    "outputId": "4354616a-25c4-4569-ffd4-609be23c840a"
   },
   "outputs": [
    {
     "data": {
      "text/plain": [
       "(63471, 25180)"
      ]
     },
     "execution_count": 8,
     "metadata": {
      "tags": []
     },
     "output_type": "execute_result"
    }
   ],
   "source": [
    "\n",
    "train_words_title, test_words_title = set(), set()\n",
    "train_words_abstract, test_words_abstract = set(), set()\n",
    "for index, row in train.iterrows():\n",
    "    for  i in row['ABSTRACT'].split():\n",
    "        train_words_abstract.add(i)\n",
    "    for i in row['TITLE'].split():\n",
    "        train_words_title.add(i)\n",
    "\n",
    "for index, row in test.iterrows():\n",
    "    for  i in row['ABSTRACT'].split():\n",
    "        test_words_abstract.add(i)\n",
    "    for i in row['TITLE'].split():\n",
    "        test_words_title.add(i)\n",
    "len(train_words_abstract - test_words_abstract), len(train_words_title - test_words_title)"
   ]
  },
  {
   "cell_type": "code",
   "execution_count": 9,
   "metadata": {
    "colab": {
     "base_uri": "https://localhost:8080/",
     "height": 34
    },
    "colab_type": "code",
    "id": "ijTnsj60CXzW",
    "outputId": "ec42bdd6-655b-4e6a-c2d3-596513cb5cc9"
   },
   "outputs": [
    {
     "data": {
      "text/plain": [
       "(63555, 86, 25189, 9)"
      ]
     },
     "execution_count": 9,
     "metadata": {
      "tags": []
     },
     "output_type": "execute_result"
    }
   ],
   "source": [
    "len(train_words_abstract), len(test_words_abstract), len(train_words_title), len(test_words_title)"
   ]
  },
  {
   "cell_type": "code",
   "execution_count": 10,
   "metadata": {
    "colab": {},
    "colab_type": "code",
    "id": "FWLhszsTCXzZ"
   },
   "outputs": [],
   "source": [
    "# w2i_title, w2i_abstract = {}, {}\n",
    "# cnt = 0\n",
    "# for i in train_words_abstract:\n",
    "#     w2i_abstract.add()"
   ]
  },
  {
   "cell_type": "code",
   "execution_count": 10,
   "metadata": {
    "colab": {},
    "colab_type": "code",
    "id": "t1OCCwCqCXzb"
   },
   "outputs": [],
   "source": []
  },
  {
   "cell_type": "code",
   "execution_count": 11,
   "metadata": {
    "colab": {},
    "colab_type": "code",
    "id": "99h7UM4UCXzd"
   },
   "outputs": [],
   "source": [
    "# classifiers = {\n",
    "#     \"LogisiticRegression\": LogisticRegression(),\n",
    "#     \"KNearest\": KNeighborsClassifier(),\n",
    "#     \"Support Vector Classifier\": SVC(),\n",
    "#     \"DecisionTreeClassifier\": DecisionTreeClassifier(),\n",
    "#     \"MultinimialNB\": MultinomialNB()\n",
    "# }"
   ]
  },
  {
   "cell_type": "code",
   "execution_count": 12,
   "metadata": {
    "colab": {},
    "colab_type": "code",
    "id": "f92_7hbGCXzf"
   },
   "outputs": [],
   "source": [
    "abstract_max_len = 3000\n",
    "title_max_len = 50\n",
    "def get_label(row):\n",
    "    label = [0, 0, 0, 0, 0, 0]\n",
    "    columns = ['Computer Science', 'Physics', 'Mathematics',\n",
    "       'Statistics', 'Quantitative Biology', 'Quantitative Finance']\n",
    "    for col in range(len(columns)):\n",
    "        if row[columns[col]] == 1:\n",
    "            label[col] = 1\n",
    "    return np.array(label)\n",
    "\n",
    "def get_data(dframe):\n",
    "#     X_title_vectors = count_vectorizer.transform(dframe['TITLE'])\n",
    "#     X_abstract_vectors = count_vectorizer2.transform(dframe['ABSTRACT'])\n",
    "#     X_title_vectors = hstack([X_title_vectors, X_abstract_vectors]).toarray()\n",
    "    X_dframe = []\n",
    "    y_dframe = []\n",
    "    for index, row in tqdm(dframe.iterrows()):\n",
    "        new_abstract_seq = []\n",
    "        new_title_seq = []\n",
    "        abstract = row[\"ABSTRACT\"].split()\n",
    "        title = row[\"TITLE\"].split()\n",
    "        for i in range(abstract_max_len):\n",
    "            try: new_abstract_seq.append(abstract[i])\n",
    "            except: new_abstract_seq.append(\"__PAD__\")\n",
    "        \n",
    "        for i in range(title_max_len):\n",
    "            try: new_title_seq.append(title[i])\n",
    "            except: new_title_seq.append(\"__PAD__\")\n",
    "        y_dframe.append(get_label(row))        \n",
    "        X_dframe.append([new_abstract_seq, new_title_seq])\n",
    "    y_dframe = np.array(y_dframe)\n",
    "    print((len(X_dframe), len(X_dframe[0])), y_dframe.shape)\n",
    "    return X_dframe, y_dframe"
   ]
  },
  {
   "cell_type": "code",
   "execution_count": 13,
   "metadata": {
    "colab": {
     "base_uri": "https://localhost:8080/",
     "height": 87
    },
    "colab_type": "code",
    "id": "rom_SyQWCXzh",
    "outputId": "d197f247-a6ec-41ce-dc7f-27f4ac114460"
   },
   "outputs": [
    {
     "name": "stderr",
     "output_type": "stream",
     "text": [
      "20971it [00:19, 1058.13it/s]\n",
      "1it [00:00, 493.51it/s]"
     ]
    },
    {
     "name": "stdout",
     "output_type": "stream",
     "text": [
      "(20971, 2) (20971, 6)\n",
      "(1, 2) (1, 6)\n"
     ]
    },
    {
     "name": "stderr",
     "output_type": "stream",
     "text": [
      "\n"
     ]
    }
   ],
   "source": [
    "X, y = get_data(train)\n",
    "X_test, y_test = get_data(test)"
   ]
  },
  {
   "cell_type": "code",
   "execution_count": 14,
   "metadata": {
    "colab": {},
    "colab_type": "code",
    "id": "LfXinmXMCXzj"
   },
   "outputs": [],
   "source": [
    "batch_size = 32"
   ]
  },
  {
   "cell_type": "code",
   "execution_count": 15,
   "metadata": {
    "colab": {},
    "colab_type": "code",
    "id": "4Q5r9NYZCXzm"
   },
   "outputs": [],
   "source": [
    "sess = tf.compat.v1.Session()\n",
    "tf.compat.v1.keras.backend.set_session(sess)"
   ]
  },
  {
   "cell_type": "code",
   "execution_count": 16,
   "metadata": {
    "colab": {},
    "colab_type": "code",
    "id": "d635yyCKCXzo"
   },
   "outputs": [],
   "source": [
    "def ElmoEmbedding1(x):\n",
    "    return elmo_model(inputs={\n",
    "                            \"tokens\": tf.squeeze(tf.cast(x, tf.string)),\n",
    "                            \"sequence_len\": tf.constant(batch_size*[abstract_max_len])\n",
    "                      },\n",
    "                      signature=\"tokens\",\n",
    "                      as_dict=True)[\"elmo\"]\n",
    "def ElmoEmbedding2(x):\n",
    "    return elmo_model(inputs={\n",
    "                            \"tokens\": tf.squeeze(tf.cast(x, tf.string)),\n",
    "                            \"sequence_len\": tf.constant(batch_size*[title_max_len])\n",
    "                      },\n",
    "                      signature=\"tokens\",\n",
    "                      as_dict=True)[\"elmo\"]"
   ]
  },
  {
   "cell_type": "code",
   "execution_count": 17,
   "metadata": {
    "colab": {},
    "colab_type": "code",
    "id": "F6K3fmMPCXzp"
   },
   "outputs": [],
   "source": [
    "tf.compat.v1.disable_eager_execution()\n",
    "elmo_model = hub.Module(\"https://tfhub.dev/google/elmo/3\", trainable=True)\n",
    "sess.run(tf.compat.v1.global_variables_initializer())\n",
    "sess.run(tf.compat.v1.tables_initializer())"
   ]
  },
  {
   "cell_type": "code",
   "execution_count": 18,
   "metadata": {
    "colab": {
     "base_uri": "https://localhost:8080/",
     "height": 87
    },
    "colab_type": "code",
    "id": "C4pVDAEOCXzt",
    "outputId": "3806ccc9-266c-4beb-beb9-ed82da995515"
   },
   "outputs": [
    {
     "name": "stdout",
     "output_type": "stream",
     "text": [
      "INFO:tensorflow:Saver not created because there are no variables in the graph to restore\n"
     ]
    },
    {
     "name": "stderr",
     "output_type": "stream",
     "text": [
      "INFO:tensorflow:Saver not created because there are no variables in the graph to restore\n"
     ]
    },
    {
     "name": "stdout",
     "output_type": "stream",
     "text": [
      "WARNING:tensorflow:Layer lstm will not use cuDNN kernel since it doesn't meet the cuDNN kernel criteria. It will use generic GPU kernel as fallback when running on GPU\n"
     ]
    },
    {
     "name": "stderr",
     "output_type": "stream",
     "text": [
      "WARNING:tensorflow:Layer lstm will not use cuDNN kernel since it doesn't meet the cuDNN kernel criteria. It will use generic GPU kernel as fallback when running on GPU\n"
     ]
    }
   ],
   "source": [
    "input_text1 = Input(shape=(title_max_len,), dtype=\"string\", name=\"input\")\n",
    "embedding1 = Lambda(ElmoEmbedding2, output_shape=(100), name=\"embedding\")(input_text1)\n",
    "# input_text2 = Input(shape=(title_max_len,), dtype=tf.string)\n",
    "# embedding2 = Lambda(ElmoEmbedding2, output_shape=(None, 1024))(input_text2)\n",
    "# embedding = concatenate([embedding1, embedding2])\n",
    "x = LSTM(128)(embedding1)\n",
    "# # x_rnn = Bidirectional(LSTM(units=64, return_sequences=True\n",
    "# #                            ), name=\"bi2\")(x)\n",
    "\n",
    "# x_rnn = Dense(256, activation=\"relu\", name=\"dense1\")(embedding1)\n",
    "# x = add([x, x_rnn])  # residual connection to the first biLSTM\n",
    "out = Dense(6, activation=\"sigmoid\", name=\"dense\")(x)\n",
    "\n",
    "model = Model(inputs=input_text1, outputs=out)"
   ]
  },
  {
   "cell_type": "code",
   "execution_count": 19,
   "metadata": {
    "colab": {
     "base_uri": "https://localhost:8080/",
     "height": 298
    },
    "colab_type": "code",
    "id": "dF9hNlz4CXzv",
    "outputId": "3272aa91-8be3-4d5e-b5e9-4abb026fafd7"
   },
   "outputs": [
    {
     "name": "stdout",
     "output_type": "stream",
     "text": [
      "Model: \"functional_1\"\n",
      "_________________________________________________________________\n",
      "Layer (type)                 Output Shape              Param #   \n",
      "=================================================================\n",
      "input (InputLayer)           [(None, 50)]              0         \n",
      "_________________________________________________________________\n",
      "embedding (Lambda)           (32, None, 1024)          0         \n",
      "_________________________________________________________________\n",
      "lstm (LSTM)                  (32, 128)                 590336    \n",
      "_________________________________________________________________\n",
      "dense (Dense)                (32, 6)                   774       \n",
      "=================================================================\n",
      "Total params: 591,110\n",
      "Trainable params: 591,110\n",
      "Non-trainable params: 0\n",
      "_________________________________________________________________\n"
     ]
    }
   ],
   "source": [
    "model.compile(loss='binary_crossentropy', optimizer='adam', metrics=['accuracy'])\n",
    "model.summary()"
   ]
  },
  {
   "cell_type": "code",
   "execution_count": 20,
   "metadata": {
    "colab": {
     "base_uri": "https://localhost:8080/",
     "height": 34
    },
    "colab_type": "code",
    "id": "_fmRfEhhCXzx",
    "outputId": "607ae6c2-1874-4d07-ae9a-5347174942a8"
   },
   "outputs": [
    {
     "data": {
      "text/plain": [
       "(20971, 3000, 50, 20971, 6)"
      ]
     },
     "execution_count": 20,
     "metadata": {
      "tags": []
     },
     "output_type": "execute_result"
    }
   ],
   "source": [
    "len(X), len(X[0][0]), len(X[0][1]), len(y), len(y[0])"
   ]
  },
  {
   "cell_type": "code",
   "execution_count": 21,
   "metadata": {
    "colab": {
     "base_uri": "https://localhost:8080/",
     "height": 175
    },
    "colab_type": "code",
    "id": "orGR_6FrCXzz",
    "outputId": "86c86700-ae2c-4d73-9b50-7f30d52176bd"
   },
   "outputs": [
    {
     "name": "stdout",
     "output_type": "stream",
     "text": [
      "Train on 20960 samples\n",
      "Epoch 1/4\n",
      "20960/20960 [==============================] - 119s 6ms/sample - loss: 0.4214 - accuracy: 0.7990\n",
      "Epoch 2/4\n",
      "20960/20960 [==============================] - 120s 6ms/sample - loss: 0.3577 - accuracy: 0.8378\n",
      "Epoch 3/4\n",
      "20960/20960 [==============================] - 120s 6ms/sample - loss: 0.3138 - accuracy: 0.8641\n",
      "Epoch 4/4\n",
      "20960/20960 [==============================] - 120s 6ms/sample - loss: 0.2905 - accuracy: 0.8749\n"
     ]
    }
   ],
   "source": [
    "X1 = [X[i][1] for i in range(len(X))]\n",
    "# total 655\n",
    "X1 = X1[:655 * batch_size]\n",
    "y1 = y[:655 * batch_size]\n",
    "# X1_test = [X_test[i][1] for i in range(len(X_test))]\n",
    "# X1_test = X1_test[:131 * batch_size]\n",
    "# y1_test = y_test[:131 * batch_size]\n",
    "history = model.fit(np.array(X1), y1, class_weight='balanced', batch_size=batch_size, epochs=4, verbose=1)"
   ]
  },
  {
   "cell_type": "code",
   "execution_count": 22,
   "metadata": {
    "colab": {
     "base_uri": "https://localhost:8080/",
     "height": 618
    },
    "colab_type": "code",
    "id": "048vZDkPCXz0",
    "outputId": "23866e4b-2d93-4ffa-b53f-68ac1752215e"
   },
   "outputs": [
    {
     "name": "stderr",
     "output_type": "stream",
     "text": [
      "\r",
      "  0%|          | 0/25 [00:00<?, ?it/s]"
     ]
    },
    {
     "name": "stdout",
     "output_type": "stream",
     "text": [
      "WARNING:tensorflow:From /usr/local/lib/python3.6/dist-packages/tensorflow/python/keras/engine/training_v1.py:2070: Model.state_updates (from tensorflow.python.keras.engine.training) is deprecated and will be removed in a future version.\n",
      "Instructions for updating:\n",
      "This property should not be used in TensorFlow 2.0, as updates are applied automatically.\n"
     ]
    },
    {
     "name": "stderr",
     "output_type": "stream",
     "text": [
      "WARNING:tensorflow:From /usr/local/lib/python3.6/dist-packages/tensorflow/python/keras/engine/training_v1.py:2070: Model.state_updates (from tensorflow.python.keras.engine.training) is deprecated and will be removed in a future version.\n",
      "Instructions for updating:\n",
      "This property should not be used in TensorFlow 2.0, as updates are applied automatically.\n",
      "100%|██████████| 25/25 [00:04<00:00,  5.65it/s]\n"
     ]
    },
    {
     "name": "stdout",
     "output_type": "stream",
     "text": [
      "Micro-average quality numbers for val 0.05\n",
      "Precision: 0.2994, Recall: 0.8040, F1-measure: 0.4363\n",
      "Micro-average quality numbers for val 0.04\n",
      "Precision: 0.2929, Recall: 0.8677, F1-measure: 0.4380\n",
      "Micro-average quality numbers for val 0.03\n",
      "Precision: 0.2900, Recall: 0.9154, F1-measure: 0.4405\n",
      "Micro-average quality numbers for val 0.02\n",
      "Precision: 0.2695, Recall: 0.9473, F1-measure: 0.4197\n",
      "Micro-average quality numbers for val 0.1\n",
      "Precision: 0.3127, Recall: 0.6030, F1-measure: 0.4118\n",
      "Micro-average quality numbers for val 0.2\n",
      "Precision: 0.3264, Recall: 0.4806, F1-measure: 0.3887\n",
      "Micro-average quality numbers for val 0.3\n",
      "Precision: 0.3323, Recall: 0.4119, F1-measure: 0.3678\n",
      "Micro-average quality numbers for val 0.4\n",
      "Precision: 0.3357, Recall: 0.3264, F1-measure: 0.3310\n",
      "Micro-average quality numbers for val 0.5\n",
      "Precision: 0.3548, Recall: 0.2637, F1-measure: 0.3025\n",
      "Micro-average quality numbers for val 0.6\n",
      "Precision: 0.3537, Recall: 0.2249, F1-measure: 0.2749\n",
      "Micro-average quality numbers for val 0.7\n",
      "Precision: 0.3570, Recall: 0.1851, F1-measure: 0.2438\n",
      "Micro-average quality numbers for val 0.8\n",
      "Precision: 0.3391, Recall: 0.1164, F1-measure: 0.1733\n",
      "Micro-average quality numbers for val 0.9\n",
      "Precision: 0.2133, Recall: 0.0159, F1-measure: 0.0296\n"
     ]
    }
   ],
   "source": [
    "from sklearn.metrics import precision_score, recall_score, f1_score\n",
    "# total 655\n",
    "X1_test = X1[-25 * batch_size:]\n",
    "y1_test = y[-25 * batch_size:]\n",
    "def divide_chunks(l, n): \n",
    "      \n",
    "    # looping till length l \n",
    "    for i in range(0, len(l), n):  \n",
    "        yield l[i:i + n] \n",
    "x_test = list(divide_chunks(X1_test, batch_size))\n",
    "\n",
    "# y_test = divide_chunks(y_test, batch_size)\n",
    "predictions = []\n",
    "for x in tqdm(x_test):\n",
    "  for i in model.predict(np.array(x)):\n",
    "    predictions.append(i)\n",
    "\n",
    "\n",
    "predictions = np.array(predictions)\n",
    "thresholds=[.05, .04, .03, .02, 0.1,0.2,0.3,0.4,0.5,0.6,0.7,0.8,0.9]\n",
    "for val in thresholds:\n",
    "    pred=predictions.copy()\n",
    "\n",
    "    pred[pred>=val]=1\n",
    "    pred[pred<val]=0\n",
    "  \n",
    "    precision = precision_score(y1_test, pred, average='micro')\n",
    "    recall = recall_score(y1_test, pred, average='micro')\n",
    "    f1 = f1_score(y1_test, pred, average='micro')\n",
    "   \n",
    "    print(\"Micro-average quality numbers for val \" + str(val))\n",
    "    print(\"Precision: {:.4f}, Recall: {:.4f}, F1-measure: {:.4f}\".format(precision, recall, f1))"
   ]
  },
  {
   "cell_type": "code",
   "execution_count": 22,
   "metadata": {
    "colab": {},
    "colab_type": "code",
    "id": "G8nJkWw7CXz2"
   },
   "outputs": [],
   "source": []
  },
  {
   "cell_type": "code",
   "execution_count": 34,
   "metadata": {
    "colab": {},
    "colab_type": "code",
    "id": "Fm7RdsU4EqOW"
   },
   "outputs": [],
   "source": []
  },
  {
   "cell_type": "code",
   "execution_count": 35,
   "metadata": {
    "colab": {
     "base_uri": "https://localhost:8080/",
     "height": 34
    },
    "colab_type": "code",
    "id": "xi2v7DsQFvrL",
    "outputId": "90a4743f-1d5c-44b0-8f74-ca1d9dcb6a1d"
   },
   "outputs": [
    {
     "data": {
      "text/plain": [
       "(8989, 3)"
      ]
     },
     "execution_count": 35,
     "metadata": {
      "tags": []
     },
     "output_type": "execute_result"
    }
   ],
   "source": [
    "tdf.shape"
   ]
  },
  {
   "cell_type": "code",
   "execution_count": 36,
   "metadata": {
    "colab": {
     "base_uri": "https://localhost:8080/",
     "height": 34
    },
    "colab_type": "code",
    "id": "oorsIHqGFw_U",
    "outputId": "06b93670-b593-46fa-8db1-e162a671022f"
   },
   "outputs": [
    {
     "name": "stderr",
     "output_type": "stream",
     "text": [
      "8989it [00:07, 1174.64it/s]\n"
     ]
    }
   ],
   "source": [
    "def data_test_preprocess(total_text):\n",
    "    # Remove int values from text data as that might not be imp\n",
    "    if type(total_text) is not int:\n",
    "        string = \"\"\n",
    "        # replacing all special char with space\n",
    "        total_text = re.sub('[^a-zA-Z0-9\\n]', ' ', str(total_text))\n",
    "        # replacing multiple spaces with single space\n",
    "        total_text = re.sub('\\s+',' ', str(total_text))\n",
    "        # bring whole text to same lower-case scale.\n",
    "#         total_text = total_text.lower()\n",
    "        \n",
    "        for word in total_text.split():\n",
    "        # if the word is a not a stop word then retain that word from text\n",
    "            if not word in stop_words:\n",
    "                string += word + \" \"\n",
    "        \n",
    "    return string\n",
    "def get_test_data(dframe):\n",
    "#     X_title_vectors = count_vectorizer.transform(dframe['TITLE'])\n",
    "#     X_abstract_vectors = count_vectorizer2.transform(dframe['ABSTRACT'])\n",
    "#     X_title_vectors = hstack([X_title_vectors, X_abstract_vectors]).toarray()\n",
    "    X_dframe = []\n",
    "    y_dframe = []\n",
    "    for index, row in tqdm(dframe.iterrows()):\n",
    "        new_abstract_seq = []\n",
    "        new_title_seq = []\n",
    "        abstract = row[\"ABSTRACT\"].split()\n",
    "        title = data_test_preprocess(row[\"TITLE\"]).split()\n",
    "        for i in range(abstract_max_len):\n",
    "            try: new_abstract_seq.append(abstract[i])\n",
    "            except: new_abstract_seq.append(\"__PAD__\")\n",
    "        \n",
    "        for i in range(title_max_len):\n",
    "            try: new_title_seq.append(title[i])\n",
    "            except: new_title_seq.append(\"__PAD__\")\n",
    "        # y_dframe.append(get_label(row))        \n",
    "        X_dframe.append(new_title_seq)\n",
    "    # y_dframe = np.array(y_dframe)\n",
    "    # print((len(X_dframe), len(X_dframe[0])), y_dframe.shape)\n",
    "    return X_dframe\n",
    "\n",
    "columns = ['Computer Science', 'Physics', 'Mathematics',\n",
    "       'Statistics', 'Quantitative Biology', 'Quantitative Finance']\n",
    "# for i in columns:\n",
    "#   tdf[i] = pd.Series(np.zeros(len(tdf)))\n",
    "X_test = get_test_data(tdf)\n",
    "\n"
   ]
  },
  {
   "cell_type": "code",
   "execution_count": 37,
   "metadata": {
    "colab": {
     "base_uri": "https://localhost:8080/",
     "height": 52
    },
    "colab_type": "code",
    "id": "sRRgmLn4GRU8",
    "outputId": "81a32a90-e270-4d2f-987d-5c514cbe721d"
   },
   "outputs": [
    {
     "name": "stderr",
     "output_type": "stream",
     "text": [
      "100%|██████████| 281/281 [00:45<00:00,  6.13it/s]\n"
     ]
    },
    {
     "data": {
      "text/plain": [
       "8992"
      ]
     },
     "execution_count": 37,
     "metadata": {
      "tags": []
     },
     "output_type": "execute_result"
    }
   ],
   "source": [
    "def divide_chunks(l, n): \n",
    "      \n",
    "    # looping till length l \n",
    "    for i in range(0, len(l), n):  \n",
    "        yield l[i:i + n] \n",
    "x_test = list(divide_chunks(X_test, batch_size))\n",
    "for i in range(3): x_test[-1].append(['__PAD__'] * title_max_len)\n",
    "# y_test = divide_chunks(y_test, batch_size)\n",
    "predictions = []\n",
    "for x in tqdm(x_test):\n",
    "  for i in model.predict(np.array(x)):\n",
    "    predictions.append([1 if a >= .4 else 0 for a in i])\n",
    "len(predictions)"
   ]
  },
  {
   "cell_type": "code",
   "execution_count": 38,
   "metadata": {
    "colab": {},
    "colab_type": "code",
    "id": "_o0zKrnGG_-t"
   },
   "outputs": [],
   "source": [
    "for col in range(len(columns)):\n",
    "    tdf[columns[col]] = pd.Series(np.array([i[col] for i in predictions[:-3]], dtype='int'))"
   ]
  },
  {
   "cell_type": "code",
   "execution_count": 39,
   "metadata": {
    "colab": {
     "base_uri": "https://localhost:8080/",
     "height": 296
    },
    "colab_type": "code",
    "id": "ItcHFKm3Jel2",
    "outputId": "3a8ee79e-b377-41c8-93f4-db1657009549"
   },
   "outputs": [
    {
     "data": {
      "text/html": [
       "<div>\n",
       "<style scoped>\n",
       "    .dataframe tbody tr th:only-of-type {\n",
       "        vertical-align: middle;\n",
       "    }\n",
       "\n",
       "    .dataframe tbody tr th {\n",
       "        vertical-align: top;\n",
       "    }\n",
       "\n",
       "    .dataframe thead th {\n",
       "        text-align: right;\n",
       "    }\n",
       "</style>\n",
       "<table border=\"1\" class=\"dataframe\">\n",
       "  <thead>\n",
       "    <tr style=\"text-align: right;\">\n",
       "      <th></th>\n",
       "      <th>ID</th>\n",
       "      <th>TITLE</th>\n",
       "      <th>ABSTRACT</th>\n",
       "      <th>Computer Science</th>\n",
       "      <th>Physics</th>\n",
       "      <th>Mathematics</th>\n",
       "      <th>Statistics</th>\n",
       "      <th>Quantitative Biology</th>\n",
       "      <th>Quantitative Finance</th>\n",
       "    </tr>\n",
       "  </thead>\n",
       "  <tbody>\n",
       "    <tr>\n",
       "      <th>8984</th>\n",
       "      <td>29957</td>\n",
       "      <td>Supporting mixed-datatype matrix multiplicatio...</td>\n",
       "      <td>We approach the problem of implementing mixe...</td>\n",
       "      <td>1</td>\n",
       "      <td>0</td>\n",
       "      <td>0</td>\n",
       "      <td>0</td>\n",
       "      <td>0</td>\n",
       "      <td>0</td>\n",
       "    </tr>\n",
       "    <tr>\n",
       "      <th>8985</th>\n",
       "      <td>29958</td>\n",
       "      <td>An axiomatic basis for Blackwell optimality</td>\n",
       "      <td>In the theory of Markov decision processes (...</td>\n",
       "      <td>0</td>\n",
       "      <td>0</td>\n",
       "      <td>1</td>\n",
       "      <td>0</td>\n",
       "      <td>0</td>\n",
       "      <td>0</td>\n",
       "    </tr>\n",
       "    <tr>\n",
       "      <th>8986</th>\n",
       "      <td>29959</td>\n",
       "      <td>GeneVis - An interactive visualization tool fo...</td>\n",
       "      <td>GeneVis is a web-based tool to visualize com...</td>\n",
       "      <td>1</td>\n",
       "      <td>0</td>\n",
       "      <td>0</td>\n",
       "      <td>0</td>\n",
       "      <td>0</td>\n",
       "      <td>0</td>\n",
       "    </tr>\n",
       "    <tr>\n",
       "      <th>8987</th>\n",
       "      <td>29960</td>\n",
       "      <td>Quantifying the causal effect of speed cameras...</td>\n",
       "      <td>This paper quantifies the effect of speed ca...</td>\n",
       "      <td>1</td>\n",
       "      <td>0</td>\n",
       "      <td>0</td>\n",
       "      <td>0</td>\n",
       "      <td>0</td>\n",
       "      <td>0</td>\n",
       "    </tr>\n",
       "    <tr>\n",
       "      <th>8988</th>\n",
       "      <td>29961</td>\n",
       "      <td>Cube-magic labelings of grids</td>\n",
       "      <td>We show that the vertices and edges of a $d$...</td>\n",
       "      <td>0</td>\n",
       "      <td>1</td>\n",
       "      <td>0</td>\n",
       "      <td>0</td>\n",
       "      <td>0</td>\n",
       "      <td>0</td>\n",
       "    </tr>\n",
       "  </tbody>\n",
       "</table>\n",
       "</div>"
      ],
      "text/plain": [
       "         ID  ... Quantitative Finance\n",
       "8984  29957  ...                    0\n",
       "8985  29958  ...                    0\n",
       "8986  29959  ...                    0\n",
       "8987  29960  ...                    0\n",
       "8988  29961  ...                    0\n",
       "\n",
       "[5 rows x 9 columns]"
      ]
     },
     "execution_count": 39,
     "metadata": {
      "tags": []
     },
     "output_type": "execute_result"
    }
   ],
   "source": [
    "np.array([i[0] for i in predictions], dtype='int').shape\n",
    "tdf.tail()"
   ]
  },
  {
   "cell_type": "code",
   "execution_count": 40,
   "metadata": {
    "colab": {
     "base_uri": "https://localhost:8080/",
     "height": 34
    },
    "colab_type": "code",
    "id": "Q_pdqWa4K0As",
    "outputId": "d8290ab8-a583-46ba-daf9-c697f80bb8c3"
   },
   "outputs": [
    {
     "data": {
      "text/plain": [
       "[1, 0, 0, 0, 0, 0]"
      ]
     },
     "execution_count": 40,
     "metadata": {
      "tags": []
     },
     "output_type": "execute_result"
    }
   ],
   "source": [
    "predictions[2]"
   ]
  },
  {
   "cell_type": "code",
   "execution_count": 41,
   "metadata": {
    "colab": {
     "base_uri": "https://localhost:8080/",
     "height": 52
    },
    "colab_type": "code",
    "id": "vzi03k7kLBdy",
    "outputId": "cd6d60a5-1d7e-42f1-b392-f9571e8f204e"
   },
   "outputs": [
    {
     "data": {
      "text/plain": [
       "array([0.72280216, 0.10740352, 0.08046275, 0.29803416, 0.01869419,\n",
       "       0.01404533], dtype=float32)"
      ]
     },
     "execution_count": 41,
     "metadata": {
      "tags": []
     },
     "output_type": "execute_result"
    }
   ],
   "source": [
    "model.predict(np.array(x_test[0]))[2]"
   ]
  },
  {
   "cell_type": "code",
   "execution_count": 42,
   "metadata": {
    "colab": {
     "base_uri": "https://localhost:8080/",
     "height": 1000
    },
    "colab_type": "code",
    "id": "5dtAaPlDP0Kn",
    "outputId": "9b3a1d13-8bc3-4867-ce7a-163f6c3f63dc"
   },
   "outputs": [
    {
     "data": {
      "text/plain": [
       "array([[0.6652789 , 0.12561578, 0.10697913, 0.29570392, 0.01836482,\n",
       "        0.0139255 ],\n",
       "       [0.03243079, 0.9366568 , 0.0191991 , 0.0198519 , 0.05218285,\n",
       "        0.00171585],\n",
       "       [0.72280216, 0.10740352, 0.08046275, 0.29803416, 0.01869419,\n",
       "        0.01404533],\n",
       "       [0.03180129, 0.93736804, 0.02956013, 0.01462927, 0.0284368 ,\n",
       "        0.00193852],\n",
       "       [0.7980398 , 0.04870107, 0.08097835, 0.37299606, 0.01735544,\n",
       "        0.01391456],\n",
       "       [0.4701133 , 0.05326371, 0.4039638 , 0.3998072 , 0.01700091,\n",
       "        0.01606234],\n",
       "       [0.20794904, 0.10298873, 0.4957281 , 0.24195234, 0.0521876 ,\n",
       "        0.01755814],\n",
       "       [0.848039  , 0.04924179, 0.04754103, 0.38169077, 0.02247345,\n",
       "        0.01276019],\n",
       "       [0.8195565 , 0.0667709 , 0.03500466, 0.43374592, 0.05039704,\n",
       "        0.01039165],\n",
       "       [0.08453792, 0.7403252 , 0.16051406, 0.03126684, 0.01515681,\n",
       "        0.00543934],\n",
       "       [0.14468615, 0.6288016 , 0.18627241, 0.04095264, 0.01252645,\n",
       "        0.00744868],\n",
       "       [0.86940265, 0.04054559, 0.05306384, 0.38383773, 0.01491401,\n",
       "        0.01412668],\n",
       "       [0.10338029, 0.778022  , 0.14181738, 0.02953433, 0.01042935,\n",
       "        0.00602502],\n",
       "       [0.6593682 , 0.13420747, 0.08520298, 0.3097443 , 0.02830471,\n",
       "        0.01238986],\n",
       "       [0.75413424, 0.11611753, 0.06143233, 0.27873737, 0.01982878,\n",
       "        0.01460798],\n",
       "       [0.8052331 , 0.07179619, 0.06347343, 0.40007406, 0.02398505,\n",
       "        0.01410125],\n",
       "       [0.0526626 , 0.89257014, 0.06934658, 0.01599   , 0.01747404,\n",
       "        0.00346545],\n",
       "       [0.8530189 , 0.04907084, 0.04917895, 0.4036996 , 0.02287589,\n",
       "        0.012784  ],\n",
       "       [0.5392437 , 0.07213248, 0.11870926, 0.48329416, 0.17305304,\n",
       "        0.01497444],\n",
       "       [0.8065852 , 0.06545562, 0.06031598, 0.32959488, 0.02161489,\n",
       "        0.01421465],\n",
       "       [0.5652669 , 0.06501569, 0.27004746, 0.39128265, 0.01797024,\n",
       "        0.01445045],\n",
       "       [0.0820304 , 0.71183425, 0.23287866, 0.02617647, 0.0109513 ,\n",
       "        0.00769819],\n",
       "       [0.83643824, 0.05083926, 0.06123971, 0.35823193, 0.01572124,\n",
       "        0.01428025],\n",
       "       [0.8057045 , 0.07219657, 0.06741647, 0.34817454, 0.01694659,\n",
       "        0.01557885],\n",
       "       [0.04068401, 0.91541195, 0.05811545, 0.01221335, 0.01441113,\n",
       "        0.00299711],\n",
       "       [0.77192706, 0.0880738 , 0.08145444, 0.3263823 , 0.01720733,\n",
       "        0.01661969],\n",
       "       [0.6442042 , 0.06502888, 0.07831992, 0.4649654 , 0.14714396,\n",
       "        0.01495973],\n",
       "       [0.03996046, 0.90193915, 0.04639906, 0.01967072, 0.03200301,\n",
       "        0.00254116],\n",
       "       [0.03173469, 0.9577248 , 0.02255349, 0.01038491, 0.01808327,\n",
       "        0.00181308],\n",
       "       [0.39246044, 0.44235322, 0.1110463 , 0.14989148, 0.02752685,\n",
       "        0.01093419],\n",
       "       [0.8171275 , 0.07853972, 0.03538134, 0.40017128, 0.04428422,\n",
       "        0.01082476],\n",
       "       [0.35428488, 0.08089796, 0.31171003, 0.4834633 , 0.07295786,\n",
       "        0.00886234]], dtype=float32)"
      ]
     },
     "execution_count": 42,
     "metadata": {
      "tags": []
     },
     "output_type": "execute_result"
    }
   ],
   "source": [
    "model.predict(np.array(x_test[0]))"
   ]
  },
  {
   "cell_type": "code",
   "execution_count": 43,
   "metadata": {
    "colab": {},
    "colab_type": "code",
    "id": "GqXCUsGKRrx3"
   },
   "outputs": [],
   "source": [
    "tdf.drop(['TITLE', 'ABSTRACT'], axis=1).to_csv('test_submit.csv', index=False)"
   ]
  },
  {
   "cell_type": "code",
   "execution_count": 44,
   "metadata": {
    "colab": {
     "base_uri": "https://localhost:8080/",
     "height": 17
    },
    "colab_type": "code",
    "id": "IYZAIpyGSfjY",
    "outputId": "3ca7d4cc-89c7-40ce-a30f-df22b5febe16"
   },
   "outputs": [
    {
     "data": {
      "application/javascript": [
       "\n",
       "    async function download(id, filename, size) {\n",
       "      if (!google.colab.kernel.accessAllowed) {\n",
       "        return;\n",
       "      }\n",
       "      const div = document.createElement('div');\n",
       "      const label = document.createElement('label');\n",
       "      label.textContent = `Downloading \"${filename}\": `;\n",
       "      div.appendChild(label);\n",
       "      const progress = document.createElement('progress');\n",
       "      progress.max = size;\n",
       "      div.appendChild(progress);\n",
       "      document.body.appendChild(div);\n",
       "\n",
       "      const buffers = [];\n",
       "      let downloaded = 0;\n",
       "\n",
       "      const channel = await google.colab.kernel.comms.open(id);\n",
       "      // Send a message to notify the kernel that we're ready.\n",
       "      channel.send({})\n",
       "\n",
       "      for await (const message of channel.messages) {\n",
       "        // Send a message to notify the kernel that we're ready.\n",
       "        channel.send({})\n",
       "        if (message.buffers) {\n",
       "          for (const buffer of message.buffers) {\n",
       "            buffers.push(buffer);\n",
       "            downloaded += buffer.byteLength;\n",
       "            progress.value = downloaded;\n",
       "          }\n",
       "        }\n",
       "      }\n",
       "      const blob = new Blob(buffers, {type: 'application/binary'});\n",
       "      const a = document.createElement('a');\n",
       "      a.href = window.URL.createObjectURL(blob);\n",
       "      a.download = filename;\n",
       "      div.appendChild(a);\n",
       "      a.click();\n",
       "      div.remove();\n",
       "    }\n",
       "  "
      ],
      "text/plain": [
       "<IPython.core.display.Javascript object>"
      ]
     },
     "metadata": {
      "tags": []
     },
     "output_type": "display_data"
    },
    {
     "data": {
      "application/javascript": [
       "download(\"download_589987f6-8674-48af-975b-08c667e3f512\", \"test_submit.csv\", 161895)"
      ],
      "text/plain": [
       "<IPython.core.display.Javascript object>"
      ]
     },
     "metadata": {
      "tags": []
     },
     "output_type": "display_data"
    }
   ],
   "source": [
    "from google.colab import files\n",
    "files.download('test_submit.csv') "
   ]
  },
  {
   "cell_type": "code",
   "execution_count": 33,
   "metadata": {
    "colab": {},
    "colab_type": "code",
    "id": "A--RvvCjSmb7"
   },
   "outputs": [],
   "source": []
  },
  {
   "cell_type": "code",
   "execution_count": 33,
   "metadata": {
    "colab": {},
    "colab_type": "code",
    "id": "vA6qEiI5UqHF"
   },
   "outputs": [],
   "source": []
  }
 ],
 "metadata": {
  "accelerator": "GPU",
  "colab": {
   "collapsed_sections": [],
   "name": "JANATAHACK.ipynb",
   "provenance": []
  },
  "kernelspec": {
   "display_name": "Python 3",
   "language": "python",
   "name": "python3"
  },
  "language_info": {
   "codemirror_mode": {
    "name": "ipython",
    "version": 3
   },
   "file_extension": ".py",
   "mimetype": "text/x-python",
   "name": "python",
   "nbconvert_exporter": "python",
   "pygments_lexer": "ipython3",
   "version": "3.7.7"
  }
 },
 "nbformat": 4,
 "nbformat_minor": 1
}
